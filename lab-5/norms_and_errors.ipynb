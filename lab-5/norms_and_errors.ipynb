{
 "cells": [
  {
   "cell_type": "markdown",
   "metadata": {},
   "source": [
    "# MATH 2071 Lab 5 - Norms and errors\n",
    "\n",
    "Matthew Ragoza\n",
    "\n",
    "2022-01-24"
   ]
  },
  {
   "cell_type": "code",
   "execution_count": 36,
   "metadata": {},
   "outputs": [],
   "source": [
    "%matplotlib inline\n",
    "import sys\n",
    "import numpy as np\n",
    "from numpy.linalg import norm\n",
    "import pandas as pd\n",
    "import matplotlib.pyplot as plt\n",
    "import seaborn as sns\n",
    "sns.set_context('notebook')\n",
    "\n",
    "sys.path.append('code')\n",
    "import gallery"
   ]
  },
  {
   "cell_type": "markdown",
   "metadata": {},
   "source": [
    "# Exercise 1 - Vector norms\n",
    "\n",
    "- The purpose of this exercise is to learn how to define vectors and compute vector norms using `numpy`, as well as compare their output to the mathematical definitions.\n",
    "- I defined the three vectors $x_1, x_2, x_3$ using numpy arrays.\n",
    "- I computed the $L_1, L_2, L_\\infty$ norms of each vector and printed them below. The $L_1$ norm is the total absolute value of the elements in each vector. The $L_2$ norm is the Euclidean length of each vector. The $L_\\infty$ norm is the maximum absolute element in the vectors."
   ]
  },
  {
   "cell_type": "code",
   "execution_count": 15,
   "metadata": {
    "scrolled": true
   },
   "outputs": [
    {
     "name": "stdout",
     "output_type": "stream",
     "text": [
      "The L1 norm of x1 is 17.0000\n",
      "The L2 norm of x1 is 10.0499\n",
      "The Linf norm of x1 is 7.0000\n",
      "The L1 norm of x2 is 18.0000\n",
      "The L2 norm of x2 is 10.4881\n",
      "The Linf norm of x2 is 7.0000\n",
      "The L1 norm of x3 is 10.0000\n",
      "The L2 norm of x3 is 6.4807\n",
      "The Linf norm of x3 is 5.0000\n"
     ]
    }
   ],
   "source": [
    "x1 = np.array([4, 6, 7])\n",
    "x2 = np.array([7, 5, 6])\n",
    "x3 = np.array([1, 5, 4])\n",
    "\n",
    "for i, x in enumerate([x1, x2, x3]):\n",
    "    for p in [1, 2, np.inf]:\n",
    "        print(f'The L{p} norm of x{i+1} is {norm(x, p):.4f}')"
   ]
  },
  {
   "cell_type": "markdown",
   "metadata": {},
   "source": [
    "# Exercise 2 - Matrix norms\n",
    "\n",
    "The norm of a linear operator can be defined as:\n",
    "\n",
    "$$\n",
    "    \\|A\\| = \\max_{x\\neq0} \\frac{\\|Ax\\|}{\\|x\\|}\n",
    "$$\n",
    "\n",
    "In order for a matrix norm to be consistent with this definition, the following must be true:\n",
    "\n",
    "$$\n",
    "    \\|Ax\\| \\leq \\|A\\| \\|x\\|\n",
    "$$\n",
    "\n",
    "Or equivalently:\n",
    "\n",
    "$$\n",
    "    \\frac{\\|Ax\\|}{\\|A\\| \\|x\\|} \\leq 1\n",
    "$$\n",
    "\n",
    "- The goal of this section is to define matrices and compute matrix norms in `numpy`, and to check which matrix norms are compatible with different vector norms. First, I defined the matrices $A_1$ and $A_2$ below.\n",
    "- Next, I iterated over four different matrix norms, three different vector norms, both matrices, and each of the vectors I defined in the previous exercise. For each combination, I computed the norm ratio $r = \\frac{\\|Ax\\|}{\\|A\\|\\|x\\|}$ to check if any of the matrix and vector norms were incompatible with each other. I displayed the results in a table below."
   ]
  },
  {
   "cell_type": "code",
   "execution_count": 30,
   "metadata": {},
   "outputs": [
    {
     "data": {
      "text/html": [
       "<div>\n",
       "<style scoped>\n",
       "    .dataframe tbody tr th:only-of-type {\n",
       "        vertical-align: middle;\n",
       "    }\n",
       "\n",
       "    .dataframe tbody tr th {\n",
       "        vertical-align: top;\n",
       "    }\n",
       "\n",
       "    .dataframe thead th {\n",
       "        text-align: right;\n",
       "    }\n",
       "</style>\n",
       "<table border=\"1\" class=\"dataframe\">\n",
       "  <thead>\n",
       "    <tr style=\"text-align: right;\">\n",
       "      <th></th>\n",
       "      <th></th>\n",
       "      <th>compatible</th>\n",
       "    </tr>\n",
       "    <tr>\n",
       "      <th>matrix_norm</th>\n",
       "      <th>vector_norm</th>\n",
       "      <th></th>\n",
       "    </tr>\n",
       "  </thead>\n",
       "  <tbody>\n",
       "    <tr>\n",
       "      <th rowspan=\"3\" valign=\"top\">L1</th>\n",
       "      <th>L1</th>\n",
       "      <td>True</td>\n",
       "    </tr>\n",
       "    <tr>\n",
       "      <th>L2</th>\n",
       "      <td>False</td>\n",
       "    </tr>\n",
       "    <tr>\n",
       "      <th>Linf</th>\n",
       "      <td>False</td>\n",
       "    </tr>\n",
       "    <tr>\n",
       "      <th rowspan=\"3\" valign=\"top\">L2</th>\n",
       "      <th>L1</th>\n",
       "      <td>False</td>\n",
       "    </tr>\n",
       "    <tr>\n",
       "      <th>L2</th>\n",
       "      <td>True</td>\n",
       "    </tr>\n",
       "    <tr>\n",
       "      <th>Linf</th>\n",
       "      <td>False</td>\n",
       "    </tr>\n",
       "    <tr>\n",
       "      <th rowspan=\"3\" valign=\"top\">Lfro</th>\n",
       "      <th>L1</th>\n",
       "      <td>False</td>\n",
       "    </tr>\n",
       "    <tr>\n",
       "      <th>L2</th>\n",
       "      <td>True</td>\n",
       "    </tr>\n",
       "    <tr>\n",
       "      <th>Linf</th>\n",
       "      <td>False</td>\n",
       "    </tr>\n",
       "    <tr>\n",
       "      <th rowspan=\"3\" valign=\"top\">Linf</th>\n",
       "      <th>L1</th>\n",
       "      <td>False</td>\n",
       "    </tr>\n",
       "    <tr>\n",
       "      <th>L2</th>\n",
       "      <td>False</td>\n",
       "    </tr>\n",
       "    <tr>\n",
       "      <th>Linf</th>\n",
       "      <td>True</td>\n",
       "    </tr>\n",
       "  </tbody>\n",
       "</table>\n",
       "</div>"
      ],
      "text/plain": [
       "                         compatible\n",
       "matrix_norm vector_norm            \n",
       "L1          L1                 True\n",
       "            L2                False\n",
       "            Linf              False\n",
       "L2          L1                False\n",
       "            L2                 True\n",
       "            Linf              False\n",
       "Lfro        L1                False\n",
       "            L2                 True\n",
       "            Linf              False\n",
       "Linf        L1                False\n",
       "            L2                False\n",
       "            Linf               True"
      ]
     },
     "execution_count": 30,
     "metadata": {},
     "output_type": "execute_result"
    }
   ],
   "source": [
    "# check compatible matrix and vector norms\n",
    "#   where ||Ax|| <= ||A|| ||x||\n",
    "#   i.e. ||Ax|| / (||A|| ||x||) <= 1\n",
    "\n",
    "A1 = np.array([\n",
    "    [38, 37, 80],\n",
    "    [53, 49, 49],\n",
    "    [23, 85, 46]\n",
    "])\n",
    "A2 = np.array([\n",
    "    [77, 89, 78],\n",
    "    [ 6, 34, 10],\n",
    "    [65, 36, 26]\n",
    "])\n",
    "\n",
    "data = []\n",
    "for p in [1, 2, np.inf, 'fro']:\n",
    "    for q in [1, 2, np.inf]:\n",
    "        for i_A, A in enumerate([A1, A2]):\n",
    "            for i_x, x in enumerate([x1, x2, x3]):\n",
    "                r = norm(A@x, q) / (norm(A, p) * norm(x, q))\n",
    "                data.append((f'L{p}', f'L{q}', i_A+1, i_x+1, r))\n",
    "\n",
    "df = pd.DataFrame(data, columns=['matrix_norm', 'vector_norm', 'A', 'x', 'r'])\n",
    "df['compatible'] = df.r <= 1.0\n",
    "df.groupby(['matrix_norm', 'vector_norm'])[['compatible']].all()"
   ]
  },
  {
   "cell_type": "markdown",
   "metadata": {},
   "source": [
    "In this table, any combination of matrix and vector norms for which at least one input matrix-vector violated the inequality above was marked as incompatible. Otherwise, the combination was marked compatible (though this isn't necessarily true in general). We can see that for each $p$ in $[1, 2, \\infty]$, the matrix and vectors versions of the $L_p$ norm are compatible. In addition, the Frobenius matrix norm is compatible with the $L_2$ vector norm, as was expected. None of the other combinations were compatible."
   ]
  },
  {
   "cell_type": "markdown",
   "metadata": {},
   "source": [
    "# Exercise 3 - Spectral radius\n",
    "\n",
    "- The purpose of this exercise is to investigate the properties of the spectral radius. In particular, we will see why it is incompatible with the $L_2$ vector norm.\n",
    "\n",
    "- I used the provided code to generate a Jordan block matrix $A$ and a vector of ones $x$."
   ]
  },
  {
   "cell_type": "code",
   "execution_count": 46,
   "metadata": {},
   "outputs": [
    {
     "name": "stdout",
     "output_type": "stream",
     "text": [
      "[[0.5 1.  0.  0.  0.  0.  0. ]\n",
      " [0.  0.5 1.  0.  0.  0.  0. ]\n",
      " [0.  0.  0.5 1.  0.  0.  0. ]\n",
      " [0.  0.  0.  0.5 1.  0.  0. ]\n",
      " [0.  0.  0.  0.  0.5 1.  0. ]\n",
      " [0.  0.  0.  0.  0.  0.5 1. ]\n",
      " [0.  0.  0.  0.  0.  0.  0.5]]\n",
      "[1. 1. 1. 1. 1. 1. 1.]\n"
     ]
    }
   ],
   "source": [
    "A = gallery.jordan_block(7, 0.5)\n",
    "x = np.ones(7)\n",
    "print(A)\n",
    "print(x)"
   ]
  },
  {
   "cell_type": "markdown",
   "metadata": {},
   "source": [
    "- Then, I computed the eigenvalues $w$ and eigenvectors $v$ of $A$.\n",
    "- I determined the spectral radius $\\rho(A)$, that is, the size of the largest eigenvalue of $A$. The resulting value is $\\rho(A) = 0.5$."
   ]
  },
  {
   "cell_type": "code",
   "execution_count": 51,
   "metadata": {},
   "outputs": [
    {
     "data": {
      "text/plain": [
       "0.5"
      ]
     },
     "execution_count": 51,
     "metadata": {},
     "output_type": "execute_result"
    }
   ],
   "source": [
    "w, v = np.linalg.eig(A)\n",
    "rho = w.max()\n",
    "rho"
   ]
  },
  {
   "cell_type": "markdown",
   "metadata": {},
   "source": [
    "- I computed and displayed the norm ratio $r = \\frac{\\|Ax\\|}{\\|A\\|\\|x\\|}$ using both the $L_2$ matrix norm and the spectral radius. In each case, I checked for compatibility with the $L_2$ vector norm."
   ]
  },
  {
   "cell_type": "code",
   "execution_count": 52,
   "metadata": {},
   "outputs": [
    {
     "data": {
      "text/plain": [
       "(0.9537138140361155, 2.8030595529069404)"
      ]
     },
     "execution_count": 52,
     "metadata": {},
     "output_type": "execute_result"
    }
   ],
   "source": [
    "r_s = norm(A@x, 2) / (rho * norm(x, 2))\n",
    "r_2 = norm(A@x, 2) / (norm(A, 2) * norm(x, 2))\n",
    "r_2, r_s"
   ]
  },
  {
   "cell_type": "markdown",
   "metadata": {},
   "source": [
    "The ratio for the $L_2$ matrix norm was less then 1 ($r = 0.954$), indicating compatibility with the $L_2$ vector norm. However, the ratio of the spectral radius was greater than 1 ($r = 2.803$), so it is not compatible with the $L_2$ vector norm."
   ]
  },
  {
   "cell_type": "markdown",
   "metadata": {},
   "source": [
    "# Exercise 4 - Spectral radius, cont.\n",
    "\n",
    "When $\\rho(A) < 1$, it can be shown that $\\|A^k x\\| \\to 0$ as $k \\to \\infty$, for any vector norm.\n",
    "\n",
    "- The objective of this exercise is to study verify this fact about the spectral radius through a simple experiment.\n",
    "- I reused the Jordan block matrix $A$ and one vector $x$ from the previous exercise.\n",
    "- For values of $k$ from 0 to 40, I computed and printed the values of $\\|A^k x\\|$ below. The norms increase initially, but then peak and decrease, eventually approaching 0.\n",
    "- In addition, I plotted the norm values with respect to $k$. As $k$ increases, the norms follow a bell-like shape, increasing and then peaking before decaying towards 0. This is in line with the stated theorem about matrices with $\\rho(A) < 1$."
   ]
  },
  {
   "cell_type": "code",
   "execution_count": 81,
   "metadata": {},
   "outputs": [
    {
     "name": "stdout",
     "output_type": "stream",
     "text": [
      "[2.6457513110645907, 3.7080992435478315, 5.190134873006674, 7.210019070709869, 9.897719118564641, 13.350115577683214, 17.519401912148002, 21.91707866943822, 25.701745011871733, 28.067373077793317, 28.59696258674909, 27.352399715717063, 24.74300504224507, 21.321223716162205, 17.613705600877044, 14.026498226207556, 10.817315001874412, 8.110613956113234, 5.931671316287135, 4.243204781206987, 2.975964285793769, 2.0504656801593684, 1.3903358913161947, 0.9291352635521786, 0.6127662275304858, 0.39926473363533704, 0.2572829351749574, 0.16410724384414477, 0.10369332243738573, 0.06495050142903132, 0.04035462788680534, 0.024884336975687364, 0.015236997398895289, 0.009268532887678229, 0.005603251792664437, 0.003367827638323475, 0.002013208903742517, 0.0011972726796862579, 0.0007085772551226668, 0.0004174320661424895, 0.00024484677480743106]\n"
     ]
    },
    {
     "data": {
      "image/png": "[encoded data removed]",
      "text/plain": [
       "<Figure size 432x288 with 1 Axes>"
      ]
     },
     "metadata": {
      "needs_background": "light"
     },
     "output_type": "display_data"
    }
   ],
   "source": [
    "ks = np.arange(41)\n",
    "norms = [norm(np.linalg.matrix_power(A, k)@x, 2) for k in ks]\n",
    "print(norms)\n",
    "\n",
    "fig, ax = plt.subplots(1, 1, figsize=(6, 4))\n",
    "ax.plot(ks, norms)\n",
    "ax.set_xlabel('$k$')\n",
    "ax.set_ylabel('$\\|\\|A^k x\\|\\|$')\n",
    "fig.tight_layout()\n",
    "sns.despine(fig)"
   ]
  },
  {
   "cell_type": "markdown",
   "metadata": {},
   "source": [
    "# Exercise 5 - Types of Errors\n",
    "\n",
    "1. The goal of this exercise is to differentiate between the solution error $e$ (aka forward error) of an approximate solution to a linear system, and the residual error $r$ (aka backward error). I created vectors and matrices defining four different linear systems with approximate solutions below.\n",
    "\n",
    "2. For each of the four linear systems and approximate solutions, I computed the residual as $r = \\|Ax - b\\|$.\n",
    "3. For each of the four linear systems and approximate solutions, I computed the error as $e= \\|y - t\\|$.\n",
    "4. For each case, I displayed the errors and residuals in the table below."
   ]
  },
  {
   "cell_type": "code",
   "execution_count": 102,
   "metadata": {},
   "outputs": [
    {
     "data": {
      "text/html": [
       "<div>\n",
       "<style scoped>\n",
       "    .dataframe tbody tr th:only-of-type {\n",
       "        vertical-align: middle;\n",
       "    }\n",
       "\n",
       "    .dataframe tbody tr th {\n",
       "        vertical-align: top;\n",
       "    }\n",
       "\n",
       "    .dataframe thead th {\n",
       "        text-align: right;\n",
       "    }\n",
       "</style>\n",
       "<table border=\"1\" class=\"dataframe\">\n",
       "  <thead>\n",
       "    <tr style=\"text-align: right;\">\n",
       "      <th></th>\n",
       "      <th>residual</th>\n",
       "      <th>error</th>\n",
       "    </tr>\n",
       "    <tr>\n",
       "      <th>k</th>\n",
       "      <th></th>\n",
       "      <th></th>\n",
       "    </tr>\n",
       "  </thead>\n",
       "  <tbody>\n",
       "    <tr>\n",
       "      <th>1</th>\n",
       "      <td>9.999779e-13</td>\n",
       "      <td>1.414214</td>\n",
       "    </tr>\n",
       "    <tr>\n",
       "      <th>2</th>\n",
       "      <td>1.414214e-05</td>\n",
       "      <td>0.000010</td>\n",
       "    </tr>\n",
       "    <tr>\n",
       "      <th>3</th>\n",
       "      <td>2.814285e+02</td>\n",
       "      <td>140.716026</td>\n",
       "    </tr>\n",
       "    <tr>\n",
       "      <th>4</th>\n",
       "      <td>1.000000e+09</td>\n",
       "      <td>0.001000</td>\n",
       "    </tr>\n",
       "  </tbody>\n",
       "</table>\n",
       "</div>"
      ],
      "text/plain": [
       "       residual       error\n",
       "k                          \n",
       "1  9.999779e-13    1.414214\n",
       "2  1.414214e-05    0.000010\n",
       "3  2.814285e+02  140.716026\n",
       "4  1.000000e+09    0.001000"
      ]
     },
     "execution_count": 102,
     "metadata": {},
     "output_type": "execute_result"
    }
   ],
   "source": [
    "# case 1\n",
    "A1 = np.array([\n",
    "    [1, 1],\n",
    "    [1, 1 - 1e-12]\n",
    "])\n",
    "b1 = np.array([0, 0])\n",
    "x1 = np.array([1,-1])\n",
    "t1 = np.array([0, 0])\n",
    "\n",
    "# case 2\n",
    "A2 = np.array([\n",
    "    [1, 1],\n",
    "    [1, 1 - 1e-12]\n",
    "])\n",
    "b2 = np.array([1, 1])\n",
    "x2 = np.array([1.00001, 0])\n",
    "t2 = np.array([1, 0])\n",
    "\n",
    "# case 3\n",
    "A3 = np.array([\n",
    "    [1, 1],\n",
    "    [1, 1 - 1e-12]\n",
    "])\n",
    "b3 = np.array([1, 1])\n",
    "x3 = np.array([100, 100])\n",
    "t3 = np.array([1, 0])\n",
    "\n",
    "# case 4\n",
    "A4 = np.array([\n",
    "    [1e12, -1e12],\n",
    "    [1, 1]\n",
    "])\n",
    "b4 = np.array([0, 2])\n",
    "x4 = np.array([1.001, 1])\n",
    "t4 = np.array([1, 1])\n",
    "\n",
    "cases = [\n",
    "    (A1, b1, x1, t1),\n",
    "    (A2, b2, x2, t2),\n",
    "    (A3, b3, x3, t3),\n",
    "    (A4, b4, x4, t4)\n",
    "]\n",
    "\n",
    "# compute errors and residuals\n",
    "data = []\n",
    "for A, b, x, t in cases:\n",
    "    r = norm(A@x - b)\n",
    "    e = norm(x - t)\n",
    "    data.append((r, e))\n",
    "\n",
    "# create and show the results table\n",
    "df = pd.DataFrame(\n",
    "    data,\n",
    "    columns=['residual', 'error'],\n",
    "    index=range(1, len(cases)+1)\n",
    ")\n",
    "df.index.name = 'k'\n",
    "df"
   ]
  },
  {
   "cell_type": "markdown",
   "metadata": {},
   "source": [
    "Based on the table above, case 1 has a miniscule residual, but an error of 1.414. For case 2, the error and residual are both on the order of 1e-5. In case 3, the residual is twice as large as the error, but both are in the hundreds. Finally, in case 4, the residual is on the order of 1e9 but the error is just 1e-3. These four cases illustrate the range of possiblities for errors and residuals and the possible relations between them, which depend on the conditioning of the linear system."
   ]
  },
  {
   "cell_type": "markdown",
   "metadata": {},
   "source": [
    "# Exercise 6 - Relative error and sine BVP"
   ]
  },
  {
   "cell_type": "markdown",
   "metadata": {},
   "source": [
    "For this exercise, we will consider the following boundary value problem:\n",
    "\n",
    "$$\n",
    "\\begin{align}\n",
    "    u''  &= -\\frac{\\pi^2}{100} \\sin \\left(\\frac{\\pi x}{10} \\right) \\\\\n",
    "    u(0) &= 0 \\\\\n",
    "    u(5) &= 1\n",
    "\\end{align}\n",
    "$$\n",
    "\n",
    "Which has the exact solution:\n",
    "\n",
    "$$\n",
    "u = \\sin \\left( \\frac{\\pi x}{100} \\right)\n",
    "$$\n",
    "\n",
    "- I copied the contents of the provided `rope_bvp` function into the cell below, but renamed it `sine_bvp`.\n",
    "- I simplified the function signature by setting the default `n=11`.\n",
    "- I changed the default values `uleft=0.0` and `uright=1.0`.\n",
    "- Within the function body, I set the interval to $[0, 5]$.\n",
    "- I altered the matrix entries according to the described instruction."
   ]
  },
  {
   "cell_type": "code",
   "execution_count": 167,
   "metadata": {},
   "outputs": [],
   "source": [
    "def sine_bvp(n=11, uleft=0.0, uright=1.0):\n",
    "    x1 = 0.0\n",
    "    x2 = 5.0\n",
    "    x = np.linspace(x1, x2, n)\n",
    "    dx = (x2 - x1) / (n - 1)\n",
    "\n",
    "    A = np.zeros([n,n])\n",
    "    b = np.zeros(n)\n",
    "\n",
    "    # Equation 0: u0 = uleft\n",
    "    A[0,0] = 1.0\n",
    "    b[0] = uleft\n",
    "\n",
    "    # Equation K: \n",
    "    for k in range(1, n-1):\n",
    "        A[k,k-1] =  1 / dx**2\n",
    "        A[k,k]   = -2 / dx**2\n",
    "        A[k,k+1] =  1 / dx**2\n",
    "        b[k]     = -(np.pi**2)/100 * np.sin(np.pi*x[k]/10)\n",
    "\n",
    "    # Equation N-1: u(n-1) = uright\n",
    "    A[n-1,n-1] = 1.0\n",
    "    b[n-1] = uright\n",
    "\n",
    "    u = np.linalg.solve(A, b)\n",
    "    return x, u\n",
    "\n",
    "def u_exact(x):\n",
    "    return np.sin(np.pi*x/10)"
   ]
  },
  {
   "cell_type": "code",
   "execution_count": 186,
   "metadata": {},
   "outputs": [
    {
     "data": {
      "image/png": "[encoded data removed]",
      "text/plain": [
       "<Figure size 432x288 with 1 Axes>"
      ]
     },
     "metadata": {
      "needs_background": "light"
     },
     "output_type": "display_data"
    }
   ],
   "source": [
    "xn, un = sine_bvp(n=101)\n",
    "\n",
    "xe = np.linspace(0.0, 5.0, 101)\n",
    "ue = u_exact(xe)\n",
    "\n",
    "colors = sns.color_palette()\n",
    "fig, ax = plt.subplots(1, 1, figsize=(6, 4))\n",
    "ax.plot(xe, ue, label='exact', linestyle='-', color=colors[0])\n",
    "ax.plot(xn, un, label='approx', linestyle=':', color=colors[3], linewidth=2)\n",
    "ax.set_xlabel('$x$')\n",
    "ax.set_ylabel('$u(x)$')\n",
    "ax.legend(frameon=False)\n",
    "fig.tight_layout()\n",
    "sns.despine(fig)"
   ]
  },
  {
   "cell_type": "markdown",
   "metadata": {},
   "source": [
    "#### "
   ]
  },
  {
   "cell_type": "code",
   "execution_count": null,
   "metadata": {},
   "outputs": [],
   "source": []
  },
  {
   "cell_type": "code",
   "execution_count": null,
   "metadata": {},
   "outputs": [],
   "source": []
  },
  {
   "cell_type": "code",
   "execution_count": null,
   "metadata": {},
   "outputs": [],
   "source": []
  },
  {
   "cell_type": "code",
   "execution_count": null,
   "metadata": {},
   "outputs": [],
   "source": []
  }
 ],
 "metadata": {
  "kernelspec": {
   "display_name": "Python 3",
   "language": "python",
   "name": "python3"
  },
  "language_info": {
   "codemirror_mode": {
    "name": "ipython",
    "version": 3
   },
   "file_extension": ".py",
   "mimetype": "text/x-python",
   "name": "python",
   "nbconvert_exporter": "python",
   "pygments_lexer": "ipython3",
   "version": "3.7.0"
  }
 },
 "nbformat": 4,
 "nbformat_minor": 2
}
