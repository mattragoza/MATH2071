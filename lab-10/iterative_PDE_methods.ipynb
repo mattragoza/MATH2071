{
 "cells": [
  {
   "cell_type": "markdown",
   "metadata": {},
   "source": [
    "# MATH 2071 Lab 10 - Iterative methods for linear systems\n",
    "\n",
    "Matthew Ragoza\n",
    "\n",
    "4/7/2022"
   ]
  },
  {
   "cell_type": "code",
   "execution_count": 22,
   "metadata": {},
   "outputs": [],
   "source": [
    "%matplotlib inline\n",
    "import numpy as np\n",
    "import matplotlib.pyplot as plt"
   ]
  },
  {
   "cell_type": "markdown",
   "metadata": {},
   "source": [
    "## Exercise 1 - 2D uniform mesh grid\n",
    "\n",
    "The purpose of this exercise is to construct 2D mesh grids for use in solving PDEs using finite difference methods. First, we will create a function `xy_grid(M)` that returns vectors of x and y coordinates representing a uniform 2D square grid on the domain $[0,1] \\times [0,1]$ with `M` points on each side."
   ]
  },
  {
   "cell_type": "code",
   "execution_count": 116,
   "metadata": {},
   "outputs": [
    {
     "data": {
      "text/plain": [
       "(array([0. , 0. , 0. , 0.5, 0.5, 0.5, 1. , 1. , 1. ]),\n",
       " array([0. , 0.5, 1. , 0. , 0.5, 1. , 0. , 0.5, 1. ]))"
      ]
     },
     "execution_count": 116,
     "metadata": {},
     "output_type": "execute_result"
    }
   ],
   "source": [
    "def xy_grid(M):\n",
    "    N = M * M\n",
    "    h = 1 / (M - 1)\n",
    "    x = np.arange(N) // M * h\n",
    "    y = np.arange(N) % M * h\n",
    "    return x, y\n",
    "\n",
    "xy_grid(3)"
   ]
  },
  {
   "cell_type": "markdown",
   "metadata": {},
   "source": [
    "Next, we can visualize the coordinates of the mesh grids of different sizes that are returned by this function by plotting them as scatter plots."
   ]
  },
  {
   "cell_type": "code",
   "execution_count": 117,
   "metadata": {},
   "outputs": [
    {
     "data": {
      "image/png": "[encoded data removed]",
      "text/plain": [
       "<Figure size 576x288 with 2 Axes>"
      ]
     },
     "metadata": {
      "needs_background": "light"
     },
     "output_type": "display_data"
    }
   ],
   "source": [
    "def exercise1():\n",
    "    fig, ax = plt.subplots(1, 2, figsize=(8, 4))\n",
    "    for ax, M in zip(ax, [4, 6]):\n",
    "        x, y = xy_grid(M)\n",
    "        c = np.linspace(0, 1, M*M)\n",
    "        ax.scatter(x, y, c=c, cmap='rainbow')\n",
    "\n",
    "exercise1()"
   ]
  },
  {
   "cell_type": "markdown",
   "metadata": {},
   "source": [
    "The two plots above show 2D uniform mesh grids on the interval $[0, 1] \\times [0, 1]$ with different spatial resolutions. The nodes in the grid are colored according to their position in the coordinate arrays. This reveals that the nodes go from bottom to top, then left to right."
   ]
  },
  {
   "cell_type": "markdown",
   "metadata": {},
   "source": [
    "## Exercise 2 - Indexing neighor nodes\n",
    "\n",
    "The purpose of this exercise is to create a function that returns the set of neighbors of a given node, in terms of their indices in a coordinate array. The function is implemented below and assumes that the input is a flat index into a coordinate array of a 2D uniform grid of the given size $M$."
   ]
  },
  {
   "cell_type": "code",
   "execution_count": 110,
   "metadata": {},
   "outputs": [
    {
     "data": {
      "text/plain": [
       "(83, 81, 93, 71)"
      ]
     },
     "execution_count": 110,
     "metadata": {},
     "output_type": "execute_result"
    }
   ],
   "source": [
    "def neighbors(k, M):\n",
    "    assert 0 <= k < M*M\n",
    "    \n",
    "    # get x and y index\n",
    "    i, j = divmod(k, M)\n",
    "    \n",
    "    n = k + 1\n",
    "    if (j + 1) >= M:\n",
    "        n = None\n",
    "\n",
    "    s = k - 1\n",
    "    if (j - 1) < 0:\n",
    "        s = None\n",
    "    \n",
    "    e = k + M\n",
    "    if (i + 1) >= M:\n",
    "        e =  None\n",
    "        \n",
    "    w = k - M\n",
    "    if (i - 1) < 0:\n",
    "        w = None\n",
    "\n",
    "    return n, s, e, w\n",
    "\n",
    "neighbors(82, 11)"
   ]
  },
  {
   "cell_type": "markdown",
   "metadata": {},
   "source": [
    "I implemented the function above by first using `divmod` to convert the flat index into x and y indices into the 2D mesh. This makes it much simpler to determine whether a neighbor in any direction exists or if the node is on the border.\n",
    "\n",
    "Next, I tested the function by iterating over a 2D mesh grid and printing the x index, y index, flattened index, and the indices of the neighbors. The function prints \"None\" if any neighbor does not exist. We can verify that the implementation is correct from the printout below."
   ]
  },
  {
   "cell_type": "code",
   "execution_count": 143,
   "metadata": {},
   "outputs": [
    {
     "name": "stdout",
     "output_type": "stream",
     "text": [
      "i\tj\tk\tn\ts\te\tw\n",
      "0\t0\t0\t1\tNone\t5\tNone\n",
      "0\t1\t1\t2\t0\t6\tNone\n",
      "0\t2\t2\t3\t1\t7\tNone\n",
      "0\t3\t3\t4\t2\t8\tNone\n",
      "0\t4\t4\tNone\t3\t9\tNone\n",
      "1\t0\t5\t6\tNone\t10\t0\n",
      "1\t1\t6\t7\t5\t11\t1\n",
      "1\t2\t7\t8\t6\t12\t2\n",
      "1\t3\t8\t9\t7\t13\t3\n",
      "1\t4\t9\tNone\t8\t14\t4\n",
      "2\t0\t10\t11\tNone\t15\t5\n",
      "2\t1\t11\t12\t10\t16\t6\n",
      "2\t2\t12\t13\t11\t17\t7\n",
      "2\t3\t13\t14\t12\t18\t8\n",
      "2\t4\t14\tNone\t13\t19\t9\n",
      "3\t0\t15\t16\tNone\t20\t10\n",
      "3\t1\t16\t17\t15\t21\t11\n",
      "3\t2\t17\t18\t16\t22\t12\n",
      "3\t3\t18\t19\t17\t23\t13\n",
      "3\t4\t19\tNone\t18\t24\t14\n",
      "4\t0\t20\t21\tNone\tNone\t15\n",
      "4\t1\t21\t22\t20\tNone\t16\n",
      "4\t2\t22\t23\t21\tNone\t17\n",
      "4\t3\t23\t24\t22\tNone\t18\n",
      "4\t4\t24\tNone\t23\tNone\t19\n"
     ]
    }
   ],
   "source": [
    "def exercise2():\n",
    "    M = 5\n",
    "    k = 0\n",
    "    print(f'i\\tj\\tk\\tn\\ts\\te\\tw')\n",
    "    for i in range(M):\n",
    "        for j in range(M):\n",
    "            k = i * M + j\n",
    "            n, s, e, w = neighbors(k, M)\n",
    "            print(f'{i}\\t{j}\\t{k}\\t{n}\\t{s}\\t{e}\\t{w}')\n",
    "            \n",
    "exercise2()"
   ]
  },
  {
   "cell_type": "markdown",
   "metadata": {},
   "source": [
    "## Exercise 3 - Poisson matrix\n",
    "\n",
    "The Poisson equation is the simplest elliptic PDE and is described by:\n",
    "$$\n",
    "    \\Delta u = f\n",
    "$$\n",
    "\n",
    "For a 2D Cartesian coordinate system, this equates to:\n",
    "$$\n",
    "    \\frac{\\partial^2 u}{\\partial x^2} + \\frac{\\partial^2 u}{\\partial y^2} = f(x, y)\n",
    "$$\n",
    "\n",
    "We can discretize this equation using the \"five-point stencil\" approach:\n",
    "\n",
    "$$\n",
    "    \\frac{u_{i+1,j} - 2 u_{i,j} + u_{i-1,j}}{h^2} + \\frac{u_{i,j+1} - 2 u_{i,j} + u_{i,j-1}}{h^2} = f_{i,j}\n",
    "$$\n",
    "\n",
    "Which can be written as an SPD linear system.\n",
    "\n",
    "I created a function `poisson1_matrix(M)` which create an SPD matrix representing the coefficents of the five-point stencil used in solving the Poisson equation with finite differences."
   ]
  },
  {
   "cell_type": "code",
   "execution_count": 176,
   "metadata": {},
   "outputs": [
    {
     "data": {
      "text/plain": [
       "array([[16., -4.,  0., -4.,  0.,  0.,  0.,  0.,  0.],\n",
       "       [-4., 16., -4.,  0., -4.,  0.,  0.,  0.,  0.],\n",
       "       [ 0., -4., 16.,  0.,  0., -4.,  0.,  0.,  0.],\n",
       "       [-4.,  0.,  0., 16., -4.,  0., -4.,  0.,  0.],\n",
       "       [ 0., -4.,  0., -4., 16., -4.,  0., -4.,  0.],\n",
       "       [ 0.,  0., -4.,  0., -4., 16.,  0.,  0., -4.],\n",
       "       [ 0.,  0.,  0., -4.,  0.,  0., 16., -4.,  0.],\n",
       "       [ 0.,  0.,  0.,  0., -4.,  0., -4., 16., -4.],\n",
       "       [ 0.,  0.,  0.,  0.,  0., -4.,  0., -4., 16.]])"
      ]
     },
     "execution_count": 176,
     "metadata": {},
     "output_type": "execute_result"
    }
   ],
   "source": [
    "def poisson1_matrix(M):\n",
    "    N = M * M\n",
    "    h = 1 / (M - 1)\n",
    "    h2 = h * h\n",
    "    A = np.zeros((N, N))\n",
    "    for k in range(N):\n",
    "        A[k,k] = 4 / h2\n",
    "        for n in neighbors(k, M):\n",
    "            if n is not None:\n",
    "                A[k,n] = -1 / h2\n",
    "    return A\n",
    "\n",
    "poisson1_matrix(3)"
   ]
  },
  {
   "cell_type": "markdown",
   "metadata": {},
   "source": [
    "To test the Poisson matrix, I wrote a function that instantiates a Poisson matrix of for $M=3$ and checks that it is symmetric, positive definite, and has the expected eigenvectors and eigenvalues. In addition, it checks whether all of the entries in the inverse of the Poisson matrix are positive."
   ]
  },
  {
   "cell_type": "code",
   "execution_count": 177,
   "metadata": {},
   "outputs": [
    {
     "name": "stdout",
     "output_type": "stream",
     "text": [
      "A^T - A = 0.0\n",
      "v^T A v = 27.911171045927667\n",
      "det(A) = 26306674687.999935\n",
      "Av - yv = 2.1907147930568103e-15\n",
      "A^-1 > 0 = True\n"
     ]
    }
   ],
   "source": [
    "def exercise3():\n",
    "    M = 3\n",
    "    N = M * M\n",
    "    h = 1 / (M - 1)\n",
    "    A = poisson1_matrix(M)\n",
    "    \n",
    "    # A is symmetric\n",
    "    e = np.linalg.norm(A.T - A)\n",
    "    print(f'A^T - A = {e}')\n",
    "    \n",
    "    # A is positive definite\n",
    "    v = np.random.rand(N)\n",
    "    e = np.linalg.norm(v.dot(A @ v))\n",
    "    print(f'v^T A v = {e}')\n",
    "    \n",
    "    det_A = np.linalg.det(A)\n",
    "    print(f'det(A) = {det_A}')\n",
    "    \n",
    "    # eigenvectors\n",
    "    k1, k2 = 1, 2\n",
    "    x, y = xy_grid(M)\n",
    "    v = np.sin(k1*np.pi*x) * np.sin(k2*np.pi*y)\n",
    "    \n",
    "    y = 2*(2 - np.cos(k1*np.pi*h) - np.cos(k2*np.pi*h)) / h**2\n",
    "    e = np.linalg.norm(A@v - y*v)\n",
    "    print(f'Av - yv = {e}')\n",
    "    \n",
    "    # A is an M matrix\n",
    "    A_inv = np.linalg.inv(A)\n",
    "    print(f'A^-1 > 0 = {np.all(A_inv > 0)}')\n",
    "    \n",
    "\n",
    "exercise3()"
   ]
  },
  {
   "cell_type": "markdown",
   "metadata": {},
   "source": [
    "## Exercise 4\n",
    "\n",
    "In this exercise we will create a different type of Poisson matrix and verify some its properties. The matrix is generated by the function `poisson2_matrix(M)` which is defined below."
   ]
  },
  {
   "cell_type": "code",
   "execution_count": 175,
   "metadata": {},
   "outputs": [
    {
     "data": {
      "text/plain": [
       "array([[  8.,  -1.,   0.,  -3.,   0.,   0.,   0.,   0.,   0.],\n",
       "       [ -1.,  16.,  -3.,   0.,  -5.,   0.,   0.,   0.,   0.],\n",
       "       [  0.,  -3.,  24.,   0.,   0.,  -7.,   0.,   0.,   0.],\n",
       "       [ -3.,   0.,   0.,  32.,  -7.,   0.,  -9.,   0.,   0.],\n",
       "       [  0.,  -5.,   0.,  -7.,  40.,  -9.,   0., -11.,   0.],\n",
       "       [  0.,   0.,  -7.,   0.,  -9.,  48.,   0.,   0., -13.],\n",
       "       [  0.,   0.,   0.,  -9.,   0.,   0.,  56., -13.,   0.],\n",
       "       [  0.,   0.,   0.,   0., -11.,   0., -13.,  64., -15.],\n",
       "       [  0.,   0.,   0.,   0.,   0., -13.,   0., -15.,  72.]])"
      ]
     },
     "execution_count": 175,
     "metadata": {},
     "output_type": "execute_result"
    }
   ],
   "source": [
    "def poisson2_matrix(M):\n",
    "    N = M * M\n",
    "    A = np.zeros((N, N))\n",
    "    for k in range(N):\n",
    "        A[k,k] = 8 * k + 2 * M + 2\n",
    "        n, s, e, w = neighbors(k, M)\n",
    "        if n is not None:\n",
    "            A[k,n] = -2 * k - 1\n",
    "        if s is not None:\n",
    "            A[k,s] = -2 * k + 1\n",
    "        if e is not None:\n",
    "            A[k,e] = -2 * k - M\n",
    "        if w is not None:\n",
    "            A[k,w] = -2 * k + M\n",
    "    return A\n",
    "\n",
    "poisson2_matrix(3)"
   ]
  },
  {
   "cell_type": "markdown",
   "metadata": {},
   "source": [
    "We can verify that this alternative Poisson matrix is still symmetric and positive definite. Furthermore we can visualize its sparsity structure."
   ]
  },
  {
   "cell_type": "code",
   "execution_count": 187,
   "metadata": {},
   "outputs": [
    {
     "name": "stdout",
     "output_type": "stream",
     "text": [
      "A^T - A = 0.0\n",
      "v^T A v = 1753.948578229108\n",
      "det(A) = 4.8214276188855466e+145\n",
      "A w = 7488520.0\n"
     ]
    },
    {
     "data": {
      "image/png": "[encoded data removed]",
      "text/plain": [
       "<Figure size 432x288 with 1 Axes>"
      ]
     },
     "metadata": {
      "needs_background": "light"
     },
     "output_type": "display_data"
    }
   ],
   "source": [
    "def exercise4():\n",
    "    M = 8\n",
    "    N = M * M\n",
    "    A = poisson2_matrix(M)\n",
    "    \n",
    "    # A is symmetric\n",
    "    e = np.linalg.norm(A.T - A)\n",
    "    print(f'A^T - A = {e}')\n",
    "    \n",
    "    # A is positive definite\n",
    "    v = np.random.rand(N)\n",
    "    e = np.linalg.norm(v.dot(A @ v))\n",
    "    print(f'v^T A v = {e}')\n",
    "    \n",
    "    det_A = np.linalg.det(A)\n",
    "    print(f'det(A) = {det_A}')\n",
    "    \n",
    "    plt.spy(A)\n",
    "    \n",
    "    w = np.linspace(1, N, N)**2\n",
    "    print(f'A w = {(A @ w).sum()}')\n",
    "    \n",
    "exercise4()"
   ]
  },
  {
   "cell_type": "markdown",
   "metadata": {},
   "source": [
    "## Exercise 5 - Conjugate gradient method\n",
    "\n",
    "The goal of this exercise is to implement the conjugate gradient method for solving a linear system. This method performs a k-dimensional optimization at each step k of the iteration using only linear cost, enabling it to converge to the true solution of an N dimensional system in N linear steps.\n",
    "\n",
    "I have implemented the conjugate gradient method in the function `cg1(A, b, x, m)` below, where it takes four arguments: the coefficient matrix $A$, the righthand side vector $b$, an initial solution estimate $x$, and a maximum number of steps $m$."
   ]
  },
  {
   "cell_type": "code",
   "execution_count": null,
   "metadata": {},
   "outputs": [],
   "source": [
    "def cg1(A, b, x, m):\n",
    "    '''\n",
    "    Solve Ax = b for x using the\n",
    "    conjugate gradient method.\n",
    "\n",
    "    Args:\n",
    "        A: (N, N) coefficient matrix\n",
    "        b: (N, 1) righthand side vector\n",
    "        x: (N, 1) initial guess vector\n",
    "        m: Max number of iterations\n",
    "    Returns:\n",
    "        x: (N, 1) solution vector\n",
    "    '''\n",
    "    N, _ = A.shape\n",
    "    assert A.shape == (N, N)\n",
    "    assert b.shape == (N,)\n",
    "    assert x.shape == (N,)\n",
    "    assert m > 0\n",
    "\n",
    "    # initial residual\n",
    "    r = b - A @ x\n",
    "\n",
    "    for k in range(m):\n",
    "\n",
    "        # numerator of step size\n",
    "        rho = r.dot(r)\n",
    "        if rho == 0:\n",
    "            break # found solution\n",
    "\n",
    "        # line search direction\n",
    "        if k > 0:\n",
    "            # conjugate gradient\n",
    "            beta = rho / rho_prev\n",
    "            p = r + beta * p\n",
    "        else:\n",
    "            # steepest descent\n",
    "            p = r\n",
    "        \n",
    "        # residual update direction\n",
    "        q = A @ p\n",
    "        \n",
    "        # denominator of step size\n",
    "        gamma = p.dot(q)\n",
    "        if gamma <= 0:\n",
    "            raise Exception('A is not positive definite')\n",
    "            \n",
    "        # optimal step size\n",
    "        alpha = rho / gamma\n",
    "        \n",
    "        # update solution and residual\n",
    "        x = x + alpha * p\n",
    "        r = r - alpha * q\n",
    "        rho_prev = rho\n",
    "        \n",
    "    return x"
   ]
  },
  {
   "cell_type": "markdown",
   "metadata": {},
   "source": [
    "I tested the conjugate gradient method in the function below by applying it to two different linear systems of varying sizes. For each system the algorithm was performed using 10 iterations or N iterations, and the final error and resiudal are displayed."
   ]
  },
  {
   "cell_type": "code",
   "execution_count": 218,
   "metadata": {},
   "outputs": [
    {
     "name": "stdout",
     "output_type": "stream",
     "text": [
      "M = 5\tm = 10\terror = 6.04279244e-02\tresidual = 1.32155407e+00\n",
      "M = 5\tm = 25\terror = 2.01405873e-09\tresidual = 5.69572225e-07\n",
      "M = 31\tm = 10\terror = 8.58697753e+00\tresidual = 2.42710708e+03\n",
      "M = 31\tm = 961\terror = 1.26092049e-14\tresidual = 5.78817012e-11\n"
     ]
    }
   ],
   "source": [
    "def exercise5():\n",
    "    for M in [5, 31]:\n",
    "        N = M * M\n",
    "        A = poisson2_matrix(M)\n",
    "        x_true = np.random.rand(N)\n",
    "        b = A @ x_true\n",
    "        for m in [10, N]:\n",
    "            x_pred = np.zeros(N)\n",
    "            x_pred = cg1(A, b, x_pred, m)\n",
    "            e = np.linalg.norm(x_true - x_pred)\n",
    "            r = np.linalg.norm(b - A @ x_pred)\n",
    "            print(f'M = {M}\\tm = {m}\\terror = {e:.8e}\\tresidual = {r:.8e}')\n",
    "        \n",
    "exercise5()"
   ]
  },
  {
   "cell_type": "markdown",
   "metadata": {},
   "source": [
    "We can see from the print out that the method converges to very low error in N steps. On a small system it can achieve acceptable error in even fewer steps, but the larger system is harder to solve for a fixed number of steps."
   ]
  },
  {
   "cell_type": "markdown",
   "metadata": {},
   "source": [
    "## Exercise 6 - Conjugate gradient with convergence test\n",
    "\n",
    "The purpose of this exercise is to extend the conjugate gradient method with a simple test for convergence at no added computational cost per iteration. By checking the relative residual against a tolerance parameter, we can break from the algorithm early and possibly converge to an acceptable error level in fewer than $N$ iterations. I implemented this convergence test in an improved `cg2(A, b, x, tol)` function below."
   ]
  },
  {
   "cell_type": "code",
   "execution_count": 258,
   "metadata": {},
   "outputs": [],
   "source": [
    "def cg2(A, b, x, tol):\n",
    "    '''\n",
    "    Solve Ax = b for x using the\n",
    "    conjugate gradient method.\n",
    "\n",
    "    Args:\n",
    "        A: (N, N) coefficient matrix\n",
    "        b: (N, 1) righthand side vector\n",
    "        x: (N, 1) initial guess vector\n",
    "        tol: Tolerance parameter\n",
    "    Returns:\n",
    "        x: (N, 1) solution vector\n",
    "        k: Number of iterations\n",
    "    '''\n",
    "    N, _ = A.shape\n",
    "    assert A.shape == (N, N)\n",
    "    assert b.shape == (N,)\n",
    "    assert x.shape == (N,)\n",
    "    assert tol >= 0\n",
    "\n",
    "    # initial residual\n",
    "    r = b - A @ x\n",
    "    \n",
    "    target = (tol * np.linalg.norm(b))**2\n",
    "\n",
    "    for k in range(N):\n",
    "\n",
    "        # numerator of step size\n",
    "        rho = r.dot(r)\n",
    "        if rho <= target:\n",
    "            break # found solution\n",
    "\n",
    "        # line search direction\n",
    "        if k > 0:\n",
    "            # conjugate gradient\n",
    "            beta = rho / rho_prev\n",
    "            p = r + beta * p\n",
    "        else:\n",
    "            # steepest descent\n",
    "            p = r\n",
    "        \n",
    "        # residual update direction\n",
    "        q = A @ p\n",
    "        \n",
    "        # denominator of step size\n",
    "        gamma = p.dot(q)\n",
    "        if gamma <= 0:\n",
    "            raise Exception('A is not positive definite')\n",
    "            \n",
    "        # optimal step size\n",
    "        alpha = rho / gamma\n",
    "        \n",
    "        # update solution and residual\n",
    "        x = x + alpha * p\n",
    "        r = r - alpha * q\n",
    "        rho_prev = rho\n",
    "        \n",
    "    return x, k"
   ]
  },
  {
   "cell_type": "markdown",
   "metadata": {},
   "source": [
    "I tested the conjugate gradient convergence test on a 2D Poisson problem with size $N = 31^2 = 961$ and a tolerance of 1e-5. We can see from the messages below that the method converged within just 75 iterations, which is far fewer than the theoretical maximum of 961."
   ]
  },
  {
   "cell_type": "code",
   "execution_count": 265,
   "metadata": {},
   "outputs": [
    {
     "name": "stdout",
     "output_type": "stream",
     "text": [
      "error = 1.52750127e-03\n",
      "residual = 4.49531653e-01\n",
      "ratio = 9.70711334e-06\n",
      "iterations = 75 / 961\n"
     ]
    }
   ],
   "source": [
    "def exercise6(M=31):\n",
    "    N = M * M\n",
    "    A = poisson2_matrix(M)\n",
    "    x_true = np.random.rand(N)\n",
    "    b = A @ x_true\n",
    "    x_pred = np.zeros(N)\n",
    "    x_pred, k = cg2(A, b, x_pred, tol=1e-5)\n",
    "    e = np.linalg.norm(x_true - x_pred)\n",
    "    r = np.linalg.norm(b - A @ x_pred)\n",
    "    rr = r / np.linalg.norm(b)\n",
    "    print(f'error = {e:.8e}\\nresidual = {r:.8e}\\nratio = {rr:.8e}\\niterations = {k} / {N}')\n",
    "        \n",
    "exercise6()"
   ]
  },
  {
   "cell_type": "markdown",
   "metadata": {},
   "source": [
    "## Exercise 7 - Sparse Poisson matrix\n",
    "\n",
    "In this exercise, we will explore a way of representing the discrete Lapalacian in a more compact form where the matrix only stores 3 columns representing the non-zero diagonals. The generating function is defined below. For an $M \\times M$ 2D Poisson problem, the returned matrix is size $N \\times 3$, where $N = M^2$. The first column represents the main diagonal, the second is the subdiagonal (and superdiagonal, since the matrix is symmetric) and the third column represents the \"far\" diagonal."
   ]
  },
  {
   "cell_type": "code",
   "execution_count": 261,
   "metadata": {},
   "outputs": [
    {
     "data": {
      "text/plain": [
       "array([[  8.,  -1.,  -3.],\n",
       "       [ 16.,  -3.,  -5.],\n",
       "       [ 24.,   0.,  -7.],\n",
       "       [ 32.,  -7.,  -9.],\n",
       "       [ 40.,  -9., -11.],\n",
       "       [ 48.,   0., -13.],\n",
       "       [ 56., -13.,   0.],\n",
       "       [ 64., -15.,   0.],\n",
       "       [ 72.,   0.,   0.]])"
      ]
     },
     "execution_count": 261,
     "metadata": {},
     "output_type": "execute_result"
    }
   ],
   "source": [
    "def poisson3_matrix(M):\n",
    "    N = M * M\n",
    "    A = np.zeros((N, 3))\n",
    "    for k in range(N):\n",
    "        A[k,0] = 8 * k + 2 * M + 2\n",
    "        n, s, e, w = neighbors(k, M)\n",
    "        if n is not None:\n",
    "            A[k,1] = -2 * k - 1\n",
    "        if e is not None:\n",
    "            A[k,2] = -2 * k - M\n",
    "    return A\n",
    "\n",
    "poisson3_matrix(3)"
   ]
  },
  {
   "cell_type": "markdown",
   "metadata": {},
   "source": [
    "The conjugate gradient method doesn't care about how the coefficient matrix is stored, only that we can computed matrix-vector products with it. Therefore, we can use this sparse version of the Poisson matrix in a more efficient implementation of the conjugate gradient algorithm.\n",
    "\n",
    "To make this work, we must also implement a function that performs the desired matrix-vector multiply given a matrix stored in this sparse symmetric diagonal format. The necessary function is implemented below, along with a quick check that it performs the intended operation by comparison with a standard matrix-vector multiply."
   ]
  },
  {
   "cell_type": "code",
   "execution_count": 262,
   "metadata": {},
   "outputs": [
    {
     "data": {
      "text/plain": [
       "1.0841599276764049e-14"
      ]
     },
     "execution_count": 262,
     "metadata": {},
     "output_type": "execute_result"
    }
   ],
   "source": [
    "def multdiag(A, x):\n",
    "    N, _ = A.shape\n",
    "    M = int(np.sqrt(N))\n",
    "    ax = np.zeros(N)\n",
    "    k = 0\n",
    "    for i in range(M):\n",
    "        for j in range(M):\n",
    "            ax[k] = ax[k] + A[k,0] * x[k]\n",
    "            n, s, e, w = neighbors(k, M)\n",
    "            if n is not None:\n",
    "                ax[k] += A[k,1] * x[n]\n",
    "            if e is not None:\n",
    "                ax[k] += A[k,2] * x[e]\n",
    "            if s is not None:\n",
    "                ax[k] += A[k-1,1] * x[s]\n",
    "            if w is not None:\n",
    "                ax[k] += A[k-M,2] * x[w]\n",
    "            k += 1\n",
    "    return ax\n",
    "\n",
    "M = 5\n",
    "x = np.random.rand(M*M)\n",
    "A1 = poisson2_matrix(M)\n",
    "A2 = poisson3_matrix(M)\n",
    "\n",
    "np.linalg.norm(A1 @ x - multdiag(A2, x))"
   ]
  },
  {
   "cell_type": "markdown",
   "metadata": {},
   "source": [
    "We can now modify the conjugate gradient method again. This time it expects a coefficient matrix stored in sparse symmetric diagonal format and uses the `multidiag(A, x)` function to perform all of the matrix-vector multiplications."
   ]
  },
  {
   "cell_type": "code",
   "execution_count": 271,
   "metadata": {},
   "outputs": [],
   "source": [
    "def cg3(A, b, x, tol):\n",
    "    '''\n",
    "    Solve Ax = b for x using the\n",
    "    conjugate gradient method.\n",
    "\n",
    "    Args:\n",
    "        A: (N, 3) coefficient matrix, stored\n",
    "            in sparse symmetric diagonal format\n",
    "        b: (N, 1) righthand side vector\n",
    "        x: (N, 1) initial guess vector\n",
    "        tol: Tolerance parameter\n",
    "    Returns:\n",
    "        x: (N, 1) solution vector\n",
    "        k: Number of iterations\n",
    "    '''\n",
    "    N, _ = A.shape\n",
    "    assert A.shape == (N, 3)\n",
    "    assert b.shape == (N,)\n",
    "    assert x.shape == (N,)\n",
    "    assert tol >= 0\n",
    "\n",
    "    # initial residual\n",
    "    r = b - multdiag(A, x)\n",
    "    \n",
    "    target = (tol * np.linalg.norm(b))**2\n",
    "\n",
    "    for k in range(N):\n",
    "\n",
    "        # numerator of step size\n",
    "        rho = r.dot(r)\n",
    "        if rho <= target:\n",
    "            break # found solution\n",
    "\n",
    "        # line search direction\n",
    "        if k > 0:\n",
    "            # conjugate gradient\n",
    "            beta = rho / rho_prev\n",
    "            p = r + beta * p\n",
    "        else:\n",
    "            # steepest descent\n",
    "            p = r\n",
    "        \n",
    "        # residual update direction\n",
    "        q = multdiag(A, p)\n",
    "        \n",
    "        # denominator of step size\n",
    "        gamma = p.dot(q)\n",
    "        if gamma <= 0:\n",
    "            raise Exception('A is not positive definite')\n",
    "            \n",
    "        # optimal step size\n",
    "        alpha = rho / gamma\n",
    "        \n",
    "        # update solution and residual\n",
    "        x = x + alpha * p\n",
    "        r = r - alpha * q\n",
    "        rho_prev = rho\n",
    "        \n",
    "    return x, k"
   ]
  },
  {
   "cell_type": "markdown",
   "metadata": {},
   "source": [
    "We can now rerun the same test as before and verify that the method solves a 2D Poisson problem with $M = 31$ to tolerance in far fewer than $N$ steps."
   ]
  },
  {
   "cell_type": "code",
   "execution_count": 273,
   "metadata": {},
   "outputs": [
    {
     "name": "stdout",
     "output_type": "stream",
     "text": [
      "error = 1.62387448e-03\n",
      "residual = 4.58944360e-01\n",
      "ratio = 9.85351148e-06\n",
      "iterations = 74 / 961\n"
     ]
    }
   ],
   "source": [
    "def exercise7(M=31):\n",
    "    N = M * M\n",
    "    A = poisson3_matrix(M)\n",
    "    x_true = np.random.rand(N)\n",
    "    b = multdiag(A, x_true)\n",
    "    x_pred = np.zeros(N)\n",
    "    x_pred, k = cg3(A, b, x_pred, tol=1e-5)\n",
    "    e = np.linalg.norm(x_true - x_pred)\n",
    "    r = np.linalg.norm(b - multdiag(A, x_pred))\n",
    "    rr = r / np.linalg.norm(b)\n",
    "    print(f'error = {e:.8e}\\nresidual = {r:.8e}\\nratio = {rr:.8e}\\niterations = {k} / {N}')\n",
    "        \n",
    "exercise7()"
   ]
  },
  {
   "cell_type": "markdown",
   "metadata": {},
   "source": [
    "## Exercise 8 - Using sparsity to solve large systems\n",
    "\n",
    "In this exercise, we will try to solve a very large Poisson problem stored either as as standard array or as a sparse symmetric matrix. Specifically, we will rerun exercise 6 (standard storage) with $M = 400$, then rerun exercise 7 (sparse storage) with the same size."
   ]
  },
  {
   "cell_type": "code",
   "execution_count": 274,
   "metadata": {},
   "outputs": [
    {
     "ename": "MemoryError",
     "evalue": "Unable to allocate 191. GiB for an array with shape (160000, 160000) and data type float64",
     "output_type": "error",
     "traceback": [
      "\u001b[1;31m---------------------------------------------------------------------------\u001b[0m",
      "\u001b[1;31mMemoryError\u001b[0m                               Traceback (most recent call last)",
      "\u001b[1;32m<ipython-input-274-d5102d3da807>\u001b[0m in \u001b[0;36m<module>\u001b[1;34m\u001b[0m\n\u001b[1;32m----> 1\u001b[1;33m \u001b[0mexercise6\u001b[0m\u001b[1;33m(\u001b[0m\u001b[0mM\u001b[0m\u001b[1;33m=\u001b[0m\u001b[1;36m400\u001b[0m\u001b[1;33m)\u001b[0m\u001b[1;33m\u001b[0m\u001b[1;33m\u001b[0m\u001b[0m\n\u001b[0m",
      "\u001b[1;32m<ipython-input-265-957218267fce>\u001b[0m in \u001b[0;36mexercise6\u001b[1;34m(M)\u001b[0m\n\u001b[0;32m      1\u001b[0m \u001b[1;32mdef\u001b[0m \u001b[0mexercise6\u001b[0m\u001b[1;33m(\u001b[0m\u001b[0mM\u001b[0m\u001b[1;33m=\u001b[0m\u001b[1;36m31\u001b[0m\u001b[1;33m)\u001b[0m\u001b[1;33m:\u001b[0m\u001b[1;33m\u001b[0m\u001b[1;33m\u001b[0m\u001b[0m\n\u001b[0;32m      2\u001b[0m     \u001b[0mN\u001b[0m \u001b[1;33m=\u001b[0m \u001b[0mM\u001b[0m \u001b[1;33m*\u001b[0m \u001b[0mM\u001b[0m\u001b[1;33m\u001b[0m\u001b[1;33m\u001b[0m\u001b[0m\n\u001b[1;32m----> 3\u001b[1;33m     \u001b[0mA\u001b[0m \u001b[1;33m=\u001b[0m \u001b[0mpoisson2_matrix\u001b[0m\u001b[1;33m(\u001b[0m\u001b[0mM\u001b[0m\u001b[1;33m)\u001b[0m\u001b[1;33m\u001b[0m\u001b[1;33m\u001b[0m\u001b[0m\n\u001b[0m\u001b[0;32m      4\u001b[0m     \u001b[0mx_true\u001b[0m \u001b[1;33m=\u001b[0m \u001b[0mnp\u001b[0m\u001b[1;33m.\u001b[0m\u001b[0mrandom\u001b[0m\u001b[1;33m.\u001b[0m\u001b[0mrand\u001b[0m\u001b[1;33m(\u001b[0m\u001b[0mN\u001b[0m\u001b[1;33m)\u001b[0m\u001b[1;33m\u001b[0m\u001b[1;33m\u001b[0m\u001b[0m\n\u001b[0;32m      5\u001b[0m     \u001b[0mb\u001b[0m \u001b[1;33m=\u001b[0m \u001b[0mA\u001b[0m \u001b[1;33m@\u001b[0m \u001b[0mx_true\u001b[0m\u001b[1;33m\u001b[0m\u001b[1;33m\u001b[0m\u001b[0m\n",
      "\u001b[1;32m<ipython-input-252-c26916d86def>\u001b[0m in \u001b[0;36mpoisson2_matrix\u001b[1;34m(M)\u001b[0m\n\u001b[0;32m      1\u001b[0m \u001b[1;32mdef\u001b[0m \u001b[0mpoisson2_matrix\u001b[0m\u001b[1;33m(\u001b[0m\u001b[0mM\u001b[0m\u001b[1;33m)\u001b[0m\u001b[1;33m:\u001b[0m\u001b[1;33m\u001b[0m\u001b[1;33m\u001b[0m\u001b[0m\n\u001b[0;32m      2\u001b[0m     \u001b[0mN\u001b[0m \u001b[1;33m=\u001b[0m \u001b[0mM\u001b[0m \u001b[1;33m*\u001b[0m \u001b[0mM\u001b[0m\u001b[1;33m\u001b[0m\u001b[1;33m\u001b[0m\u001b[0m\n\u001b[1;32m----> 3\u001b[1;33m     \u001b[0mA\u001b[0m \u001b[1;33m=\u001b[0m \u001b[0mnp\u001b[0m\u001b[1;33m.\u001b[0m\u001b[0mzeros\u001b[0m\u001b[1;33m(\u001b[0m\u001b[1;33m(\u001b[0m\u001b[0mN\u001b[0m\u001b[1;33m,\u001b[0m \u001b[0mN\u001b[0m\u001b[1;33m)\u001b[0m\u001b[1;33m)\u001b[0m\u001b[1;33m\u001b[0m\u001b[1;33m\u001b[0m\u001b[0m\n\u001b[0m\u001b[0;32m      4\u001b[0m     \u001b[1;32mfor\u001b[0m \u001b[0mk\u001b[0m \u001b[1;32min\u001b[0m \u001b[0mrange\u001b[0m\u001b[1;33m(\u001b[0m\u001b[0mN\u001b[0m\u001b[1;33m)\u001b[0m\u001b[1;33m:\u001b[0m\u001b[1;33m\u001b[0m\u001b[1;33m\u001b[0m\u001b[0m\n\u001b[0;32m      5\u001b[0m         \u001b[0mA\u001b[0m\u001b[1;33m[\u001b[0m\u001b[0mk\u001b[0m\u001b[1;33m,\u001b[0m\u001b[0mk\u001b[0m\u001b[1;33m]\u001b[0m \u001b[1;33m=\u001b[0m \u001b[1;36m8\u001b[0m \u001b[1;33m*\u001b[0m \u001b[0mk\u001b[0m \u001b[1;33m+\u001b[0m \u001b[1;36m2\u001b[0m \u001b[1;33m*\u001b[0m \u001b[0mM\u001b[0m \u001b[1;33m+\u001b[0m \u001b[1;36m2\u001b[0m\u001b[1;33m\u001b[0m\u001b[1;33m\u001b[0m\u001b[0m\n",
      "\u001b[1;31mMemoryError\u001b[0m: Unable to allocate 191. GiB for an array with shape (160000, 160000) and data type float64"
     ]
    }
   ],
   "source": [
    "exercise6(M=400)"
   ]
  },
  {
   "cell_type": "code",
   "execution_count": 275,
   "metadata": {},
   "outputs": [
    {
     "name": "stdout",
     "output_type": "stream",
     "text": [
      "error = 1.21095355e-01\n",
      "residual = 9.49155288e+02\n",
      "ratio = 9.94181406e-06\n",
      "iterations = 221 / 160000\n"
     ]
    }
   ],
   "source": [
    "exercise7(M=400)"
   ]
  },
  {
   "cell_type": "markdown",
   "metadata": {},
   "source": [
    "We ran into a memory error when trying to create the matrix in standard storage. For $M=400$, then $N = 400^2 = 160,000$, so the Poisson matrix would require $400^4$ floating point numbers. This is around 200 GB (for 64 bit floats). In contrast, we can solve the system using the sparse storage method, which only requires $400^2 \\times 3$ floating points numbers, or about 4 MB. "
   ]
  },
  {
   "cell_type": "markdown",
   "metadata": {},
   "source": [
    "## Exercise 9 - Sparse matrix storage\n",
    "\n",
    "The objective of this exercise is to learn how to create a sparse matrix by specifying only the coordinates and values of the nonzero entries using `scipy.sparse.csc_matrix`."
   ]
  },
  {
   "cell_type": "code",
   "execution_count": 283,
   "metadata": {},
   "outputs": [
    {
     "data": {
      "text/plain": [
       "0.0"
      ]
     },
     "execution_count": 283,
     "metadata": {},
     "output_type": "execute_result"
    }
   ],
   "source": [
    "def poisson4_matrix(M):\n",
    "    from scipy.sparse import csc_matrix\n",
    "    \n",
    "    N = M**2\n",
    "    nnz = 5 * N**2 - 4 * N\n",
    "    dat = np.zeros(nnz)\n",
    "    row = np.zeros(nnz)\n",
    "    col = np.zeros(nnz)\n",
    "    \n",
    "    L = 0 # count nonzeros\n",
    "    k = 0 # count equations\n",
    "    \n",
    "    for i in range(M):\n",
    "        for j in range(M):\n",
    "            \n",
    "            dat[L] = 8 * k + 2 * M + 2\n",
    "            row[L] = k\n",
    "            col[L] = k\n",
    "            L += 1\n",
    "            \n",
    "            n, s, e, w = neighbors(k, M)\n",
    "        \n",
    "            if n is not None:\n",
    "                dat[L] = -2 * k - 1\n",
    "                row[L] = k\n",
    "                col[L] = n\n",
    "                L += 1\n",
    "                \n",
    "            if s is not None:\n",
    "                dat[L] = -2 * k + 1\n",
    "                row[L] = k\n",
    "                col[L] = s\n",
    "                L += 1\n",
    "                \n",
    "            if e is not None:\n",
    "                dat[L] = -2 * k - M\n",
    "                row[L] = k\n",
    "                col[L] = e\n",
    "                L += 1\n",
    "    \n",
    "            if w is not None:\n",
    "                dat[L] = -2 * k + M\n",
    "                row[L] = k\n",
    "                col[L] = w\n",
    "                L += 1\n",
    "            \n",
    "            k += 1\n",
    "            \n",
    "    return csc_matrix((dat, (row, col)), shape=(N, N), dtype=np.float64)\n",
    "\n",
    "np.linalg.norm(poisson4_matrix(3) - poisson2_matrix(3))"
   ]
  },
  {
   "cell_type": "markdown",
   "metadata": {},
   "source": [
    "After verifying that the above function generates a sparse matrix that represents that same exact matrix as the full array base Poisson matrix, I can used it to store coefficient matrices for solving linear systems with the conjugate gradient method. In the function below, I made minimal modifications that enable the conjugate gradient method to handle scipy sparse matrices."
   ]
  },
  {
   "cell_type": "code",
   "execution_count": 286,
   "metadata": {},
   "outputs": [],
   "source": [
    "def cg4(A, b, x, tol):\n",
    "    '''\n",
    "    Solve Ax = b for x using the\n",
    "    conjugate gradient method.\n",
    "\n",
    "    Args:\n",
    "        A: (N, N) coefficient matrix, stored\n",
    "            as a scipy.sparse.csc_matrix\n",
    "        b: (N, 1) righthand side vector\n",
    "        x: (N, 1) initial guess vector\n",
    "        tol: Tolerance parameter\n",
    "    Returns:\n",
    "        x: (N, 1) solution vector\n",
    "        k: Number of iterations\n",
    "    '''\n",
    "    N, _ = A.shape\n",
    "    assert A.shape == (N, N)\n",
    "    assert b.shape == (N,)\n",
    "    assert x.shape == (N,)\n",
    "    assert tol >= 0\n",
    "\n",
    "    # initial residual\n",
    "    r = b - A.dot(x)\n",
    "    \n",
    "    target = (tol * np.linalg.norm(b))**2\n",
    "\n",
    "    for k in range(N):\n",
    "\n",
    "        # numerator of step size\n",
    "        rho = r.dot(r)\n",
    "        if rho <= target:\n",
    "            break # found solution\n",
    "\n",
    "        # line search direction\n",
    "        if k > 0:\n",
    "            # conjugate gradient\n",
    "            beta = rho / rho_prev\n",
    "            p = r + beta * p\n",
    "        else:\n",
    "            # steepest descent\n",
    "            p = r\n",
    "        \n",
    "        # residual update direction\n",
    "        q = A.dot(p)\n",
    "        \n",
    "        # denominator of step size\n",
    "        gamma = p.dot(q)\n",
    "        if gamma <= 0:\n",
    "            raise Exception('A is not positive definite')\n",
    "            \n",
    "        # optimal step size\n",
    "        alpha = rho / gamma\n",
    "        \n",
    "        # update solution and residual\n",
    "        x = x + alpha * p\n",
    "        r = r - alpha * q\n",
    "        rho_prev = rho\n",
    "        \n",
    "    return x, k"
   ]
  },
  {
   "cell_type": "markdown",
   "metadata": {},
   "source": [
    "Finally, we can solve a 2D model Poisson problem stored as a scipy sparse matrix with the conjugate gradient method."
   ]
  },
  {
   "cell_type": "code",
   "execution_count": 288,
   "metadata": {},
   "outputs": [
    {
     "name": "stdout",
     "output_type": "stream",
     "text": [
      "error = 1.65699215e-03\n",
      "residual = 4.47613128e-01\n",
      "ratio = 9.79640124e-06\n",
      "iterations = 74 / 961\n"
     ]
    }
   ],
   "source": [
    "def exercise9(M=31):\n",
    "    N = M * M\n",
    "    A = poisson4_matrix(M)\n",
    "    x_true = np.random.rand(N)\n",
    "    b = A.dot(x_true)\n",
    "    x_pred = np.zeros(N)\n",
    "    x_pred, k = cg4(A, b, x_pred, tol=1e-5)\n",
    "    e = np.linalg.norm(x_true - x_pred)\n",
    "    r = np.linalg.norm(b - A.dot(x_pred))\n",
    "    rr = r / np.linalg.norm(b)\n",
    "    print(f'error = {e:.8e}\\nresidual = {r:.8e}\\nratio = {rr:.8e}\\niterations = {k} / {N}')\n",
    "        \n",
    "exercise9()"
   ]
  },
  {
   "cell_type": "markdown",
   "metadata": {},
   "source": [
    "We can see from the output above that the solver converged under the tolerance limit in far fewer than $N$ iterations, as expected."
   ]
  },
  {
   "cell_type": "code",
   "execution_count": null,
   "metadata": {},
   "outputs": [],
   "source": []
  },
  {
   "cell_type": "code",
   "execution_count": null,
   "metadata": {},
   "outputs": [],
   "source": []
  },
  {
   "cell_type": "code",
   "execution_count": null,
   "metadata": {},
   "outputs": [],
   "source": []
  }
 ],
 "metadata": {
  "kernelspec": {
   "display_name": "Python 3",
   "language": "python",
   "name": "python3"
  },
  "language_info": {
   "codemirror_mode": {
    "name": "ipython",
    "version": 3
   },
   "file_extension": ".py",
   "mimetype": "text/x-python",
   "name": "python",
   "nbconvert_exporter": "python",
   "pygments_lexer": "ipython3",
   "version": "3.7.6"
  }
 },
 "nbformat": 4,
 "nbformat_minor": 4
}
