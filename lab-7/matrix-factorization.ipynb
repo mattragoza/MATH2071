{
 "cells": [
  {
   "cell_type": "markdown",
   "metadata": {},
   "source": [
    "# MATH 2071 Lab 7 - Matrix factorization\n",
    "\n",
    "Matthew Ragoza\n",
    "\n",
    "2022-02-16"
   ]
  },
  {
   "cell_type": "code",
   "execution_count": null,
   "metadata": {},
   "outputs": [],
   "source": [
    "%matplotlib inline\n",
    "import sys\n",
    "import numpy as np\n",
    "from numpy.linalg import norm\n",
    "import scipy as sp\n",
    "import pandas as pd\n",
    "import matplotlib.pyplot as plt\n",
    "import seaborn as sns\n",
    "sns.set_context('notebook')\n",
    "\n",
    "sys.path.append('../lab-5/code')\n",
    "import gallery\n",
    "\n",
    "def print_mat(round=4, **kwargs):\n",
    "    for k, v in kwargs.items():\n",
    "        print(f'{k} =\\n{np.round(v, round)}')"
   ]
  },
  {
   "cell_type": "markdown",
   "metadata": {},
   "source": [
    "## Exercise 1 - Gram Schmidt method\n",
    "\n",
    "The purpose of this exercise is to implement the Gram Schmidt method for finding a matrix whose columns are an orthonormal set of vectors that span the same space as the columns of an input matrix.\n",
    "\n",
    "I implemented a function `gs(X)` that takes a matrix as input and produces an output matrix whose columns are linearly independent, normalized to unit length, and span the same space is the input matrix."
   ]
  },
  {
   "cell_type": "code",
   "execution_count": 2,
   "metadata": {},
   "outputs": [],
   "source": [
    "def gs(X):\n",
    "    '''\n",
    "    Gram Schmidt method.\n",
    "\n",
    "    Args:\n",
    "        X: M x N matrix.\n",
    "    Returns:\n",
    "        M x N_Q matrix with orthonormal columns\n",
    "            that span the same space as X.\n",
    "    '''\n",
    "    m, n = X.shape\n",
    "    \n",
    "    # accrue orthonormal vectors in Q\n",
    "    Q = []\n",
    "    \n",
    "    # for each column,\n",
    "    for j in range(n):\n",
    "        \n",
    "        X_j = X[:,j]\n",
    "    \n",
    "        # for each previous orthogonal column,\n",
    "        for i in range(len(Q)):\n",
    "\n",
    "            Q_i = Q[i]\n",
    "    \n",
    "            # compute the dot product\n",
    "            r_ij = Q_i @ X_j\n",
    "            \n",
    "            # subtract the projection\n",
    "            #   this makes them orthogonal\n",
    "            X_j = X_j - Q_i * r_ij\n",
    "\n",
    "        # normalize the vector\n",
    "        r_jj = norm(X_j)\n",
    "\n",
    "        if r_jj > 0:\n",
    "            Q.append(X_j / r_jj)\n",
    "             \n",
    "    return np.stack(Q, axis=1)"
   ]
  },
  {
   "cell_type": "markdown",
   "metadata": {},
   "source": [
    "Next, I wrote the function `exercise1(X)` which takes a matrix $X$ as input and applies the Gram Schmidt process to obtain a matrix $Q$. Then it checks if the columns of $Q$ are orthogonal by computing the error norms $\\|I - Q^\\top Q\\|$ and $\\|I - QQ^\\top\\|$. In additon, the number of rows and columns in matrix $Q$ are returned from the function."
   ]
  },
  {
   "cell_type": "code",
   "execution_count": 3,
   "metadata": {},
   "outputs": [],
   "source": [
    "def exercise1(X):\n",
    "    m, n = X.shape\n",
    "    Q = gs(X)\n",
    "    Im = np.eye(m)\n",
    "    In = np.eye(n)\n",
    "    e1 = norm(Im - Q @ Q.T)\n",
    "    e2 = norm(In - Q.T @ Q)\n",
    "    m, n_q = Q.shape\n",
    "    return e1, e2, m, n_q"
   ]
  },
  {
   "cell_type": "markdown",
   "metadata": {},
   "source": [
    "I tested my Gram Schmidt algorithm by applying it to four test matrices and collecting the error norms into a data frame, which I displayed as a table below."
   ]
  },
  {
   "cell_type": "code",
   "execution_count": 4,
   "metadata": {},
   "outputs": [
    {
     "data": {
      "text/html": [
       "<div>\n",
       "<style scoped>\n",
       "    .dataframe tbody tr th:only-of-type {\n",
       "        vertical-align: middle;\n",
       "    }\n",
       "\n",
       "    .dataframe tbody tr th {\n",
       "        vertical-align: top;\n",
       "    }\n",
       "\n",
       "    .dataframe thead th {\n",
       "        text-align: right;\n",
       "    }\n",
       "</style>\n",
       "<table border=\"1\" class=\"dataframe\">\n",
       "  <thead>\n",
       "    <tr style=\"text-align: right;\">\n",
       "      <th></th>\n",
       "      <th>matrix</th>\n",
       "      <th>e1</th>\n",
       "      <th>e2</th>\n",
       "      <th>m</th>\n",
       "      <th>n_q</th>\n",
       "    </tr>\n",
       "  </thead>\n",
       "  <tbody>\n",
       "    <tr>\n",
       "      <th>0</th>\n",
       "      <td>X1</td>\n",
       "      <td>0.000000e+00</td>\n",
       "      <td>0.000000e+00</td>\n",
       "      <td>3</td>\n",
       "      <td>3</td>\n",
       "    </tr>\n",
       "    <tr>\n",
       "      <th>1</th>\n",
       "      <td>X2</td>\n",
       "      <td>6.316753e-16</td>\n",
       "      <td>5.760479e-16</td>\n",
       "      <td>3</td>\n",
       "      <td>3</td>\n",
       "    </tr>\n",
       "    <tr>\n",
       "      <th>2</th>\n",
       "      <td>X3</td>\n",
       "      <td>1.000000e+00</td>\n",
       "      <td>2.460790e-16</td>\n",
       "      <td>4</td>\n",
       "      <td>3</td>\n",
       "    </tr>\n",
       "    <tr>\n",
       "      <th>3</th>\n",
       "      <td>X4</td>\n",
       "      <td>4.051053e-04</td>\n",
       "      <td>4.051053e-04</td>\n",
       "      <td>10</td>\n",
       "      <td>10</td>\n",
       "    </tr>\n",
       "  </tbody>\n",
       "</table>\n",
       "</div>"
      ],
      "text/plain": [
       "  matrix            e1            e2   m  n_q\n",
       "0     X1  0.000000e+00  0.000000e+00   3    3\n",
       "1     X2  6.316753e-16  5.760479e-16   3    3\n",
       "2     X3  1.000000e+00  2.460790e-16   4    3\n",
       "3     X4  4.051053e-04  4.051053e-04  10   10"
      ]
     },
     "execution_count": 4,
     "metadata": {},
     "output_type": "execute_result"
    }
   ],
   "source": [
    "X1 = np.array([\n",
    "    [1, 1, 1],\n",
    "    [0, 1, 1],\n",
    "    [0, 0, 1]\n",
    "])\n",
    "X2 = np.array([\n",
    "    [1, 1, 1],\n",
    "    [1, 1, 0],\n",
    "    [1, 0, 0]\n",
    "])\n",
    "X3 = np.array([\n",
    "    [ 2, -1,  0],\n",
    "    [-1,  2, -1],\n",
    "    [0,  -1,  2],\n",
    "    [ 0,  0, -1]\n",
    "])\n",
    "X4 = gallery.hilbert_matrix(10)\n",
    "\n",
    "data = []\n",
    "for i, X in enumerate([X1, X2, X3, X4]):\n",
    "    e1, e2, m, n_q = exercise1(X)\n",
    "    data.append((f'X{i+1}', e1, e2,m, n_q))\n",
    "\n",
    "df = pd.DataFrame(data, columns=['matrix', 'e1', 'e2', 'm', 'n_q'])\n",
    "df"
   ]
  },
  {
   "cell_type": "markdown",
   "metadata": {},
   "source": [
    "The error norms on the first three matrices are all close to machine epsilon, so the orthogonalization was accurate. However, the errors for the Hilbert matrix are on the order of 4e-4, which is relatively high. We know from previous labs that the Hilbert matrix has a high condition number, which could make it difficult to orthogonalize as well.\n",
    "\n",
    "Note that the output matrix for $X_3$ is not considered an orthogonal matrix because it is not square, as seen by its different number of rows and columns."
   ]
  },
  {
   "cell_type": "markdown",
   "metadata": {},
   "source": [
    "## Exercise 2 - Gram-Schmidt factorization\n",
    "\n",
    "The goal of this exercise is to modify the Gram Schmidt process to produce a factorization of the matrix $A \\in \\mathbb{R}^{M \\times N}$ into an orthogonal matrix $Q \\in \\mathbb{R}^{M \\times N}$ and an upper triangular matrix $R  \\in \\mathbb{R}^{N \\times N}$ such that:\n",
    "\n",
    "$$\n",
    "    A = QR\n",
    "$$\n",
    "\n",
    "I created a function `gs_factor(A)` that performs a QR decomposition on the input matrix $A$ using nearly the same algorithm as the Gram Schnidt process. I quickly tested that this produces the same Q matrices as the `gs(X)` function from the previous exercise using the four test matrices."
   ]
  },
  {
   "cell_type": "code",
   "execution_count": 6,
   "metadata": {},
   "outputs": [
    {
     "name": "stdout",
     "output_type": "stream",
     "text": [
      "0.0\n",
      "2.220446049250313e-16\n",
      "0.0\n",
      "0.00015882294813383433\n"
     ]
    }
   ],
   "source": [
    "def gs_factor(A):\n",
    "    '''\n",
    "    Factor an M x N matrix A into a N x N\n",
    "    orthogonal matrix Q and a M x N upper\n",
    "    triangular matrix R such that A = QR,\n",
    "    using the Gram Schmidt method.\n",
    "\n",
    "    Args:\n",
    "        A: M x N matrix.\n",
    "    Returns:\n",
    "        M x N orthogonal matrix Q.\n",
    "        N x N upper triangular matrix R.\n",
    "    '''\n",
    "    m, n = A.shape\n",
    "    \n",
    "    # initialize return values\n",
    "    Q = A.astype(float)\n",
    "    R = np.zeros((n, n))\n",
    "    \n",
    "    # for each column,\n",
    "    for j in range(n):\n",
    "\n",
    "        # for each previous column,\n",
    "        for i in range(j):\n",
    "\n",
    "            # compute the dot product\n",
    "            R[i,j] = Q[:,i] @ Q[:,j]\n",
    "            \n",
    "            # subtract the projection\n",
    "            #   this makes them orthogonal\n",
    "            Q[:,j] -= Q[:,i] * R[i,j]\n",
    "\n",
    "        # normalize the vector\n",
    "        R[j,j] = norm(Q[:,j])\n",
    "        assert R[j,j] > 0, 'zero column'\n",
    "        Q[:,j] /= R[j,j]\n",
    "\n",
    "    return Q, R\n",
    "\n",
    "for i, X in enumerate([X1, X2, X3, X4]):\n",
    "    Q1 = gs(X)\n",
    "    Q2 = gs_factor(X)[0]\n",
    "    print(norm(Q1 - Q2))"
   ]
  },
  {
   "cell_type": "markdown",
   "metadata": {},
   "source": [
    "I created a function `exercise2(A)` that takes a matrix $A$ as input and performs QR factorization using the Gram Schmidt method. Then it computes and returns the error norm of the original matrix compared to the product of the factors."
   ]
  },
  {
   "cell_type": "code",
   "execution_count": 7,
   "metadata": {},
   "outputs": [],
   "source": [
    "def exercise2(A):\n",
    "    Q, R = gs_factor(A)\n",
    "    e = norm(A - Q @ R)\n",
    "    return e"
   ]
  },
  {
   "cell_type": "markdown",
   "metadata": {},
   "source": [
    "For each of the four test matrices from the last exercise, I performed Gram Schmidt factorization and collected the resulting error into a data frame. I displayed the results below."
   ]
  },
  {
   "cell_type": "code",
   "execution_count": 8,
   "metadata": {},
   "outputs": [
    {
     "data": {
      "text/html": [
       "<div>\n",
       "<style scoped>\n",
       "    .dataframe tbody tr th:only-of-type {\n",
       "        vertical-align: middle;\n",
       "    }\n",
       "\n",
       "    .dataframe tbody tr th {\n",
       "        vertical-align: top;\n",
       "    }\n",
       "\n",
       "    .dataframe thead th {\n",
       "        text-align: right;\n",
       "    }\n",
       "</style>\n",
       "<table border=\"1\" class=\"dataframe\">\n",
       "  <thead>\n",
       "    <tr style=\"text-align: right;\">\n",
       "      <th></th>\n",
       "      <th>matrix</th>\n",
       "      <th>error</th>\n",
       "    </tr>\n",
       "  </thead>\n",
       "  <tbody>\n",
       "    <tr>\n",
       "      <th>0</th>\n",
       "      <td>X1</td>\n",
       "      <td>0.000000e+00</td>\n",
       "    </tr>\n",
       "    <tr>\n",
       "      <th>1</th>\n",
       "      <td>X2</td>\n",
       "      <td>1.158629e-16</td>\n",
       "    </tr>\n",
       "    <tr>\n",
       "      <th>2</th>\n",
       "      <td>X3</td>\n",
       "      <td>1.790212e-17</td>\n",
       "    </tr>\n",
       "    <tr>\n",
       "      <th>3</th>\n",
       "      <td>X4</td>\n",
       "      <td>1.047750e-16</td>\n",
       "    </tr>\n",
       "  </tbody>\n",
       "</table>\n",
       "</div>"
      ],
      "text/plain": [
       "  matrix         error\n",
       "0     X1  0.000000e+00\n",
       "1     X2  1.158629e-16\n",
       "2     X3  1.790212e-17\n",
       "3     X4  1.047750e-16"
      ]
     },
     "execution_count": 8,
     "metadata": {},
     "output_type": "execute_result"
    }
   ],
   "source": [
    "data = []\n",
    "for i, X in enumerate([X1, X2, X3, X4]):\n",
    "    e = exercise2(X)\n",
    "    data.append((f'X{i+1}', e))\n",
    "\n",
    "df = pd.DataFrame(data, columns=['matrix', 'error'])\n",
    "df"
   ]
  },
  {
   "cell_type": "markdown",
   "metadata": {},
   "source": [
    "My Gram Schmidt factorization algorithm achieved a very low error rate on all four test matrices."
   ]
  },
  {
   "cell_type": "markdown",
   "metadata": {},
   "source": [
    "## Exercise 3 - Householder matrix\n",
    "\n",
    "The objective of this exercise is to understand what a Householder matrix is and how we can construct them. A Householder matrix $H$ for a given vector $d$ is defined by the property:\n",
    "\n",
    "$$\n",
    "    Hd = \\|d\\|e_k \n",
    "$$\n",
    "\n",
    "Where $e_k$ is a vector of zeros except for one at index $k$. The matrix can be calculated as:\n",
    "\n",
    "$$\n",
    "    H = I - 2vv^\\top\n",
    "$$\n",
    "\n",
    "Where:\n",
    "$$\n",
    "\\begin{align}\n",
    "v = \\frac{d - \\|d\\|e_k}{\\|(d - \\|d\\|e_k)\\|}\n",
    "\\end{align}\n",
    "$$\n",
    "\n",
    "We can extend this idea to construct a different type of Householder matrix that produces vectors where all entries below $k$ are zero.\n",
    "\n",
    "I implemented a function `householder(b, k)` below that takes a vector $b$ and an integer $k$ as input and produces a Householder matrix $H$ such that all entries of $Hb$ below index $k$ are zero."
   ]
  },
  {
   "cell_type": "code",
   "execution_count": 9,
   "metadata": {},
   "outputs": [],
   "source": [
    "def householder(b, k):\n",
    "    '''\n",
    "    Return an orthogonal matrix H\n",
    "    such that all entries of H b\n",
    "    below index k are zero.\n",
    "    \n",
    "    Args:\n",
    "        b: Vector of length N.\n",
    "        k: Scalar index.\n",
    "    Returns:\n",
    "        N x N Householder matrix.\n",
    "    '''\n",
    "    n, = b.shape\n",
    "    d = b[k:n]\n",
    "    alpha = norm(d)\n",
    "    \n",
    "    if alpha == 0:\n",
    "        return np.eye(n)\n",
    "    \n",
    "    # choose sign to minimize roundoff errors\n",
    "    if d[0] > 0:\n",
    "        alpha = -alpha\n",
    "\n",
    "    v = np.zeros_like(d, dtype=float)\n",
    "    v[0] = np.sqrt(1/2*(1 - d[0]/alpha))\n",
    "    p = -alpha*v[0]\n",
    "    v[1:] = d[1:]/(2*p)\n",
    "\n",
    "    # prepend zeros to get w\n",
    "    w = np.r_[np.zeros(k), v]\n",
    "    \n",
    "    # construct householder matrix\n",
    "    return np.eye(n) - 2*np.outer(w, w)"
   ]
  },
  {
   "cell_type": "markdown",
   "metadata": {},
   "source": [
    "I created a function `exercise3(b, k)` that tests the above method by computing the Householder matrix for a given vector and index, then computes the error norm $\\|I - HH^\\top\\|$ to check that $H$ is orthogonal. It also returns the transformed vector $c = Hb$."
   ]
  },
  {
   "cell_type": "code",
   "execution_count": 11,
   "metadata": {},
   "outputs": [],
   "source": [
    "def exercise3(b, k):\n",
    "    n, = b.shape\n",
    "    H = householder(b, k)\n",
    "    e = norm(np.eye(n) - H.T @ H)\n",
    "    c =  H @ b\n",
    "    return e, c"
   ]
  },
  {
   "cell_type": "markdown",
   "metadata": {},
   "source": [
    "I tested these functions on the vector $b = [10,9,8,7,6,5,4,3,2,1]$ with $k$ values in the range from 0 to 3. I collected the error norms and the norms of the values of $c$ with index greater than $k$, which should be zero."
   ]
  },
  {
   "cell_type": "code",
   "execution_count": 12,
   "metadata": {},
   "outputs": [
    {
     "data": {
      "text/html": [
       "<div>\n",
       "<style scoped>\n",
       "    .dataframe tbody tr th:only-of-type {\n",
       "        vertical-align: middle;\n",
       "    }\n",
       "\n",
       "    .dataframe tbody tr th {\n",
       "        vertical-align: top;\n",
       "    }\n",
       "\n",
       "    .dataframe thead th {\n",
       "        text-align: right;\n",
       "    }\n",
       "</style>\n",
       "<table border=\"1\" class=\"dataframe\">\n",
       "  <thead>\n",
       "    <tr style=\"text-align: right;\">\n",
       "      <th></th>\n",
       "      <th>k</th>\n",
       "      <th>e</th>\n",
       "      <th>c</th>\n",
       "    </tr>\n",
       "  </thead>\n",
       "  <tbody>\n",
       "    <tr>\n",
       "      <th>0</th>\n",
       "      <td>0</td>\n",
       "      <td>3.234068e-16</td>\n",
       "      <td>1.227537e-15</td>\n",
       "    </tr>\n",
       "    <tr>\n",
       "      <th>1</th>\n",
       "      <td>1</td>\n",
       "      <td>2.618233e-16</td>\n",
       "      <td>2.796021e-15</td>\n",
       "    </tr>\n",
       "    <tr>\n",
       "      <th>2</th>\n",
       "      <td>2</td>\n",
       "      <td>4.801947e-16</td>\n",
       "      <td>1.137640e-15</td>\n",
       "    </tr>\n",
       "    <tr>\n",
       "      <th>3</th>\n",
       "      <td>3</td>\n",
       "      <td>2.671437e-16</td>\n",
       "      <td>1.355200e-15</td>\n",
       "    </tr>\n",
       "  </tbody>\n",
       "</table>\n",
       "</div>"
      ],
      "text/plain": [
       "   k             e             c\n",
       "0  0  3.234068e-16  1.227537e-15\n",
       "1  1  2.618233e-16  2.796021e-15\n",
       "2  2  4.801947e-16  1.137640e-15\n",
       "3  3  2.671437e-16  1.355200e-15"
      ]
     },
     "execution_count": 12,
     "metadata": {},
     "output_type": "execute_result"
    }
   ],
   "source": [
    "data = []\n",
    "b = np.arange(10, 0, -1)\n",
    "for k in range(4):\n",
    "    e, c = exercise3(b, k)\n",
    "    data.append((k, e, norm(c[k+1:])))\n",
    "    \n",
    "df = pd.DataFrame(data, columns=['k', 'e', 'c'])\n",
    "df"
   ]
  },
  {
   "cell_type": "markdown",
   "metadata": {},
   "source": [
    "As seen in the table above, the error norms are very low, indicating that the generated Householder matrices are orthogonal. In addition, the $c$ column verifies that the expected entries are zero in the transformed vectors."
   ]
  },
  {
   "cell_type": "markdown",
   "metadata": {},
   "source": [
    "## Exercise 4 - Sequence of Householder transformations\n",
    "\n",
    "The intent of this exercise is to observe how sequences of multiplications by Householder matrices can be used to factorize a matrix into $QR$ form. Each Householder transformation sets the values in a column below the diagonal to zero, so finding a set of $N$ Householder matrices that put the matrix into upper triangular form corresponds to finding a $QR$ decomposition.\n",
    "\n",
    "First, I created a magic matrix $A$ of size $N=5$ and initial values $Q_0=I$ and $R_0=A$."
   ]
  },
  {
   "cell_type": "code",
   "execution_count": 18,
   "metadata": {},
   "outputs": [
    {
     "name": "stdout",
     "output_type": "stream",
     "text": [
      "A =\n",
      "[[17. 24.  1.  8. 15.]\n",
      " [23.  5.  7. 14. 16.]\n",
      " [ 4.  6. 13. 20. 22.]\n",
      " [10. 12. 19. 21.  3.]\n",
      " [11. 18. 25.  2.  9.]]\n",
      "Q =\n",
      "[[1. 0. 0. 0. 0.]\n",
      " [0. 1. 0. 0. 0.]\n",
      " [0. 0. 1. 0. 0.]\n",
      " [0. 0. 0. 1. 0.]\n",
      " [0. 0. 0. 0. 1.]]\n",
      "R =\n",
      "[[17. 24.  1.  8. 15.]\n",
      " [23.  5.  7. 14. 16.]\n",
      " [ 4.  6. 13. 20. 22.]\n",
      " [10. 12. 19. 21.  3.]\n",
      " [11. 18. 25.  2.  9.]]\n"
     ]
    }
   ],
   "source": [
    "n = 5\n",
    "A = gallery.magic_matrix(n)\n",
    "Q = np.eye(n)\n",
    "R = np.copy(A)\n",
    "print_mat(A=A, Q=Q, R=R)"
   ]
  },
  {
   "cell_type": "markdown",
   "metadata": {},
   "source": [
    "Next, I created a loop over the columns of the matrices. In each iteration $k$, I created a Householder matrix $H_k$ that sets the entries of column $k$ to zero below the diagonal. Once a Householder matrix is created for each column, the result is a set of orthogonal transformations and an upper triangular matrix.\n",
    "\n",
    "Essentially, the factorization proceeds as follows:\n",
    "\n",
    "$$\n",
    "\\begin{align}\n",
    "    A &= I A \\\\\n",
    "    A &= I H_1^\\top H_1 A \\\\\n",
    "    A &= I H_1^\\top H_2^\\top H_2 H_1 A \\\\\n",
    "    A &= I H_1^\\top H_2^\\top H_3^\\top H_3 H_2 H_1 A \\\\\n",
    "    A &= I H_1^\\top H_2^\\top H_3^\\top H_4^\\top H_4 H_3 H_2 H_1 A \\\\\n",
    "    A &= I H_1^\\top H_2^\\top H_3^\\top H_4^\\top H_5^\\top H_5 H_4 H_3 H_2 H_1 A \\\\\n",
    "\\end{align}\n",
    "$$\n",
    "\n",
    "Which is equivalent to the following QR decomposition:\n",
    "\n",
    "$$\n",
    "\\begin{align}\n",
    "    A &= QR \\\\\n",
    "    Q &= I H_1^\\top H_2^\\top H_3^\\top H_4^\\top H_5^\\top \\\\\n",
    "    R &= H_5 H_4 H_3 H_2 H_1 A \\\\\n",
    "\\end{align}\n",
    "$$"
   ]
  },
  {
   "cell_type": "code",
   "execution_count": 19,
   "metadata": {},
   "outputs": [
    {
     "name": "stdout",
     "output_type": "stream",
     "text": [
      "0 1.8492463394943048e-14\n",
      "1 2.4132479426685772e-14\n",
      "2 2.7620242561485495e-14\n",
      "3 2.7938823627994634e-14\n",
      "4 2.7938823627994634e-14\n",
      "Q =\n",
      "[[-0.5234  0.5058  0.6735 -0.1215  0.0441]\n",
      " [-0.7081 -0.6966 -0.0177  0.0815  0.08  ]\n",
      " [-0.1231  0.1367 -0.3558 -0.6307  0.6646]\n",
      " [-0.3079  0.1911 -0.4122 -0.4247 -0.72  ]\n",
      " [-0.3387  0.4514 -0.4996  0.6328  0.1774]]\n",
      "R =\n",
      "[[-32.4808 -26.6311 -21.3973 -23.7063 -25.8615]\n",
      " [ -0.      19.8943  12.3234   1.9439   4.0856]\n",
      " [  0.       0.     -24.3985 -11.6316  -3.7415]\n",
      " [ -0.      -0.       0.     -20.0982  -9.9739]\n",
      " [ -0.      -0.      -0.       0.      16.0005]]\n",
      "QR =\n",
      "[[17. 24.  1.  8. 15.]\n",
      " [23.  5.  7. 14. 16.]\n",
      " [ 4.  6. 13. 20. 22.]\n",
      " [10. 12. 19. 21.  3.]\n",
      " [11. 18. 25.  2.  9.]]\n"
     ]
    }
   ],
   "source": [
    "for k in range(n):\n",
    "    H = householder(R[:,k], k)\n",
    "    Q = Q @ H.T\n",
    "    R = H @ R\n",
    "    e = norm(A - Q @ R)\n",
    "    print(k, e)\n",
    "    \n",
    "print_mat(Q=Q, R=R, QR=Q@R)"
   ]
  },
  {
   "cell_type": "markdown",
   "metadata": {},
   "source": [
    "At each iteration of the for loop above, the error output shows that the factorization is accurate. The final $QR$ matrices confirm that the decomposition was successful and the resulting matrices have the expected properties."
   ]
  },
  {
   "cell_type": "markdown",
   "metadata": {},
   "source": [
    "## Exercise 5 - Householder factorization\n",
    "\n",
    "The purpose of this exercise is to implement a new method of computing a QR decomposition by using sequences of Householder transformations, as we previously demonstrated.\n",
    "\n",
    "I created a function `h_factor(A)` that creates a sequence of Householder matrices that transform the provided matrix into an upper triangular form $R$, with the product of the Householder matrix inverses representing the orthogonal factor $Q$."
   ]
  },
  {
   "cell_type": "code",
   "execution_count": 20,
   "metadata": {},
   "outputs": [],
   "source": [
    "def h_factor(A):\n",
    "    '''\n",
    "    Factor an M x N matrix A into a M x M\n",
    "    orthogonal matrix Q and a M x N upper\n",
    "    triangular matrix R such that A = QR,\n",
    "    using Householder transformations.\n",
    "\n",
    "    Args:\n",
    "        A: M x N matrix.\n",
    "    Returns:\n",
    "        M x M orthogonal matrix Q.\n",
    "        M x N upper triangular matrix R.\n",
    "    '''\n",
    "    m, n = A.shape\n",
    "    \n",
    "    # initialize return values\n",
    "    Q = np.eye(m)\n",
    "    R = A.copy()\n",
    "    \n",
    "    # for each column,\n",
    "    for k in range(n):\n",
    "\n",
    "        # get Householder matrix that zeros out\n",
    "        #   the current column below the diagonal\n",
    "        H = householder(R[:,k], k)\n",
    "        Q = Q @ H.T\n",
    "        R = H @ R\n",
    "\n",
    "    return Q, R"
   ]
  },
  {
   "cell_type": "markdown",
   "metadata": {},
   "source": [
    "I tested the Householder factorization function on the simple 3 x 3 matrix $A$ below."
   ]
  },
  {
   "cell_type": "code",
   "execution_count": 21,
   "metadata": {},
   "outputs": [
    {
     "name": "stdout",
     "output_type": "stream",
     "text": [
      "A =\n",
      "[[0 1 1]\n",
      " [1 1 1]\n",
      " [0 0 1]]\n",
      "Q =\n",
      "[[-0. -1.  0.]\n",
      " [ 1. -0.  0.]\n",
      " [ 0.  0. -1.]]\n",
      "R =\n",
      "[[ 1.  1.  1.]\n",
      " [-0. -1. -1.]\n",
      " [ 0.  0. -1.]]\n",
      "QR =\n",
      "[[0. 1. 1.]\n",
      " [1. 1. 1.]\n",
      " [0. 0. 1.]]\n"
     ]
    }
   ],
   "source": [
    "A = np.array([\n",
    "    [0, 1, 1],\n",
    "    [1, 1, 1],\n",
    "    [0, 0, 1]\n",
    "])\n",
    "Q, R = h_factor(A)\n",
    "print_mat(A=A, Q=Q, R=R, QR=Q@R)"
   ]
  },
  {
   "cell_type": "markdown",
   "metadata": {},
   "source": [
    "The resulting $Q$ factor is a permutation matrix with some negative entries, and the $R$ factor is a rearrangement of the rows of $A$ with some negative rows.\n",
    "\n",
    "Next, I tested the Householder factorization method on a magic matrix of size 5 and compared the result to the one obtained by Gram Schmidt factorization."
   ]
  },
  {
   "cell_type": "code",
   "execution_count": 27,
   "metadata": {},
   "outputs": [
    {
     "name": "stdout",
     "output_type": "stream",
     "text": [
      "A =\n",
      "[[17. 24.  1.  8. 15.]\n",
      " [23.  5.  7. 14. 16.]\n",
      " [ 4.  6. 13. 20. 22.]\n",
      " [10. 12. 19. 21.  3.]\n",
      " [11. 18. 25.  2.  9.]]\n",
      "\n",
      "Householder factorization\n",
      "Q =\n",
      "[[-0.5234  0.5058  0.6735 -0.1215  0.0441]\n",
      " [-0.7081 -0.6966 -0.0177  0.0815  0.08  ]\n",
      " [-0.1231  0.1367 -0.3558 -0.6307  0.6646]\n",
      " [-0.3079  0.1911 -0.4122 -0.4247 -0.72  ]\n",
      " [-0.3387  0.4514 -0.4996  0.6328  0.1774]]\n",
      "R =\n",
      "[[-32.4808 -26.6311 -21.3973 -23.7063 -25.8615]\n",
      " [ -0.      19.8943  12.3234   1.9439   4.0856]\n",
      " [  0.       0.     -24.3985 -11.6316  -3.7415]\n",
      " [ -0.      -0.       0.     -20.0982  -9.9739]\n",
      " [ -0.      -0.      -0.       0.      16.0005]]\n",
      "QR =\n",
      "[[17. 24.  1.  8. 15.]\n",
      " [23.  5.  7. 14. 16.]\n",
      " [ 4.  6. 13. 20. 22.]\n",
      " [10. 12. 19. 21.  3.]\n",
      " [11. 18. 25.  2.  9.]]\n",
      "\n",
      "Gram-Schmidt factorization\n",
      "Q =\n",
      "[[ 0.5234  0.5058 -0.6735  0.1215  0.0441]\n",
      " [ 0.7081 -0.6966  0.0177 -0.0815  0.08  ]\n",
      " [ 0.1231  0.1367  0.3558  0.6307  0.6646]\n",
      " [ 0.3079  0.1911  0.4122  0.4247 -0.72  ]\n",
      " [ 0.3387  0.4514  0.4996 -0.6328  0.1774]]\n",
      "R =\n",
      "[[32.4808 26.6311 21.3973 23.7063 25.8615]\n",
      " [ 0.     19.8943 12.3234  1.9439  4.0856]\n",
      " [ 0.      0.     24.3985 11.6316  3.7415]\n",
      " [ 0.      0.      0.     20.0982  9.9739]\n",
      " [ 0.      0.      0.      0.     16.0005]]\n",
      "QR =\n",
      "[[17. 24.  1.  8. 15.]\n",
      " [23.  5.  7. 14. 16.]\n",
      " [ 4.  6. 13. 20. 22.]\n",
      " [10. 12. 19. 21.  3.]\n",
      " [11. 18. 25.  2.  9.]]\n"
     ]
    }
   ],
   "source": [
    "A = gallery.magic_matrix(5)\n",
    "print_mat(A=A)\n",
    "\n",
    "print('\\nHouseholder factorization')\n",
    "Q, R = h_factor(A)\n",
    "print_mat(Q=Q, R=R, QR=Q@R)\n",
    "\n",
    "print('\\nGram-Schmidt factorization')\n",
    "Q, R = gs_factor(A)\n",
    "print_mat(Q=Q, R=R, QR=Q@R)"
   ]
  },
  {
   "cell_type": "markdown",
   "metadata": {},
   "source": [
    "The two methods produce identical $QR$ decompositions of the matrix, up to differences in sign.\n",
    "\n",
    "Finally, I tested both the Householder and Gram-Schmidt factorization methods on a Hilbert matrix of size 10, and computed the error in each case."
   ]
  },
  {
   "cell_type": "code",
   "execution_count": 48,
   "metadata": {},
   "outputs": [
    {
     "data": {
      "text/html": [
       "<div>\n",
       "<style scoped>\n",
       "    .dataframe tbody tr th:only-of-type {\n",
       "        vertical-align: middle;\n",
       "    }\n",
       "\n",
       "    .dataframe tbody tr th {\n",
       "        vertical-align: top;\n",
       "    }\n",
       "\n",
       "    .dataframe thead th {\n",
       "        text-align: right;\n",
       "    }\n",
       "</style>\n",
       "<table border=\"1\" class=\"dataframe\">\n",
       "  <thead>\n",
       "    <tr style=\"text-align: right;\">\n",
       "      <th></th>\n",
       "      <th>method</th>\n",
       "      <th>$\\|I - Q^T Q\\|$</th>\n",
       "      <th>$\\|A - QR\\|$</th>\n",
       "    </tr>\n",
       "  </thead>\n",
       "  <tbody>\n",
       "    <tr>\n",
       "      <th>0</th>\n",
       "      <td>h_factor</td>\n",
       "      <td>1.079478e-15</td>\n",
       "      <td>3.126355e-16</td>\n",
       "    </tr>\n",
       "    <tr>\n",
       "      <th>1</th>\n",
       "      <td>gs_factor</td>\n",
       "      <td>3.804115e-04</td>\n",
       "      <td>1.047750e-16</td>\n",
       "    </tr>\n",
       "  </tbody>\n",
       "</table>\n",
       "</div>"
      ],
      "text/plain": [
       "      method  $\\|I - Q^T Q\\|$  $\\|A - QR\\|$\n",
       "0   h_factor     1.079478e-15  3.126355e-16\n",
       "1  gs_factor     3.804115e-04  1.047750e-16"
      ]
     },
     "execution_count": 48,
     "metadata": {},
     "output_type": "execute_result"
    }
   ],
   "source": [
    "A = gallery.hilbert_matrix(10)\n",
    "\n",
    "data = []\n",
    "for method in [h_factor, gs_factor]:\n",
    "    Q, R = method(A)\n",
    "    e_Q = norm(np.eye(10) - Q.T @ Q)\n",
    "    e_A = norm(A - Q @ R)\n",
    "    data.append((method.__name__, e_Q, e_A))\n",
    "\n",
    "pd.DataFrame(data, columns=['method', '$\\|I - Q^T Q\\|$', '$\\|A - QR\\|$'])"
   ]
  },
  {
   "cell_type": "markdown",
   "metadata": {},
   "source": [
    "The table above shows two different types of error for the QR decomposition algorithms. Both methods produce very low error in terms of the difference between the input matrix $A$ and the factor product $QR$, but the Householder method produces a $Q$ matrix that is much closer to being exactly orthogonal than the Gram Schmidt method."
   ]
  },
  {
   "cell_type": "markdown",
   "metadata": {},
   "source": [
    "## Exercise 6 - Solving linear systems with QR decomposition\n",
    "\n",
    "The goal of this exercise is to see how we can use QR decomposition to solve linear systems. Given a linear system and QR decomposition:\n",
    "\n",
    "$$\n",
    "\\begin{align}\n",
    "    Ax &= b \\\\\n",
    "    A &= QR \\\\\n",
    "    QRx &= b \\\\\n",
    "    Rx &= Q^{-1} b \\\\\n",
    "    Rx &= Q^\\top b\n",
    "\\end{align}\n",
    "$$\n",
    "\n",
    "We can then solve this upper triangular system through simple back-substitution.\n",
    "\n",
    "To verify this, I implemented two functions below `u_solve(U, y)` (that same back-substitution method from the previous lab) and `h_solve(A, b)`. The `h_solve` method performs a $QR$ decomposition on $A$ using `h_factor(A)`, then creates a new righthand side by multiplying by $Q^\\top$. The resulting upper triangular system can be solved by a call to `u_solve`."
   ]
  },
  {
   "cell_type": "code",
   "execution_count": 45,
   "metadata": {},
   "outputs": [],
   "source": [
    "def u_solve(U, y):\n",
    "    '''\n",
    "    Solve Ux = y, where U is\n",
    "    an upper triangular matrix.\n",
    "    '''\n",
    "    # check input shapes\n",
    "    n = U.shape[0]\n",
    "    assert U.shape == (n, n)\n",
    "    assert y.shape == (n,)\n",
    "\n",
    "    x = y.copy()\n",
    "    for i in reversed(range(n)):\n",
    "        x[i] -= U[i,i+1:] @ x[i+1:]\n",
    "        x[i] /= U[i,i]\n",
    "\n",
    "    return x\n",
    "\n",
    "def h_solve(A, b):\n",
    "    '''\n",
    "    Solve a linear system Ax = b\n",
    "    using QR decomposition via\n",
    "    Householder transformations.\n",
    "    '''\n",
    "    # check input shapes\n",
    "    n, _ = A.shape\n",
    "    assert A.shape == (n, n)\n",
    "    assert b.shape == (n,)\n",
    "\n",
    "    # A = Q R\n",
    "    Q, R = h_factor(A)\n",
    "    \n",
    "    # Rx = Q^T b\n",
    "    QTb = Q.T @ b\n",
    "    \n",
    "    # solve for x\n",
    "    return u_solve(R, QTb)"
   ]
  },
  {
   "cell_type": "markdown",
   "metadata": {},
   "source": [
    "I tested the QR solution method by creating a magic matrix $A$ of size 5 and a solution vector $x_1$. Then I computed the righthand side $b = Ax_1$ and applied `h_solve(A, b)` to obtain an approximate solution $x_2$. The error I obtained using this method was 2e-15, indicating that the QR solution method works well."
   ]
  },
  {
   "cell_type": "code",
   "execution_count": 46,
   "metadata": {},
   "outputs": [
    {
     "data": {
      "text/plain": [
       "2.0873306750654603e-15"
      ]
     },
     "execution_count": 46,
     "metadata": {},
     "output_type": "execute_result"
    }
   ],
   "source": [
    "A = gallery.magic_matrix(5)\n",
    "x1 = np.arange(5)\n",
    "b = A @ x1\n",
    "x2 = h_solve(A, b)\n",
    "norm(x1 - x2)"
   ]
  }
 ],
 "metadata": {
  "kernelspec": {
   "display_name": "Python 3",
   "language": "python",
   "name": "python3"
  },
  "language_info": {
   "codemirror_mode": {
    "name": "ipython",
    "version": 3
   },
   "file_extension": ".py",
   "mimetype": "text/x-python",
   "name": "python",
   "nbconvert_exporter": "python",
   "pygments_lexer": "ipython3",
   "version": "3.7.0"
  }
 },
 "nbformat": 4,
 "nbformat_minor": 2
}
