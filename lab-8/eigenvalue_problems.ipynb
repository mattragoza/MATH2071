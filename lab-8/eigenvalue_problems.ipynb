{
 "cells": [
  {
   "cell_type": "markdown",
   "metadata": {},
   "source": [
    "## MATH 2071 Lab 8 - Eigenvalues and Eigenvectors\n",
    "\n",
    "Matthew Ragoza\n",
    "\n",
    "3/9/2022"
   ]
  },
  {
   "cell_type": "code",
   "execution_count": 1,
   "metadata": {},
   "outputs": [],
   "source": [
    "import sys\n",
    "import numpy as np\n",
    "import matplotlib.pyplot as plt\n",
    "import pandas as pd\n",
    "\n",
    "sys.path.append('code')\n",
    "import eigen"
   ]
  },
  {
   "cell_type": "markdown",
   "metadata": {},
   "source": [
    "## Exercise 1 - Rayleigh quotient\n",
    "\n",
    "The purpose of this exercise is to calculate the Rayleigh quotient for a matrix and vector and to see how it can approximate an eigenvalue for that matrix, given an approximate eigenvector. The Rayleigh quotient is defined as:\n",
    "\n",
    "$$\n",
    "    R(A,x) = \\frac{x^HAx}{x^Hx}\n",
    "$$\n",
    "\n",
    "I implemented this calculation in the function `rayleigh(A, x)` below. I also wrote a function `exercise1(A)` that takes a matrix $A$ as input and performs the recursion $x_{i+1} = A x_i$ starting from $x_0 = [3,2,1]$ for 25 iterations. At each iteration, it computes the Rayleigh quotient and returns this at each step of the loop using a generator."
   ]
  },
  {
   "cell_type": "code",
   "execution_count": 2,
   "metadata": {},
   "outputs": [],
   "source": [
    "def rayleigh(A, x):\n",
    "    '''\n",
    "    Compute the Rayleigh quotient.\n",
    "    '''\n",
    "    return x.conj().T @ A @ x / (x.conj().T @ x)\n",
    "\n",
    "def exercise1(A, x0=[3,2,1], max_iter=25):\n",
    "    x = np.array(x0)\n",
    "    yield 0, rayleigh(A, x)\n",
    "    for i in range(max_iter):\n",
    "        x = A @ x\n",
    "        yield i+1, rayleigh(A, x)"
   ]
  },
  {
   "cell_type": "markdown",
   "metadata": {},
   "source": [
    "In addition, I wrote a convenience function `get_eigen_problem(k)` that accesses and returns the $k$th matrix, eigenvalues, and eigenvectors from the provided `eigen` module."
   ]
  },
  {
   "cell_type": "code",
   "execution_count": 3,
   "metadata": {},
   "outputs": [
    {
     "data": {
      "text/plain": [
       "(array([[ 0. , -1. ,  1. ],\n",
       "        [ 7. ,  5.5, -7. ],\n",
       "        [ 5. ,  2.5, -4. ]]),\n",
       " array([-1.5,  1. ,  2. ]),\n",
       " array([[-1.83462559e-16,  7.07106781e-01,  4.47213595e-01],\n",
       "        [ 7.07106781e-01, -4.57966998e-16, -8.94427191e-01],\n",
       "        [ 7.07106781e-01,  7.07106781e-01,  1.65502277e-15]]))"
      ]
     },
     "execution_count": 3,
     "metadata": {},
     "output_type": "execute_result"
    }
   ],
   "source": [
    "def get_eigen_problem(k):\n",
    "    A = eigen.eigen_matrix(k)\n",
    "    y = eigen.eigen_values(k)\n",
    "    V = eigen.eigen_vectors(k)\n",
    "    return A, y, V\n",
    "\n",
    "get_eigen_problem(0)"
   ]
  },
  {
   "cell_type": "markdown",
   "metadata": {},
   "source": [
    "I tested my `rayleigh` and `exercise1` functions on the first eigenvalue problem from the provided module. I stored the Rayleigh quotient at each iteration in a list which I plotted below with respect to the iteration. In addition, I computed the distance of the Rayleigh quotient to the nearest eigenvalue of $A$, which I stored and plotted as the error of the method."
   ]
  },
  {
   "cell_type": "code",
   "execution_count": 4,
   "metadata": {},
   "outputs": [
    {
     "data": {
      "text/plain": [
       "<AxesSubplot:xlabel='iteration'>"
      ]
     },
     "execution_count": 4,
     "metadata": {},
     "output_type": "execute_result"
    },
    {
     "data": {
      "image/png": "[encoded data removed]",
      "text/plain": [
       "<Figure size 432x288 with 1 Axes>"
      ]
     },
     "metadata": {
      "needs_background": "light"
     },
     "output_type": "display_data"
    }
   ],
   "source": [
    "A, y, V = get_eigen_problem(0)\n",
    "\n",
    "data = []\n",
    "for i, r in exercise1(A):\n",
    "    e = np.abs(y - r).min()\n",
    "    data.append((i, r, e))\n",
    "        \n",
    "df = pd.DataFrame(data, columns=['iteration', 'rayleigh', 'error'])\n",
    "df.plot(x='iteration', y=['rayleigh', 'error'])"
   ]
  },
  {
   "cell_type": "markdown",
   "metadata": {},
   "source": [
    "We can see from the plot that the Rayleigh quotient converges to an eigenvalue of the matrix."
   ]
  },
  {
   "cell_type": "markdown",
   "metadata": {},
   "source": [
    "## Exercise 2 - Power method\n",
    "\n",
    "The goal of this exercise is to implement the power method of finding the largest eigenvalue and associated eigenvector of a matrix $A$. The method uses the following recursion:\n",
    "\n",
    "$$\n",
    "\\begin{align}\n",
    "    x_{i+1} &= \\frac{A x_i}{\\|A x_i\\|}\n",
    "\\end{align}\n",
    "$$\n",
    "\n",
    "I implemented a function `power_method1(A, x0, max_iter)` that computes some number of iterations of this recursion using the provided matrix $A$ and initial vector $x_0$. The Rayleigh quotient and vector are yielded at each iteration."
   ]
  },
  {
   "cell_type": "code",
   "execution_count": 5,
   "metadata": {},
   "outputs": [],
   "source": [
    "def power_method1(A, x0, max_iter):\n",
    "    x = np.array(x0)\n",
    "    yield 0, rayleigh(A, x), x\n",
    "    for i in range(max_iter):\n",
    "        x = A @ x\n",
    "        x = x / np.linalg.norm(x)\n",
    "        yield i+1, rayleigh(A, x), x"
   ]
  },
  {
   "cell_type": "markdown",
   "metadata": {},
   "source": [
    "I tested the power method on the first provided eigenvalue problem. At each iteration, I stored the Rayleigh quotient and approximate eigenvector. I also computed the error of the Rayleigh quotient from the largest eigenvalue of $A$ and the error of the output vector from the associated eigenvector of $A$. I displayed these results in a table and plot below."
   ]
  },
  {
   "cell_type": "code",
   "execution_count": 7,
   "metadata": {},
   "outputs": [
    {
     "data": {
      "text/html": [
       "<div>\n",
       "<style scoped>\n",
       "    .dataframe tbody tr th:only-of-type {\n",
       "        vertical-align: middle;\n",
       "    }\n",
       "\n",
       "    .dataframe tbody tr th {\n",
       "        vertical-align: top;\n",
       "    }\n",
       "\n",
       "    .dataframe thead th {\n",
       "        text-align: right;\n",
       "    }\n",
       "</style>\n",
       "<table border=\"1\" class=\"dataframe\">\n",
       "  <thead>\n",
       "    <tr style=\"text-align: right;\">\n",
       "      <th></th>\n",
       "      <th>iteration</th>\n",
       "      <th>eigenvalue</th>\n",
       "      <th>eigenvector</th>\n",
       "      <th>eigenvalue_error</th>\n",
       "      <th>eigenvector_error</th>\n",
       "    </tr>\n",
       "  </thead>\n",
       "  <tbody>\n",
       "    <tr>\n",
       "      <th>0</th>\n",
       "      <td>0</td>\n",
       "      <td>-4.000000</td>\n",
       "      <td>[0, 0, 1]</td>\n",
       "      <td>6.000000</td>\n",
       "      <td>1.414214</td>\n",
       "    </tr>\n",
       "    <tr>\n",
       "      <th>1</th>\n",
       "      <td>1</td>\n",
       "      <td>0.204545</td>\n",
       "      <td>[0.1231, -0.8616, -0.4924]</td>\n",
       "      <td>1.795455</td>\n",
       "      <td>0.590385</td>\n",
       "    </tr>\n",
       "    <tr>\n",
       "      <th>2</th>\n",
       "      <td>2</td>\n",
       "      <td>2.194030</td>\n",
       "      <td>[0.5183, -0.6047, 0.6047]</td>\n",
       "      <td>0.194030</td>\n",
       "      <td>0.674289</td>\n",
       "    </tr>\n",
       "    <tr>\n",
       "      <th>3</th>\n",
       "      <td>3</td>\n",
       "      <td>0.848893</td>\n",
       "      <td>[0.2796, -0.9088, -0.3096]</td>\n",
       "      <td>1.151107</td>\n",
       "      <td>0.352335</td>\n",
       "    </tr>\n",
       "    <tr>\n",
       "      <th>4</th>\n",
       "      <td>4</td>\n",
       "      <td>2.604937</td>\n",
       "      <td>[0.5348, -0.7799, 0.3253]</td>\n",
       "      <td>0.604937</td>\n",
       "      <td>0.355837</td>\n",
       "    </tr>\n",
       "    <tr>\n",
       "      <th>5</th>\n",
       "      <td>5</td>\n",
       "      <td>1.325438</td>\n",
       "      <td>[0.3581, -0.9148, -0.187]</td>\n",
       "      <td>0.674562</td>\n",
       "      <td>0.208137</td>\n",
       "    </tr>\n",
       "    <tr>\n",
       "      <th>6</th>\n",
       "      <td>6</td>\n",
       "      <td>2.434281</td>\n",
       "      <td>[0.5058, -0.8447, 0.1749]</td>\n",
       "      <td>0.434281</td>\n",
       "      <td>0.190996</td>\n",
       "    </tr>\n",
       "    <tr>\n",
       "      <th>7</th>\n",
       "      <td>7</td>\n",
       "      <td>1.617787</td>\n",
       "      <td>[0.3985, -0.9105, -0.1104]</td>\n",
       "      <td>0.382213</td>\n",
       "      <td>0.121701</td>\n",
       "    </tr>\n",
       "    <tr>\n",
       "      <th>8</th>\n",
       "      <td>8</td>\n",
       "      <td>2.264253</td>\n",
       "      <td>[0.482, -0.871, 0.095]</td>\n",
       "      <td>0.264253</td>\n",
       "      <td>0.103872</td>\n",
       "    </tr>\n",
       "    <tr>\n",
       "      <th>9</th>\n",
       "      <td>9</td>\n",
       "      <td>1.785836</td>\n",
       "      <td>[0.4202, -0.9052, -0.064]</td>\n",
       "      <td>0.214164</td>\n",
       "      <td>0.070348</td>\n",
       "    </tr>\n",
       "    <tr>\n",
       "      <th>10</th>\n",
       "      <td>10</td>\n",
       "      <td>2.153316</td>\n",
       "      <td>[0.4672, -0.8826, 0.0522]</td>\n",
       "      <td>0.153316</td>\n",
       "      <td>0.057136</td>\n",
       "    </tr>\n",
       "    <tr>\n",
       "      <th>11</th>\n",
       "      <td>11</td>\n",
       "      <td>1.880227</td>\n",
       "      <td>[0.4321, -0.9011, -0.0367]</td>\n",
       "      <td>0.119773</td>\n",
       "      <td>0.040279</td>\n",
       "    </tr>\n",
       "    <tr>\n",
       "      <th>12</th>\n",
       "      <td>12</td>\n",
       "      <td>2.087438</td>\n",
       "      <td>[0.4585, -0.8882, 0.0289]</td>\n",
       "      <td>0.087438</td>\n",
       "      <td>0.031690</td>\n",
       "    </tr>\n",
       "    <tr>\n",
       "      <th>13</th>\n",
       "      <td>13</td>\n",
       "      <td>1.932944</td>\n",
       "      <td>[0.4387, -0.8984, -0.0209]</td>\n",
       "      <td>0.067056</td>\n",
       "      <td>0.022908</td>\n",
       "    </tr>\n",
       "    <tr>\n",
       "      <th>14</th>\n",
       "      <td>14</td>\n",
       "      <td>2.049514</td>\n",
       "      <td>[0.4536, -0.8911, 0.0161]</td>\n",
       "      <td>0.049514</td>\n",
       "      <td>0.017673</td>\n",
       "    </tr>\n",
       "    <tr>\n",
       "      <th>15</th>\n",
       "      <td>15</td>\n",
       "      <td>1.962402</td>\n",
       "      <td>[0.4424, -0.8967, -0.0118]</td>\n",
       "      <td>0.037598</td>\n",
       "      <td>0.012971</td>\n",
       "    </tr>\n",
       "    <tr>\n",
       "      <th>16</th>\n",
       "      <td>16</td>\n",
       "      <td>2.027948</td>\n",
       "      <td>[0.4508, -0.8926, 0.009]</td>\n",
       "      <td>0.027948</td>\n",
       "      <td>0.009890</td>\n",
       "    </tr>\n",
       "    <tr>\n",
       "      <th>17</th>\n",
       "      <td>17</td>\n",
       "      <td>1.978893</td>\n",
       "      <td>[0.4445, -0.8957, -0.0067]</td>\n",
       "      <td>0.021107</td>\n",
       "      <td>0.007325</td>\n",
       "    </tr>\n",
       "    <tr>\n",
       "      <th>18</th>\n",
       "      <td>18</td>\n",
       "      <td>2.015750</td>\n",
       "      <td>[0.4492, -0.8934, 0.0051]</td>\n",
       "      <td>0.015750</td>\n",
       "      <td>0.005547</td>\n",
       "    </tr>\n",
       "    <tr>\n",
       "      <th>19</th>\n",
       "      <td>19</td>\n",
       "      <td>1.988142</td>\n",
       "      <td>[0.4457, -0.8952, -0.0038]</td>\n",
       "      <td>0.011858</td>\n",
       "      <td>0.004130</td>\n",
       "    </tr>\n",
       "    <tr>\n",
       "      <th>20</th>\n",
       "      <td>20</td>\n",
       "      <td>2.008868</td>\n",
       "      <td>[0.4483, -0.8939, 0.0028]</td>\n",
       "      <td>0.008868</td>\n",
       "      <td>0.003114</td>\n",
       "    </tr>\n",
       "    <tr>\n",
       "      <th>21</th>\n",
       "      <td>21</td>\n",
       "      <td>1.993334</td>\n",
       "      <td>[0.4464, -0.8948, -0.0021]</td>\n",
       "      <td>0.006666</td>\n",
       "      <td>0.002326</td>\n",
       "    </tr>\n",
       "    <tr>\n",
       "      <th>22</th>\n",
       "      <td>22</td>\n",
       "      <td>2.004991</td>\n",
       "      <td>[0.4479, -0.8941, 0.0016]</td>\n",
       "      <td>0.004991</td>\n",
       "      <td>0.001750</td>\n",
       "    </tr>\n",
       "    <tr>\n",
       "      <th>23</th>\n",
       "      <td>23</td>\n",
       "      <td>1.996252</td>\n",
       "      <td>[0.4467, -0.8947, -0.0012]</td>\n",
       "      <td>0.003748</td>\n",
       "      <td>0.001309</td>\n",
       "    </tr>\n",
       "    <tr>\n",
       "      <th>24</th>\n",
       "      <td>24</td>\n",
       "      <td>2.002808</td>\n",
       "      <td>[0.4476, -0.8942, 0.0009]</td>\n",
       "      <td>0.002808</td>\n",
       "      <td>0.000984</td>\n",
       "    </tr>\n",
       "    <tr>\n",
       "      <th>25</th>\n",
       "      <td>25</td>\n",
       "      <td>1.997892</td>\n",
       "      <td>[0.4469, -0.8946, -0.0007]</td>\n",
       "      <td>0.002108</td>\n",
       "      <td>0.000737</td>\n",
       "    </tr>\n",
       "  </tbody>\n",
       "</table>\n",
       "</div>"
      ],
      "text/plain": [
       "    iteration  eigenvalue                 eigenvector  eigenvalue_error  \\\n",
       "0           0   -4.000000                   [0, 0, 1]          6.000000   \n",
       "1           1    0.204545  [0.1231, -0.8616, -0.4924]          1.795455   \n",
       "2           2    2.194030   [0.5183, -0.6047, 0.6047]          0.194030   \n",
       "3           3    0.848893  [0.2796, -0.9088, -0.3096]          1.151107   \n",
       "4           4    2.604937   [0.5348, -0.7799, 0.3253]          0.604937   \n",
       "5           5    1.325438   [0.3581, -0.9148, -0.187]          0.674562   \n",
       "6           6    2.434281   [0.5058, -0.8447, 0.1749]          0.434281   \n",
       "7           7    1.617787  [0.3985, -0.9105, -0.1104]          0.382213   \n",
       "8           8    2.264253      [0.482, -0.871, 0.095]          0.264253   \n",
       "9           9    1.785836   [0.4202, -0.9052, -0.064]          0.214164   \n",
       "10         10    2.153316   [0.4672, -0.8826, 0.0522]          0.153316   \n",
       "11         11    1.880227  [0.4321, -0.9011, -0.0367]          0.119773   \n",
       "12         12    2.087438   [0.4585, -0.8882, 0.0289]          0.087438   \n",
       "13         13    1.932944  [0.4387, -0.8984, -0.0209]          0.067056   \n",
       "14         14    2.049514   [0.4536, -0.8911, 0.0161]          0.049514   \n",
       "15         15    1.962402  [0.4424, -0.8967, -0.0118]          0.037598   \n",
       "16         16    2.027948    [0.4508, -0.8926, 0.009]          0.027948   \n",
       "17         17    1.978893  [0.4445, -0.8957, -0.0067]          0.021107   \n",
       "18         18    2.015750   [0.4492, -0.8934, 0.0051]          0.015750   \n",
       "19         19    1.988142  [0.4457, -0.8952, -0.0038]          0.011858   \n",
       "20         20    2.008868   [0.4483, -0.8939, 0.0028]          0.008868   \n",
       "21         21    1.993334  [0.4464, -0.8948, -0.0021]          0.006666   \n",
       "22         22    2.004991   [0.4479, -0.8941, 0.0016]          0.004991   \n",
       "23         23    1.996252  [0.4467, -0.8947, -0.0012]          0.003748   \n",
       "24         24    2.002808   [0.4476, -0.8942, 0.0009]          0.002808   \n",
       "25         25    1.997892  [0.4469, -0.8946, -0.0007]          0.002108   \n",
       "\n",
       "    eigenvector_error  \n",
       "0            1.414214  \n",
       "1            0.590385  \n",
       "2            0.674289  \n",
       "3            0.352335  \n",
       "4            0.355837  \n",
       "5            0.208137  \n",
       "6            0.190996  \n",
       "7            0.121701  \n",
       "8            0.103872  \n",
       "9            0.070348  \n",
       "10           0.057136  \n",
       "11           0.040279  \n",
       "12           0.031690  \n",
       "13           0.022908  \n",
       "14           0.017673  \n",
       "15           0.012971  \n",
       "16           0.009890  \n",
       "17           0.007325  \n",
       "18           0.005547  \n",
       "19           0.004130  \n",
       "20           0.003114  \n",
       "21           0.002326  \n",
       "22           0.001750  \n",
       "23           0.001309  \n",
       "24           0.000984  \n",
       "25           0.000737  "
      ]
     },
     "execution_count": 7,
     "metadata": {},
     "output_type": "execute_result"
    },
    {
     "data": {
      "image/png": "[encoded data removed]",
      "text/plain": [
       "<Figure size 432x288 with 1 Axes>"
      ]
     },
     "metadata": {
      "needs_background": "light"
     },
     "output_type": "display_data"
    }
   ],
   "source": [
    "A, y, V = get_eigen_problem(0)\n",
    "\n",
    "data = []\n",
    "for i, r, x in power_method1(A, x0=[0,0,1], max_iter=25):\n",
    "    e_y = np.linalg.norm(y[-1] - r)\n",
    "    e_V = np.linalg.norm(V[:,-1] - x)\n",
    "    data.append((i, r, np.round(x, 4), e_y, e_V))\n",
    "        \n",
    "df = pd.DataFrame(data, columns=['iteration', 'eigenvalue', 'eigenvector', 'eigenvalue_error', 'eigenvector_error'])\n",
    "df.plot(x='iteration', y=['eigenvalue', 'eigenvalue_error', 'eigenvector_error'])\n",
    "df"
   ]
  },
  {
   "cell_type": "markdown",
   "metadata": {},
   "source": [
    "We can see that this method converges specifically to the largest eigenvalue of $A$ and its associated eigenvector."
   ]
  },
  {
   "cell_type": "markdown",
   "metadata": {},
   "source": [
    "## Exercise 3 - Power method stopping criterion\n",
    "\n",
    "The purpose of this part is to improve the power method implementation with a better stopping criterion that checks whether the method has convergence, both in terms of the relative difference in the Rayleigh quotient and the difference in the vector between each step.\n",
    "\n",
    "I modified my implemetation into a new `power_method2(A, x0, max_iter, tol)` which now includes a tolerance argument. The method performs up to `max_iter` power iterations, but tests the Rayleigh quotient and approximate eigenvector at each iteration against the tolerance parameter to possibly stop early if the method has converged."
   ]
  },
  {
   "cell_type": "code",
   "execution_count": 8,
   "metadata": {},
   "outputs": [],
   "source": [
    "from numpy.linalg import norm\n",
    "\n",
    "def power_method2(A, x0, max_iter, tol):\n",
    "\n",
    "    x = np.array(x0)\n",
    "    r = rayleigh(A, x)\n",
    "    \n",
    "    for i in range(max_iter):\n",
    "        x_prev = x\n",
    "        r_prev = r\n",
    "\n",
    "        x = A @ x\n",
    "        x = x / np.linalg.norm(x)\n",
    "        r = rayleigh(A, x)\n",
    "        \n",
    "        # test for convergence\n",
    "        if norm(r - r_prev) <= norm(r) * tol and norm(x - x_prev) <= tol:\n",
    "            break\n",
    "    \n",
    "    return i+1, r, x"
   ]
  },
  {
   "cell_type": "markdown",
   "metadata": {},
   "source": [
    "I experimented with this new stopping criterion by running the power method on 8 different eigenvalue problems with a maximum number of iterations of 100,000 and tolerance of 1e-8. I stored the number of actual iterations performed, the final largest eigenvalue estimate, and the final eigenvector estimate in a table, displayed below."
   ]
  },
  {
   "cell_type": "code",
   "execution_count": 11,
   "metadata": {},
   "outputs": [
    {
     "data": {
      "text/html": [
       "<div>\n",
       "<style scoped>\n",
       "    .dataframe tbody tr th:only-of-type {\n",
       "        vertical-align: middle;\n",
       "    }\n",
       "\n",
       "    .dataframe tbody tr th {\n",
       "        vertical-align: top;\n",
       "    }\n",
       "\n",
       "    .dataframe thead th {\n",
       "        text-align: right;\n",
       "    }\n",
       "</style>\n",
       "<table border=\"1\" class=\"dataframe\">\n",
       "  <thead>\n",
       "    <tr style=\"text-align: right;\">\n",
       "      <th></th>\n",
       "      <th>n_iters</th>\n",
       "      <th>eigenvalue</th>\n",
       "      <th>eigenvector</th>\n",
       "    </tr>\n",
       "  </thead>\n",
       "  <tbody>\n",
       "    <tr>\n",
       "      <th>0</th>\n",
       "      <td>66</td>\n",
       "      <td>2.000000</td>\n",
       "      <td>[-0.4472, 0.8944, -0.0]</td>\n",
       "    </tr>\n",
       "    <tr>\n",
       "      <th>1</th>\n",
       "      <td>38</td>\n",
       "      <td>4.732051</td>\n",
       "      <td>[0.2113, 0.5774, 0.7887]</td>\n",
       "    </tr>\n",
       "    <tr>\n",
       "      <th>2</th>\n",
       "      <td>11</td>\n",
       "      <td>6.274917</td>\n",
       "      <td>[0.551, 0.6267, 0.551]</td>\n",
       "    </tr>\n",
       "    <tr>\n",
       "      <th>3</th>\n",
       "      <td>38</td>\n",
       "      <td>3.801938</td>\n",
       "      <td>[0.2319, 0.4179, 0.5211, 0.5211, 0.4179, 0.2319]</td>\n",
       "    </tr>\n",
       "    <tr>\n",
       "      <th>4</th>\n",
       "      <td>100000</td>\n",
       "      <td>0.484848</td>\n",
       "      <td>[-0.3114, -0.6228, -0.5449, -0.4671]</td>\n",
       "    </tr>\n",
       "    <tr>\n",
       "      <th>5</th>\n",
       "      <td>10</td>\n",
       "      <td>22.392305</td>\n",
       "      <td>[0.2887, 0.5, 0.5774, 0.5, 0.2887]</td>\n",
       "    </tr>\n",
       "    <tr>\n",
       "      <th>6</th>\n",
       "      <td>1283</td>\n",
       "      <td>3.984841</td>\n",
       "      <td>[0.0243, -0.0483, 0.0715, -0.0937, 0.1144, -0....</td>\n",
       "    </tr>\n",
       "    <tr>\n",
       "      <th>7</th>\n",
       "      <td>100000</td>\n",
       "      <td>-4.149602</td>\n",
       "      <td>[0.0687, -0.1476, 0.9867]</td>\n",
       "    </tr>\n",
       "  </tbody>\n",
       "</table>\n",
       "</div>"
      ],
      "text/plain": [
       "   n_iters  eigenvalue                                        eigenvector\n",
       "0       66    2.000000                            [-0.4472, 0.8944, -0.0]\n",
       "1       38    4.732051                           [0.2113, 0.5774, 0.7887]\n",
       "2       11    6.274917                             [0.551, 0.6267, 0.551]\n",
       "3       38    3.801938   [0.2319, 0.4179, 0.5211, 0.5211, 0.4179, 0.2319]\n",
       "4   100000    0.484848               [-0.3114, -0.6228, -0.5449, -0.4671]\n",
       "5       10   22.392305                 [0.2887, 0.5, 0.5774, 0.5, 0.2887]\n",
       "6     1283    3.984841  [0.0243, -0.0483, 0.0715, -0.0937, 0.1144, -0....\n",
       "7   100000   -4.149602                          [0.0687, -0.1476, 0.9867]"
      ]
     },
     "execution_count": 11,
     "metadata": {},
     "output_type": "execute_result"
    }
   ],
   "source": [
    "data = []\n",
    "for p in range(8):\n",
    "    A, y, V = get_eigen_problem(p)\n",
    "    x0 = np.ones(A.shape[0])\n",
    "    n_iters, r, x = power_method2(A, x0, max_iter=100000, tol=1e-8)\n",
    "    data.append((n_iters, r, np.round(x, 4)))\n",
    "    \n",
    "pd.DataFrame(data, columns=['n_iters', 'eigenvalue', 'eigenvector'])"
   ]
  },
  {
   "cell_type": "markdown",
   "metadata": {},
   "source": [
    "We can see that 6 of the 8 problems converged before the maximum number of iterations, but 2 did not. For problem 7, the eigenvalue is negative, so the direction of the vector changes each iteration. This is not accounted for in the convergence criteria. I extended the criteria to allow for negative eigenvalues below, in `power_method3`."
   ]
  },
  {
   "cell_type": "code",
   "execution_count": 21,
   "metadata": {},
   "outputs": [],
   "source": [
    "def power_method2b(A, x0, max_iter, tol):\n",
    "\n",
    "    x = np.array(x0)\n",
    "    r = rayleigh(A, x)\n",
    "    \n",
    "    for i in range(max_iter):\n",
    "        x_prev = x\n",
    "        r_prev = r\n",
    "\n",
    "        x = A @ x\n",
    "        x = x / np.linalg.norm(x)\n",
    "        r = rayleigh(A, x)\n",
    "        \n",
    "        # test for convergence\n",
    "        if norm(r - r_prev) <= norm(r) * tol and (norm(x - x_prev) <= tol or norm(x + x_prev) <= tol):\n",
    "            break\n",
    "    \n",
    "    return i+1, r, x"
   ]
  },
  {
   "cell_type": "markdown",
   "metadata": {},
   "source": [
    "Then I ran this method on problem 7 again and printed the output below."
   ]
  },
  {
   "cell_type": "code",
   "execution_count": 22,
   "metadata": {},
   "outputs": [
    {
     "data": {
      "text/plain": [
       "(89, -4.149602065592591, array([-0.06866681,  0.14760632, -0.98665964]))"
      ]
     },
     "execution_count": 22,
     "metadata": {},
     "output_type": "execute_result"
    }
   ],
   "source": [
    "A, y, V = get_eigen_problem(7)\n",
    "x0 = np.ones(A.shape[0])\n",
    "power_method2b(A, x0, max_iter=100000, tol=1e-8)"
   ]
  },
  {
   "cell_type": "markdown",
   "metadata": {},
   "source": [
    "This time, the method converged in 89 iterations.\n",
    "\n",
    "The other problem that did not converge was problem 4. The absolute values of the eigenvalues of this matrix are all 2, so there is no single largest eigenvalue. This explains why the power method does not converge."
   ]
  },
  {
   "cell_type": "code",
   "execution_count": 14,
   "metadata": {},
   "outputs": [
    {
     "data": {
      "text/plain": [
       "(array([-2.+0.j        ,  1.+1.73205081j,  1.-1.73205081j,  2.+0.j        ]),\n",
       " array([2., 2., 2., 2.]))"
      ]
     },
     "execution_count": 14,
     "metadata": {},
     "output_type": "execute_result"
    }
   ],
   "source": [
    "A, y, V = get_eigen_problem(4)\n",
    "y, np.abs(y)"
   ]
  },
  {
   "cell_type": "markdown",
   "metadata": {},
   "source": [
    "## Exercise 4 - Inverse power method\n",
    "\n",
    "The goal of this exercise is to see how the inverse power method can be used to finding the largest eigenvalue of $A^{-1}$, or equivalently, the smallest eigenvalue of $A$. The recursion is as follows:\n",
    "\n",
    "$$\n",
    "\\begin{align}\n",
    "    x_{i+1} &= \\frac{A^{-1} x_i}{\\|A^{-1} x_i\\|}\n",
    "\\end{align}\n",
    "$$\n",
    "\n",
    "In practice, we do not invert $A$ and multiply, but instead solve the linear system $A x_{i+1} = x_i$ and then normalize.\n",
    "\n",
    "I copied `power_method2` into `inverse_power_method1` and changed the matix-vector multiplication line into a linear system solve."
   ]
  },
  {
   "cell_type": "code",
   "execution_count": 15,
   "metadata": {},
   "outputs": [
    {
     "data": {
      "text/plain": [
       "(array([[2., 1., 0.],\n",
       "        [1., 3., 1.],\n",
       "        [0., 1., 4.]]),\n",
       " array([1.26794919, 3.        , 4.73205081]),\n",
       " array([[-0.78867513, -0.57735027,  0.21132487],\n",
       "        [ 0.57735027, -0.57735027,  0.57735027],\n",
       "        [-0.21132487,  0.57735027,  0.78867513]]))"
      ]
     },
     "execution_count": 15,
     "metadata": {},
     "output_type": "execute_result"
    }
   ],
   "source": [
    "def inverse_power_method1(A, x0, max_iter, tol):\n",
    "\n",
    "    x = np.array(x0)\n",
    "    r = rayleigh(A, x)\n",
    "    \n",
    "    for i in range(max_iter):\n",
    "        x_prev = x\n",
    "        r_prev = r\n",
    "\n",
    "        x = np.linalg.solve(A, x)\n",
    "        x = x / norm(x)\n",
    "        r = rayleigh(A, x)\n",
    "        \n",
    "        # test for convergence\n",
    "        if norm(r - r_prev) <= norm(r) * tol and norm(x - x_prev) <= tol:\n",
    "            break\n",
    "    \n",
    "    return i+1, r, x\n",
    "\n",
    "A, y, V = get_eigen_problem(1)\n",
    "A, y, V"
   ]
  },
  {
   "cell_type": "markdown",
   "metadata": {},
   "source": [
    "Next, I used the inverse power method to estimate the minimum eigenvalue for the second provided eigenvalue problem. I performed the computation and then printed the number of iterations, the approximate minimum eigenvalue, and the associated eigenvector."
   ]
  },
  {
   "cell_type": "code",
   "execution_count": 16,
   "metadata": {},
   "outputs": [
    {
     "data": {
      "text/plain": [
       "(23, 1.267949192431123, array([ 0.78867513, -0.57735027,  0.21132487]))"
      ]
     },
     "execution_count": 16,
     "metadata": {},
     "output_type": "execute_result"
    }
   ],
   "source": [
    "n_iters, r, x = inverse_power_method1(A, x0=[0,0,1], max_iter=1000, tol=1e-8)\n",
    "n_iters, r, x"
   ]
  },
  {
   "cell_type": "markdown",
   "metadata": {},
   "source": [
    "To verify this method, I also used standard power iteration on the inverse matrix $A^{-1}$. Since this computes the largest eigenvalue of the inverse of A, I printed the inverse of this value, which should be the smallest eigenvalue of A."
   ]
  },
  {
   "cell_type": "code",
   "execution_count": 17,
   "metadata": {},
   "outputs": [
    {
     "data": {
      "text/plain": [
       "(23, 1.2679491924311228, array([ 0.78867513, -0.57735027,  0.21132487]))"
      ]
     },
     "execution_count": 17,
     "metadata": {},
     "output_type": "execute_result"
    }
   ],
   "source": [
    "B = np.linalg.inv(A)\n",
    "n_iters, r, x = power_method2(B, x0=[0,0,1], max_iter=1000, tol=1e-8)\n",
    "n_iters, 1/r, x"
   ]
  },
  {
   "cell_type": "markdown",
   "metadata": {},
   "source": [
    "## Exercise 5 - Negative eigenvalues\n",
    "\n",
    "The goal of this exercise is to implement a different way of handling negative eigenvalues in the inverse power method. Since the sign of the eigenvector does not matter, we can simply multiply by -1 whenever the direction of the vector changes, as determined by the dot product.\n",
    "\n",
    "I modified my inverse power method function to check whether $x \\cdot x <0$ on each iteration, and if so, to multiply by -1."
   ]
  },
  {
   "cell_type": "code",
   "execution_count": 18,
   "metadata": {},
   "outputs": [
    {
     "data": {
      "text/plain": [
       "(array([[-2.,  1.,  0.],\n",
       "        [ 1.,  3.,  1.],\n",
       "        [ 0.,  1., -4.]]),\n",
       " array([ 3.32434738, -2.17474532, -4.14960207]),\n",
       " array([[ 0.18294927, -0.98072138,  0.06866681],\n",
       "        [ 0.97408546,  0.17137647, -0.14760632],\n",
       "        [ 0.1329928 ,  0.09389181,  0.98665964]]))"
      ]
     },
     "execution_count": 18,
     "metadata": {},
     "output_type": "execute_result"
    }
   ],
   "source": [
    "def inverse_power_method2(A, x0, max_iter, tol):\n",
    "\n",
    "    x = np.array(x0)\n",
    "    r = rayleigh(A, x) \n",
    "    \n",
    "    for i in range(max_iter):\n",
    "        x_prev = x\n",
    "        r_prev = r\n",
    "\n",
    "        x = np.linalg.solve(A, x)\n",
    "        x = x / norm(x)\n",
    "        r = rayleigh(A, x)\n",
    "        \n",
    "        if x @ x_prev < 0:\n",
    "            x = -x\n",
    "        \n",
    "        # test for convergence\n",
    "        if norm(r - r_prev) <= norm(r) * tol and norm(x - x_prev) <= tol:\n",
    "            break\n",
    "    \n",
    "    return i+1, r, x\n",
    "\n",
    "A, y, V = get_eigen_problem(7)\n",
    "A, y, V"
   ]
  },
  {
   "cell_type": "markdown",
   "metadata": {},
   "source": [
    "Next, I tested the improved inverse power method function on eigenvalue problem 7, which previously failed to converge due to negative eigenvalues."
   ]
  },
  {
   "cell_type": "code",
   "execution_count": 19,
   "metadata": {},
   "outputs": [
    {
     "data": {
      "text/plain": [
       "(47, -2.174745315478483, array([-0.98072139,  0.17137646,  0.09389181]))"
      ]
     },
     "execution_count": 19,
     "metadata": {},
     "output_type": "execute_result"
    }
   ],
   "source": [
    "n_iters, r, x = inverse_power_method2(A, x0=[0,0,1], max_iter=10000, tol=1e-8)\n",
    "n_iters, r, x"
   ]
  },
  {
   "cell_type": "markdown",
   "metadata": {},
   "source": [
    "The method successfully converged to the smallest eigenvalue (in absolute terms) of $A$ within 47 iterations. I then ran the same method on all 8 provided eigenvalue problems and collected the results into a data frame."
   ]
  },
  {
   "cell_type": "code",
   "execution_count": 20,
   "metadata": {},
   "outputs": [
    {
     "data": {
      "text/html": [
       "<div>\n",
       "<style scoped>\n",
       "    .dataframe tbody tr th:only-of-type {\n",
       "        vertical-align: middle;\n",
       "    }\n",
       "\n",
       "    .dataframe tbody tr th {\n",
       "        vertical-align: top;\n",
       "    }\n",
       "\n",
       "    .dataframe thead th {\n",
       "        text-align: right;\n",
       "    }\n",
       "</style>\n",
       "<table border=\"1\" class=\"dataframe\">\n",
       "  <thead>\n",
       "    <tr style=\"text-align: right;\">\n",
       "      <th></th>\n",
       "      <th>problem</th>\n",
       "      <th>n_iters</th>\n",
       "      <th>eigenvalue</th>\n",
       "      <th>eigenvector</th>\n",
       "    </tr>\n",
       "  </thead>\n",
       "  <tbody>\n",
       "    <tr>\n",
       "      <th>0</th>\n",
       "      <td>0</td>\n",
       "      <td>46</td>\n",
       "      <td>1.000000</td>\n",
       "      <td>[0.7071, -0.0, 0.7071]</td>\n",
       "    </tr>\n",
       "    <tr>\n",
       "      <th>1</th>\n",
       "      <td>1</td>\n",
       "      <td>20</td>\n",
       "      <td>1.267949</td>\n",
       "      <td>[0.7887, -0.5774, 0.2113]</td>\n",
       "    </tr>\n",
       "    <tr>\n",
       "      <th>2</th>\n",
       "      <td>2</td>\n",
       "      <td>39</td>\n",
       "      <td>-1.274917</td>\n",
       "      <td>[0.3341, -0.8813, 0.3341]</td>\n",
       "    </tr>\n",
       "    <tr>\n",
       "      <th>3</th>\n",
       "      <td>3</td>\n",
       "      <td>15</td>\n",
       "      <td>0.198062</td>\n",
       "      <td>[0.2319, -0.4179, 0.5211, -0.5211, 0.4179, -0....</td>\n",
       "    </tr>\n",
       "    <tr>\n",
       "      <th>4</th>\n",
       "      <td>4</td>\n",
       "      <td>10000</td>\n",
       "      <td>-2.040041</td>\n",
       "      <td>[-0.4741, -0.7937, -0.3129, -0.2178]</td>\n",
       "    </tr>\n",
       "    <tr>\n",
       "      <th>5</th>\n",
       "      <td>5</td>\n",
       "      <td>74</td>\n",
       "      <td>1.607695</td>\n",
       "      <td>[-0.2887, 0.5, -0.5774, 0.5, -0.2887]</td>\n",
       "    </tr>\n",
       "    <tr>\n",
       "      <th>6</th>\n",
       "      <td>6</td>\n",
       "      <td>15</td>\n",
       "      <td>0.003793</td>\n",
       "      <td>[-0.0122, -0.0243, -0.0364, -0.0483, -0.06, -0...</td>\n",
       "    </tr>\n",
       "    <tr>\n",
       "      <th>7</th>\n",
       "      <td>7</td>\n",
       "      <td>48</td>\n",
       "      <td>-2.174745</td>\n",
       "      <td>[-0.9807, 0.1714, 0.0939]</td>\n",
       "    </tr>\n",
       "  </tbody>\n",
       "</table>\n",
       "</div>"
      ],
      "text/plain": [
       "   problem  n_iters  eigenvalue  \\\n",
       "0        0       46    1.000000   \n",
       "1        1       20    1.267949   \n",
       "2        2       39   -1.274917   \n",
       "3        3       15    0.198062   \n",
       "4        4    10000   -2.040041   \n",
       "5        5       74    1.607695   \n",
       "6        6       15    0.003793   \n",
       "7        7       48   -2.174745   \n",
       "\n",
       "                                         eigenvector  \n",
       "0                             [0.7071, -0.0, 0.7071]  \n",
       "1                          [0.7887, -0.5774, 0.2113]  \n",
       "2                          [0.3341, -0.8813, 0.3341]  \n",
       "3  [0.2319, -0.4179, 0.5211, -0.5211, 0.4179, -0....  \n",
       "4               [-0.4741, -0.7937, -0.3129, -0.2178]  \n",
       "5              [-0.2887, 0.5, -0.5774, 0.5, -0.2887]  \n",
       "6  [-0.0122, -0.0243, -0.0364, -0.0483, -0.06, -0...  \n",
       "7                          [-0.9807, 0.1714, 0.0939]  "
      ]
     },
     "execution_count": 20,
     "metadata": {},
     "output_type": "execute_result"
    }
   ],
   "source": [
    "data = []\n",
    "for i in range(8):\n",
    "    A, y, V = get_eigen_problem(i)\n",
    "    x0 = np.random.normal(0, 1, A.shape[0])\n",
    "    n_iters, r, x = inverse_power_method2(A, x0, max_iter=10000, tol=1e-8)\n",
    "    data.append((i, n_iters, r, np.round(x, 4)))\n",
    "    \n",
    "pd.DataFrame(data, columns=['problem', 'n_iters', 'eigenvalue', 'eigenvector'])"
   ]
  },
  {
   "cell_type": "markdown",
   "metadata": {},
   "source": [
    "We can see from the table that all but one of the eigenvalue problems converged using the inverse power method with handling of negative eigenvalues. Problem 4 was the one which did not converge, because all of its eigenvalues are 2, as was discussed previously."
   ]
  },
  {
   "cell_type": "markdown",
   "metadata": {},
   "source": [
    "## Exercise 6 - Finding multiple orthogonal eigenvectors\n",
    "\n",
    "The purpose of this exercise is to extend the power iteration method with the capability of finding more than one eigenvalue and eigenvector, assuming that the eigenvectors are orthogonal.\n",
    "\n",
    "We will reuse the implementation of the Gram-Schmidt orthogonalization method from lab 7 in this task."
   ]
  },
  {
   "cell_type": "code",
   "execution_count": 30,
   "metadata": {},
   "outputs": [],
   "source": [
    "def gs(X):\n",
    "    '''\n",
    "    Gram Schmidt orthogonalization method.\n",
    "\n",
    "    Args:\n",
    "        X: M x N matrix.\n",
    "    Returns:\n",
    "        M x N_Q matrix with orthonormal columns\n",
    "            that span the same space as X.\n",
    "    '''\n",
    "    m, n = X.shape\n",
    "    \n",
    "    # accrue orthonormal vectors in Q\n",
    "    Q = []\n",
    "    \n",
    "    # for each column,\n",
    "    for j in range(n):\n",
    "        \n",
    "        X_j = X[:,j]\n",
    "    \n",
    "        # for each previous orthogonal column,\n",
    "        for i in range(len(Q)):\n",
    "\n",
    "            Q_i = Q[i]\n",
    "    \n",
    "            # compute the dot product\n",
    "            r_ij = Q_i @ X_j\n",
    "            \n",
    "            # subtract the projection\n",
    "            #   this makes them orthogonal\n",
    "            X_j = X_j - Q_i * r_ij\n",
    "\n",
    "        # normalize the vector\n",
    "        r_jj = norm(X_j)\n",
    "\n",
    "        if r_jj > 0:\n",
    "            Q.append(X_j / r_jj)\n",
    "             \n",
    "    return np.stack(Q, axis=1)"
   ]
  },
  {
   "cell_type": "markdown",
   "metadata": {},
   "source": [
    "Then, we extend the power iteration method by keeping track of multiple vectors at each iteration, and ensuring that they are orthogonal throughout the computation by repeated calls to the `gs` method."
   ]
  },
  {
   "cell_type": "code",
   "execution_count": 36,
   "metadata": {},
   "outputs": [
    {
     "data": {
      "text/plain": [
       "(array([[2., 1., 0., 0., 0., 0.],\n",
       "        [1., 2., 1., 0., 0., 0.],\n",
       "        [0., 1., 2., 1., 0., 0.],\n",
       "        [0., 0., 1., 2., 1., 0.],\n",
       "        [0., 0., 0., 1., 2., 1.],\n",
       "        [0., 0., 0., 0., 1., 2.]]),\n",
       " array([3.80193774, 3.2469796 , 2.44504187, 0.19806226, 1.55495813,\n",
       "        0.7530204 ]),\n",
       " array([[ 0.23192061, -0.41790651, -0.52112089,  0.23192061,  0.52112089,\n",
       "          0.41790651],\n",
       "        [ 0.41790651, -0.52112089, -0.23192061, -0.41790651, -0.23192061,\n",
       "         -0.52112089],\n",
       "        [ 0.52112089, -0.23192061,  0.41790651,  0.52112089, -0.41790651,\n",
       "          0.23192061],\n",
       "        [ 0.52112089,  0.23192061,  0.41790651, -0.52112089,  0.41790651,\n",
       "          0.23192061],\n",
       "        [ 0.41790651,  0.52112089, -0.23192061,  0.41790651,  0.23192061,\n",
       "         -0.52112089],\n",
       "        [ 0.23192061,  0.41790651, -0.52112089, -0.23192061, -0.52112089,\n",
       "          0.41790651]]))"
      ]
     },
     "execution_count": 36,
     "metadata": {},
     "output_type": "execute_result"
    }
   ],
   "source": [
    "def power_method3(A, V, max_iter, tol):\n",
    "    assert (A == A.T).all(), 'A must be symmetric'\n",
    "\n",
    "    r = np.diag(rayleigh(A, V))\n",
    "    \n",
    "    for i in range(max_iter):\n",
    "        V_prev = V\n",
    "        r_prev = r\n",
    "\n",
    "        V = A @ V\n",
    "        V = gs(V) # orthonormalize\n",
    "        r = np.diag(rayleigh(A, V))\n",
    "        \n",
    "        V = np.where(np.diag(V.T @ V_prev) < 0, -V, V)\n",
    "        \n",
    "        # test for convergence\n",
    "        if norm(r - r_prev) <= norm(r) * tol and norm(V - V_prev) <= tol:\n",
    "            break\n",
    "    \n",
    "    return i+1, r, V\n",
    "\n",
    "A, y, V = get_eigen_problem(3)\n",
    "A, y, V"
   ]
  },
  {
   "cell_type": "markdown",
   "metadata": {},
   "source": [
    "I evaluated this extended power method on eigenvalue problem 3. I used the function to estimate the largest two eigenvalues and associated eigenvectors of the matrix, starting with random initial vectors. The resulting estimates are displayed below."
   ]
  },
  {
   "cell_type": "code",
   "execution_count": 38,
   "metadata": {},
   "outputs": [
    {
     "data": {
      "text/plain": [
       "(99,\n",
       " array([3.80193774, 3.2469796 ]),\n",
       " array([[ 0.2319206 ,  0.41790651],\n",
       "        [ 0.41790649,  0.5211209 ],\n",
       "        [ 0.52112088,  0.23192063],\n",
       "        [ 0.5211209 , -0.23192059],\n",
       "        [ 0.41790653, -0.52112087],\n",
       "        [ 0.23192063, -0.4179065 ]]))"
      ]
     },
     "execution_count": 38,
     "metadata": {},
     "output_type": "execute_result"
    }
   ],
   "source": [
    "c = 2 # number of eigenvectors\n",
    "V = np.random.rand(A.shape[0], c)\n",
    "n_iters, r, V = power_method3(A, V, max_iter=10000, tol=1e-8)\n",
    "n_iters, r, V"
   ]
  },
  {
   "cell_type": "markdown",
   "metadata": {},
   "source": [
    "The method converged in 99 iterations and succesfully identified the dominant two eigenvalues and eigenvectors."
   ]
  },
  {
   "cell_type": "code",
   "execution_count": 39,
   "metadata": {},
   "outputs": [
    {
     "data": {
      "text/plain": [
       "(102,\n",
       " array([3.80193774, 3.2469796 , 2.44504187, 1.55495813, 0.7530204 ,\n",
       "        0.19806226]),\n",
       " array([[ 0.23192063, -0.4179065 , -0.52112089,  0.52112089,  0.41790651,\n",
       "         -0.23192061],\n",
       "        [ 0.41790653, -0.52112087, -0.23192061, -0.23192061, -0.52112089,\n",
       "          0.41790651],\n",
       "        [ 0.5211209 , -0.23192059,  0.41790651, -0.41790651,  0.23192061,\n",
       "         -0.52112089],\n",
       "        [ 0.52112088,  0.23192063,  0.41790651,  0.41790651,  0.23192061,\n",
       "          0.52112089],\n",
       "        [ 0.41790649,  0.52112091, -0.23192061,  0.23192061, -0.52112089,\n",
       "         -0.41790651],\n",
       "        [ 0.2319206 ,  0.41790652, -0.52112089, -0.52112089,  0.41790651,\n",
       "          0.23192061]]))"
      ]
     },
     "execution_count": 39,
     "metadata": {},
     "output_type": "execute_result"
    }
   ],
   "source": [
    "c = 6 # number of eigenvectors\n",
    "V = np.random.rand(A.shape[0], c)\n",
    "n_iters, r, V = power_method3(A, V, max_iter=10000, tol=1e-8)\n",
    "n_iters, r, V"
   ]
  },
  {
   "cell_type": "markdown",
   "metadata": {},
   "source": [
    "I repeated the trial, this time trying to find all 6 eigenvalues and eigenvectors of the matrix. As can be seen from the output above, the method converged in 102 iterations and found all 6 eigenvalues and eigenvectors with low error."
   ]
  },
  {
   "cell_type": "markdown",
   "metadata": {},
   "source": [
    "## Exercise 7 - Using shifts to find eigenvalues\n",
    "\n",
    "Instead of finding the maximum or minimum eigenvalue, we can find eigenvalues closest to some arbitrary *shift* value $\\sigma$:\n",
    "\n",
    "$$\n",
    "\\begin{align}\n",
    "    B &= A - \\sigma I \\\\\n",
    "    \\det(B - \\lambda I) &= 0 \\\\\n",
    "    \\det((A - \\sigma I) - \\lambda I) &= 0 \\\\\n",
    "    \\det(A - (\\sigma I + \\lambda I)) &= 0 \\\\\n",
    "    \\det(A - (\\lambda + \\sigma) I) &= 0 \\\\\n",
    "    (A - (\\lambda + \\sigma) I)v &= 0 \\\\\n",
    "    Av - (\\lambda + \\sigma)v &= 0 \\\\\n",
    "    Av &= (\\lambda + \\sigma)v \\\\\n",
    "\\end{align}\n",
    "$$\n",
    "\n",
    "In other words, by finding an eigenvalue $\\lambda$ for the matrix $B = A - \\sigma I$, we find an associated eigenvalue $\\lambda + \\sigma$ for $A$. If we use the inverse power method to find the *smallest* eigenvalue of $B$, we find the eigenvalue of $A$ that is *closest* to $\\sigma$.\n",
    "\n",
    "I implemented a new version of the inverse power method that includes a shift parameter, as described above."
   ]
  },
  {
   "cell_type": "code",
   "execution_count": 42,
   "metadata": {},
   "outputs": [
    {
     "data": {
      "text/plain": [
       "(array([[1., 2., 3.],\n",
       "        [2., 1., 4.],\n",
       "        [3., 2., 1.]]),\n",
       " array([ 6.27491722, -1.27491722, -2.        ]),\n",
       " array([[-0.55099872, -0.33414764, -0.12700013],\n",
       "        [-0.62673824,  0.88130058, -0.76200076],\n",
       "        [-0.55099872, -0.33414764,  0.63500064]]))"
      ]
     },
     "execution_count": 42,
     "metadata": {},
     "output_type": "execute_result"
    }
   ],
   "source": [
    "def inverse_power_method3(A, x0, max_iter, tol, shift=0):\n",
    "\n",
    "    x = np.array(x0)\n",
    "    r = rayleigh(A, x)\n",
    "    I = np.eye(A.shape[0])\n",
    "    \n",
    "    for i in range(max_iter):\n",
    "        x_prev = x\n",
    "        r_prev = r\n",
    "\n",
    "        B = A - shift*I\n",
    "        x = np.linalg.solve(B, x)\n",
    "        x = x / norm(x)\n",
    "        r = rayleigh(B, x) + shift\n",
    "        \n",
    "        if x @ x_prev < 0:\n",
    "            x = -x\n",
    "        \n",
    "        # test for convergence\n",
    "        if norm(r - r_prev) <= norm(r) * tol and norm(x - x_prev) <= tol:\n",
    "            break\n",
    "    \n",
    "    return i+1, r, x\n",
    "\n",
    "A, y, V = get_eigen_problem(2)\n",
    "A, y, V"
   ]
  },
  {
   "cell_type": "markdown",
   "metadata": {},
   "source": [
    "I tested the shift feature by running the new inverse power method function on the provided eigenvalue problem 2, displayed above. I tested using shift=0. The resulting number of iterations, eigenvalue, and eigenvector are shown in the output below. "
   ]
  },
  {
   "cell_type": "code",
   "execution_count": 47,
   "metadata": {},
   "outputs": [
    {
     "data": {
      "text/plain": [
       "((40, -1.2749172000652718, array([ 0.33414765, -0.88130058,  0.33414763])),\n",
       " (40, -1.2749172000652718, array([ 0.33414765, -0.88130058,  0.33414763])))"
      ]
     },
     "execution_count": 47,
     "metadata": {},
     "output_type": "execute_result"
    }
   ],
   "source": [
    "x0 = np.random.normal(0, 1, A.shape[0])\n",
    "inverse_power_method2(A, x0, max_iter=100000, tol=1e-8), \\\n",
    "inverse_power_method3(A, x0, max_iter=100000, tol=1e-8, shift=0)"
   ]
  },
  {
   "cell_type": "markdown",
   "metadata": {},
   "source": [
    "By visual comparison of the outputs of `inverse_power_method3` to `inverse_power_method2` we see that the method works as expected for shift=0. Next, I tested it on shifts [0, -1, -3, 5]. I collected the results and displayed them in the table below."
   ]
  },
  {
   "cell_type": "code",
   "execution_count": 49,
   "metadata": {},
   "outputs": [
    {
     "data": {
      "text/html": [
       "<div>\n",
       "<style scoped>\n",
       "    .dataframe tbody tr th:only-of-type {\n",
       "        vertical-align: middle;\n",
       "    }\n",
       "\n",
       "    .dataframe tbody tr th {\n",
       "        vertical-align: top;\n",
       "    }\n",
       "\n",
       "    .dataframe thead th {\n",
       "        text-align: right;\n",
       "    }\n",
       "</style>\n",
       "<table border=\"1\" class=\"dataframe\">\n",
       "  <thead>\n",
       "    <tr style=\"text-align: right;\">\n",
       "      <th></th>\n",
       "      <th>shift</th>\n",
       "      <th>n_iters</th>\n",
       "      <th>eigenvalue</th>\n",
       "      <th>eigenvector</th>\n",
       "    </tr>\n",
       "  </thead>\n",
       "  <tbody>\n",
       "    <tr>\n",
       "      <th>0</th>\n",
       "      <td>0</td>\n",
       "      <td>40</td>\n",
       "      <td>-1.274917</td>\n",
       "      <td>[0.3341, -0.8813, 0.3341]</td>\n",
       "    </tr>\n",
       "    <tr>\n",
       "      <th>1</th>\n",
       "      <td>-1</td>\n",
       "      <td>16</td>\n",
       "      <td>-1.274917</td>\n",
       "      <td>[-0.3341, 0.8813, -0.3341]</td>\n",
       "    </tr>\n",
       "    <tr>\n",
       "      <th>2</th>\n",
       "      <td>-3</td>\n",
       "      <td>31</td>\n",
       "      <td>-2.000000</td>\n",
       "      <td>[0.127, 0.762, -0.635]</td>\n",
       "    </tr>\n",
       "    <tr>\n",
       "      <th>3</th>\n",
       "      <td>5</td>\n",
       "      <td>13</td>\n",
       "      <td>6.274917</td>\n",
       "      <td>[-0.551, -0.6267, -0.551]</td>\n",
       "    </tr>\n",
       "  </tbody>\n",
       "</table>\n",
       "</div>"
      ],
      "text/plain": [
       "   shift  n_iters  eigenvalue                 eigenvector\n",
       "0      0       40   -1.274917   [0.3341, -0.8813, 0.3341]\n",
       "1     -1       16   -1.274917  [-0.3341, 0.8813, -0.3341]\n",
       "2     -3       31   -2.000000      [0.127, 0.762, -0.635]\n",
       "3      5       13    6.274917   [-0.551, -0.6267, -0.551]"
      ]
     },
     "execution_count": 49,
     "metadata": {},
     "output_type": "execute_result"
    }
   ],
   "source": [
    "data = []\n",
    "for shift in [0, -1, -3, 5]:\n",
    "    n_iters, r, x = inverse_power_method3(A, x0, max_iter=100000, tol=1e-8, shift=shift)\n",
    "    data.append((shift, n_iters, r, np.round(x, 4)))\n",
    "    \n",
    "pd.DataFrame(data, columns=['shift', 'n_iters', 'eigenvalue', 'eigenvector'])"
   ]
  },
  {
   "cell_type": "markdown",
   "metadata": {},
   "source": [
    "We can see from the table that the inverse power method with shifts finds all 3 of the eigenvalues and eigenvectors of the matrix. For each shift value, it finds the eigenvalue closest to the shift parameter in absolute terms."
   ]
  },
  {
   "cell_type": "markdown",
   "metadata": {},
   "source": [
    "## Exercise 8 - QR eigenvalue method\n",
    "\n",
    "Power iteration methods are adequate at finding a handful of eigenvalues and eigenvectors in certain cases, but they fail when the matrix has repeated eigenvalues, distinct eigenvalues of the same magnitude, and complex eigenvalues. Here we investigate the QR method, which finds all eigenvalues of a matrix in a single algorithm.\n",
    "\n",
    "To implement this metohd, we will reuse the `gs_factor` method from lab 7."
   ]
  },
  {
   "cell_type": "code",
   "execution_count": 50,
   "metadata": {},
   "outputs": [],
   "source": [
    "def gs_factor(A):\n",
    "    '''\n",
    "    Factor an M x N matrix A into a N x N\n",
    "    orthogonal matrix Q and a M x N upper\n",
    "    triangular matrix R such that A = QR,\n",
    "    using the Gram Schmidt method.\n",
    "\n",
    "    Args:\n",
    "        A: M x N matrix.\n",
    "    Returns:\n",
    "        M x N orthogonal matrix Q.\n",
    "        N x N upper triangular matrix R.\n",
    "    '''\n",
    "    m, n = A.shape\n",
    "    \n",
    "    # initialize return values\n",
    "    Q = A.astype(float)\n",
    "    R = np.zeros((n, n))\n",
    "    \n",
    "    # for each column,\n",
    "    for j in range(n):\n",
    "\n",
    "        # for each previous column,\n",
    "        for i in range(j):\n",
    "\n",
    "            # compute the dot product\n",
    "            R[i,j] = Q[:,i] @ Q[:,j]\n",
    "            \n",
    "            # subtract the projection\n",
    "            #   this makes them orthogonal\n",
    "            Q[:,j] -= Q[:,i] * R[i,j]\n",
    "\n",
    "        # normalize the vector\n",
    "        R[j,j] = norm(Q[:,j])\n",
    "        assert R[j,j] > 0, 'zero column'\n",
    "        Q[:,j] /= R[j,j]\n",
    "\n",
    "    return Q, R"
   ]
  },
  {
   "cell_type": "markdown",
   "metadata": {},
   "source": [
    "I implemented a function `qr_method(A, max_iter, tol)` which repeatedly performs QR factorization on the matrix A, then reassigns $A \\gets RQ$, checking for convergence at each step. The resulting matrix is orthogonally similar to A, so it has the same eigenvalues. Furthermore, the eigenvalues appear on the diagonal of the resulting matrix."
   ]
  },
  {
   "cell_type": "code",
   "execution_count": 54,
   "metadata": {},
   "outputs": [],
   "source": [
    "def qr_method(A, max_iter=100000, tol=1e-8):\n",
    "\n",
    "    for i in range(max_iter):\n",
    "        A_prev = A\n",
    "\n",
    "        Q, R = gs_factor(A)\n",
    "        A = R @ Q\n",
    "        \n",
    "        # test for convergence\n",
    "        if norm(A - A_prev) <= tol:\n",
    "            break\n",
    "\n",
    "    return i+1, np.diag(A)"
   ]
  },
  {
   "cell_type": "markdown",
   "metadata": {},
   "source": [
    "I ran this function on all 8 provided eigenvalue problems and compared their output to the true eigenvalues. Specifically, I collected the true maximum and minimum eigenvalue and the estimated maximum and minimum eigenvalue for each matrix and printed them in the table below."
   ]
  },
  {
   "cell_type": "code",
   "execution_count": 57,
   "metadata": {},
   "outputs": [
    {
     "data": {
      "text/html": [
       "<div>\n",
       "<style scoped>\n",
       "    .dataframe tbody tr th:only-of-type {\n",
       "        vertical-align: middle;\n",
       "    }\n",
       "\n",
       "    .dataframe tbody tr th {\n",
       "        vertical-align: top;\n",
       "    }\n",
       "\n",
       "    .dataframe thead th {\n",
       "        text-align: right;\n",
       "    }\n",
       "</style>\n",
       "<table border=\"1\" class=\"dataframe\">\n",
       "  <thead>\n",
       "    <tr style=\"text-align: right;\">\n",
       "      <th></th>\n",
       "      <th>problem</th>\n",
       "      <th>n_iters</th>\n",
       "      <th>y_max</th>\n",
       "      <th>y_min</th>\n",
       "      <th>y_max_pred</th>\n",
       "      <th>y_min_pred</th>\n",
       "    </tr>\n",
       "  </thead>\n",
       "  <tbody>\n",
       "    <tr>\n",
       "      <th>0</th>\n",
       "      <td>0</td>\n",
       "      <td>100000</td>\n",
       "      <td>2.000000+0.000000j</td>\n",
       "      <td>1.000000+0.000000j</td>\n",
       "      <td>2.000000</td>\n",
       "      <td>1.000000</td>\n",
       "    </tr>\n",
       "    <tr>\n",
       "      <th>1</th>\n",
       "      <td>1</td>\n",
       "      <td>44</td>\n",
       "      <td>4.732051+0.000000j</td>\n",
       "      <td>1.267949+0.000000j</td>\n",
       "      <td>4.732051</td>\n",
       "      <td>1.267949</td>\n",
       "    </tr>\n",
       "    <tr>\n",
       "      <th>2</th>\n",
       "      <td>2</td>\n",
       "      <td>100000</td>\n",
       "      <td>6.274917+0.000000j</td>\n",
       "      <td>-1.274917+0.000000j</td>\n",
       "      <td>6.274917</td>\n",
       "      <td>-1.274917</td>\n",
       "    </tr>\n",
       "    <tr>\n",
       "      <th>3</th>\n",
       "      <td>3</td>\n",
       "      <td>108</td>\n",
       "      <td>3.801938+0.000000j</td>\n",
       "      <td>0.198062+0.000000j</td>\n",
       "      <td>3.801938</td>\n",
       "      <td>0.198062</td>\n",
       "    </tr>\n",
       "    <tr>\n",
       "      <th>4</th>\n",
       "      <td>4</td>\n",
       "      <td>100000</td>\n",
       "      <td>1.000000+1.732051j</td>\n",
       "      <td>-2.000000+0.000000j</td>\n",
       "      <td>2.608696</td>\n",
       "      <td>-0.158896</td>\n",
       "    </tr>\n",
       "    <tr>\n",
       "      <th>5</th>\n",
       "      <td>5</td>\n",
       "      <td>78</td>\n",
       "      <td>22.392305+0.000000j</td>\n",
       "      <td>1.607695+0.000000j</td>\n",
       "      <td>22.392305</td>\n",
       "      <td>1.607695</td>\n",
       "    </tr>\n",
       "    <tr>\n",
       "      <th>6</th>\n",
       "      <td>6</td>\n",
       "      <td>3203</td>\n",
       "      <td>3.996207+0.000000j</td>\n",
       "      <td>0.003793+0.000000j</td>\n",
       "      <td>3.996207</td>\n",
       "      <td>0.003793</td>\n",
       "    </tr>\n",
       "    <tr>\n",
       "      <th>7</th>\n",
       "      <td>7</td>\n",
       "      <td>92</td>\n",
       "      <td>-4.149602+0.000000j</td>\n",
       "      <td>-2.174745+0.000000j</td>\n",
       "      <td>-4.149602</td>\n",
       "      <td>-2.174745</td>\n",
       "    </tr>\n",
       "  </tbody>\n",
       "</table>\n",
       "</div>"
      ],
      "text/plain": [
       "   problem  n_iters                y_max               y_min  y_max_pred  \\\n",
       "0        0   100000   2.000000+0.000000j  1.000000+0.000000j    2.000000   \n",
       "1        1       44   4.732051+0.000000j  1.267949+0.000000j    4.732051   \n",
       "2        2   100000   6.274917+0.000000j -1.274917+0.000000j    6.274917   \n",
       "3        3      108   3.801938+0.000000j  0.198062+0.000000j    3.801938   \n",
       "4        4   100000   1.000000+1.732051j -2.000000+0.000000j    2.608696   \n",
       "5        5       78  22.392305+0.000000j  1.607695+0.000000j   22.392305   \n",
       "6        6     3203   3.996207+0.000000j  0.003793+0.000000j    3.996207   \n",
       "7        7       92  -4.149602+0.000000j -2.174745+0.000000j   -4.149602   \n",
       "\n",
       "   y_min_pred  \n",
       "0    1.000000  \n",
       "1    1.267949  \n",
       "2   -1.274917  \n",
       "3    0.198062  \n",
       "4   -0.158896  \n",
       "5    1.607695  \n",
       "6    0.003793  \n",
       "7   -2.174745  "
      ]
     },
     "execution_count": 57,
     "metadata": {},
     "output_type": "execute_result"
    }
   ],
   "source": [
    "def max_and_min(y):\n",
    "    y_abs = np.abs(y)\n",
    "    return y[y_abs.argmax()], y[y_abs.argmin()]\n",
    "\n",
    "data = []\n",
    "for i in range(8):\n",
    "    A, y, V = get_eigen_problem(i)\n",
    "    n_iters, y_pred = qr_method(A)\n",
    "    y_max, y_min = max_and_min(y)\n",
    "    y_max_pred, y_min_pred = max_and_min(y_pred)\n",
    "    data.append((i, n_iters, y_max, y_min, y_max_pred, y_min_pred))\n",
    "    \n",
    "pd.DataFrame(data, columns=['problem', 'n_iters', 'y_max', 'y_min', 'y_max_pred', 'y_min_pred'])"
   ]
  },
  {
   "cell_type": "markdown",
   "metadata": {},
   "source": [
    "Out of all the test cases, the only one where the QR method fails to find reasonably close approximations of the max and min eigenvalues was matrix 4. This was the only test matrix with complex eigenvalues, and the current implementation of the QR algorithm does not handle complex eigenvalues."
   ]
  },
  {
   "cell_type": "markdown",
   "metadata": {},
   "source": [
    "## Exercise 9 - Diagonalization of a symmetric matrix\n",
    "\n",
    "The purpose of this exercise is to understand how we can use QR factorization to diagonalize a symmetric matrix:\n",
    "\n",
    "$$\n",
    "\\begin{align}\n",
    "    A^\\top &= A \\\\\n",
    "    A &= UDU^\\top\n",
    "\\end{align}\n",
    "$$\n",
    "\n",
    "I implemented a function `qr_diagonalize(A, max_iter, tol)` below which performs diagonalization of a symmetric matrix $A$ using the QR decomposition."
   ]
  },
  {
   "cell_type": "code",
   "execution_count": 65,
   "metadata": {},
   "outputs": [],
   "source": [
    "def qr_diagonalize(A, max_iter=1000, tol=1e-8):\n",
    "    assert (A.T == A).all(), 'A must be symmetric'\n",
    "    I = np.eye(A.shape[0])\n",
    "    U = I\n",
    "    D = A\n",
    "    for i in range(max_iter):\n",
    "        Q, R = gs_factor(D)\n",
    "        D = R @ Q\n",
    "        U = U @ Q\n",
    "        if norm(D - D*I) <= tol:\n",
    "            break\n",
    "    D = D*I\n",
    "    return U, D, i+1"
   ]
  },
  {
   "cell_type": "markdown",
   "metadata": {},
   "source": [
    "I tested the QR diagonalization algorithm on all 8 of the provided eigenvalue problems. For each matrix, I first converted it to a symmetric matrix by $A \\gets A + A^\\top$. Then I computed the eigenvalues with numpy and again using my `qr_diagonalize` code. I recorded the max and min eigenvalue, as computed by each method. I displayed the results in the table below."
   ]
  },
  {
   "cell_type": "code",
   "execution_count": 70,
   "metadata": {},
   "outputs": [
    {
     "data": {
      "text/html": [
       "<div>\n",
       "<style scoped>\n",
       "    .dataframe tbody tr th:only-of-type {\n",
       "        vertical-align: middle;\n",
       "    }\n",
       "\n",
       "    .dataframe tbody tr th {\n",
       "        vertical-align: top;\n",
       "    }\n",
       "\n",
       "    .dataframe thead th {\n",
       "        text-align: right;\n",
       "    }\n",
       "</style>\n",
       "<table border=\"1\" class=\"dataframe\">\n",
       "  <thead>\n",
       "    <tr style=\"text-align: right;\">\n",
       "      <th></th>\n",
       "      <th>problem</th>\n",
       "      <th>n_iters</th>\n",
       "      <th>y_max</th>\n",
       "      <th>y_min</th>\n",
       "      <th>y_max_pred</th>\n",
       "      <th>y_min_pred</th>\n",
       "      <th>error</th>\n",
       "    </tr>\n",
       "  </thead>\n",
       "  <tbody>\n",
       "    <tr>\n",
       "      <th>0</th>\n",
       "      <td>0</td>\n",
       "      <td>485</td>\n",
       "      <td>13.795774</td>\n",
       "      <td>2.377145</td>\n",
       "      <td>13.795774</td>\n",
       "      <td>2.377145</td>\n",
       "      <td>9.743074e-09</td>\n",
       "    </tr>\n",
       "    <tr>\n",
       "      <th>1</th>\n",
       "      <td>1</td>\n",
       "      <td>47</td>\n",
       "      <td>9.464102</td>\n",
       "      <td>2.535898</td>\n",
       "      <td>9.464102</td>\n",
       "      <td>2.535898</td>\n",
       "      <td>6.667629e-09</td>\n",
       "    </tr>\n",
       "    <tr>\n",
       "      <th>2</th>\n",
       "      <td>2</td>\n",
       "      <td>66</td>\n",
       "      <td>12.717798</td>\n",
       "      <td>-2.000000</td>\n",
       "      <td>12.717798</td>\n",
       "      <td>-2.000000</td>\n",
       "      <td>9.888310e-09</td>\n",
       "    </tr>\n",
       "    <tr>\n",
       "      <th>3</th>\n",
       "      <td>3</td>\n",
       "      <td>124</td>\n",
       "      <td>7.603875</td>\n",
       "      <td>0.396125</td>\n",
       "      <td>7.603875</td>\n",
       "      <td>0.396125</td>\n",
       "      <td>9.003069e-09</td>\n",
       "    </tr>\n",
       "    <tr>\n",
       "      <th>4</th>\n",
       "      <td>4</td>\n",
       "      <td>167</td>\n",
       "      <td>14.539919</td>\n",
       "      <td>2.473294</td>\n",
       "      <td>14.539919</td>\n",
       "      <td>2.473294</td>\n",
       "      <td>9.111798e-09</td>\n",
       "    </tr>\n",
       "    <tr>\n",
       "      <th>5</th>\n",
       "      <td>5</td>\n",
       "      <td>88</td>\n",
       "      <td>44.784610</td>\n",
       "      <td>3.215390</td>\n",
       "      <td>44.784610</td>\n",
       "      <td>3.215390</td>\n",
       "      <td>8.689918e-09</td>\n",
       "    </tr>\n",
       "    <tr>\n",
       "      <th>6</th>\n",
       "      <td>6</td>\n",
       "      <td>1000</td>\n",
       "      <td>7.992413</td>\n",
       "      <td>0.007587</td>\n",
       "      <td>7.992113</td>\n",
       "      <td>0.007587</td>\n",
       "      <td>4.150536e-03</td>\n",
       "    </tr>\n",
       "    <tr>\n",
       "      <th>7</th>\n",
       "      <td>7</td>\n",
       "      <td>102</td>\n",
       "      <td>-8.299204</td>\n",
       "      <td>-4.349491</td>\n",
       "      <td>-8.299204</td>\n",
       "      <td>-4.349491</td>\n",
       "      <td>8.473715e-09</td>\n",
       "    </tr>\n",
       "  </tbody>\n",
       "</table>\n",
       "</div>"
      ],
      "text/plain": [
       "   problem  n_iters      y_max     y_min  y_max_pred  y_min_pred         error\n",
       "0        0      485  13.795774  2.377145   13.795774    2.377145  9.743074e-09\n",
       "1        1       47   9.464102  2.535898    9.464102    2.535898  6.667629e-09\n",
       "2        2       66  12.717798 -2.000000   12.717798   -2.000000  9.888310e-09\n",
       "3        3      124   7.603875  0.396125    7.603875    0.396125  9.003069e-09\n",
       "4        4      167  14.539919  2.473294   14.539919    2.473294  9.111798e-09\n",
       "5        5       88  44.784610  3.215390   44.784610    3.215390  8.689918e-09\n",
       "6        6     1000   7.992413  0.007587    7.992113    0.007587  4.150536e-03\n",
       "7        7      102  -8.299204 -4.349491   -8.299204   -4.349491  8.473715e-09"
      ]
     },
     "execution_count": 70,
     "metadata": {},
     "output_type": "execute_result"
    }
   ],
   "source": [
    "data = []\n",
    "for i in range(8):\n",
    "    A = eigen.eigen_matrix(i)\n",
    "    A = A + A.T\n",
    "    y = np.linalg.eig(A)[0]\n",
    "    U, D, n_iters = qr_diagonalize(A)\n",
    "    y_pred = np.diag(D)\n",
    "    y_max, y_min = max_and_min(y)\n",
    "    y_max_pred, y_min_pred = max_and_min(y_pred)\n",
    "    e = norm(A - U @ D @ U.T)\n",
    "    data.append((i, n_iters, y_max, y_min, y_max_pred, y_min_pred, e))\n",
    "    \n",
    "pd.DataFrame(data, columns=['problem', 'n_iters', 'y_max', 'y_min', 'y_max_pred', 'y_min_pred', 'error'])"
   ]
  },
  {
   "cell_type": "markdown",
   "metadata": {},
   "source": [
    "From the table, we see that the predicted eigenvalues are very similar between the two algorithms. Additionally, the error of the factorization is very low, indcating the"
   ]
  },
  {
   "cell_type": "code",
   "execution_count": null,
   "metadata": {},
   "outputs": [],
   "source": []
  }
 ],
 "metadata": {
  "kernelspec": {
   "display_name": "Python 3",
   "language": "python",
   "name": "python3"
  },
  "language_info": {
   "codemirror_mode": {
    "name": "ipython",
    "version": 3
   },
   "file_extension": ".py",
   "mimetype": "text/x-python",
   "name": "python",
   "nbconvert_exporter": "python",
   "pygments_lexer": "ipython3",
   "version": "3.7.6"
  }
 },
 "nbformat": 4,
 "nbformat_minor": 4
}
