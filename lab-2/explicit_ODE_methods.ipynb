{
 "cells": [
  {
   "cell_type": "markdown",
   "metadata": {},
   "source": [
    "# MATH 2071 Lab 2 - Explicit ODE methods\n",
    "\n",
    "Matthew Ragoza\n",
    "\n",
    "2022-01-19"
   ]
  },
  {
   "cell_type": "code",
   "execution_count": 1,
   "metadata": {},
   "outputs": [],
   "source": [
    "%matplotlib inline\n",
    "import numpy as np\n",
    "import pandas as pd\n",
    "import matplotlib.pyplot as plt\n",
    "import seaborn as sns\n",
    "sns.set_context('notebook')"
   ]
  },
  {
   "cell_type": "markdown",
   "metadata": {},
   "source": [
    "## Exercise 1 - Forward Euler's method\n",
    "\n",
    "The purpose of this exercise is to apply Euler's method to compute a numerical solution to an initial value problem for an explicit, scalar, first-order ODE:\n",
    "\n",
    "$$\n",
    "\\begin{align}\n",
    "y' &= f(x,y) \\\\\n",
    "y(x_0) &= y_0\n",
    "\\end{align}\n",
    "$$\n",
    "\n",
    "Euler's method is the simplest possible algorithm for producing a numerical solution to an IVP. It iteratively computes the values of $y$ at a discrete set of points $x$ with step size $h$ based on the previous value and derivative:\n",
    "\n",
    "$$\n",
    "\\begin{align}\n",
    "x_{k+1} &= x_k + h \\\\\n",
    "y_{k+1} &= y_k + h y'(x_k, y_k)\n",
    "\\end{align}\n",
    "$$\n",
    "\n",
    "Since numerical solutions are approximations of exact solutions, we would also like to characterize how far off the approximation is from the exact solution.\n",
    "\n",
    "1. To start off, I created a function that implements the forward Euler's method."
   ]
  },
  {
   "cell_type": "code",
   "execution_count": 2,
   "metadata": {},
   "outputs": [],
   "source": [
    "def forward_euler(f_ode, x_range, y_init, n_steps):\n",
    "    \n",
    "    # initialize arrays to store x and y values\n",
    "    x = np.zeros(n_steps+1)\n",
    "    y = np.zeros((n_steps+1, np.size(y_init)))\n",
    "    \n",
    "    # get the step size\n",
    "    h = (x_range[1] - x_range[0]) / n_steps\n",
    "    \n",
    "    # compute numerical solution\n",
    "    for k in range(0, n_steps+1):\n",
    "        \n",
    "        if k == 0: # set initial conditions\n",
    "            x[0] = x_range[0]\n",
    "            y[0] = y_init\n",
    "        else:\n",
    "            x[k] = x[k-1] + h\n",
    "            y[k] = y[k-1] + h * f_ode(x[k-1], y[k-1])\n",
    "\n",
    "    return x, y"
   ]
  },
  {
   "cell_type": "markdown",
   "metadata": {},
   "source": [
    "I also created functions for the righthand side of the following sample ODE initial value problem:\n",
    "\n",
    "$$\n",
    "\\begin{align}\n",
    "    y' &= -y - 3x\\\\\n",
    "    y(0) &= 1\n",
    "\\end{align}\n",
    "$$\n",
    "\n",
    "And its exact solution:\n",
    "\n",
    "$$\n",
    "    y = -2e^{-x} -3x +3\n",
    "$$"
   ]
  },
  {
   "cell_type": "code",
   "execution_count": 3,
   "metadata": {},
   "outputs": [],
   "source": [
    "# sample ODE righthand side\n",
    "def expm_ode(x, y):\n",
    "    return -y - 3*x\n",
    "\n",
    "# exact solution to sample ODE\n",
    "def expm_exact(x):\n",
    "    return -2*np.exp(-x) - 3*x + 3"
   ]
  },
  {
   "cell_type": "markdown",
   "metadata": {},
   "source": [
    "2. Next, I used `forward_euler` to compute numerical solutions $\\hat{y}$ for the sample ODE with initial conditions $y_0 = 1.0$ on the $x$ range $[0, 2]$. I computed solutions using 6 different step sizes."
   ]
  },
  {
   "cell_type": "code",
   "execution_count": 4,
   "metadata": {},
   "outputs": [],
   "source": [
    "# create a table with the experiment parameters\n",
    "df = pd.DataFrame(dict(\n",
    "    n_steps=[10, 20, 40, 80, 160, 320],\n",
    "    step_size=[0.2, 0.1, 0.05, 0.025, 0.0125, 0.00625]\n",
    "))\n",
    "df.index.name = 'k'\n",
    "\n",
    "# setup grid and initial conditions\n",
    "x_range = [0.0, 2.0]\n",
    "y_init = 1.0\n",
    "\n",
    "# compute the numerical solutions\n",
    "for k, n_steps in enumerate(df.n_steps):\n",
    "    x, y = forward_euler(expm_ode, x_range, y_init, n_steps)\n",
    "    df.loc[k, 'y_euler'] = y[-1]"
   ]
  },
  {
   "cell_type": "markdown",
   "metadata": {},
   "source": [
    "3. I stored the numerical solution at $\\hat{y}(2)$ for each step size, and I computed the error of the numerical solution $y(2) - \\hat{y}(2)$ using the known exact solution $y$."
   ]
  },
  {
   "cell_type": "code",
   "execution_count": 5,
   "metadata": {},
   "outputs": [],
   "source": [
    "# compute the errors\n",
    "df['e_euler'] = (expm_exact(x=x_range[1]) - df['y_euler']).abs()"
   ]
  },
  {
   "cell_type": "markdown",
   "metadata": {},
   "source": [
    "4. I also computed error ratios between numerical solutions with consecutive step sizes. The numerical estimates, errors, and error ratios are shown in the table below."
   ]
  },
  {
   "cell_type": "code",
   "execution_count": 6,
   "metadata": {},
   "outputs": [
    {
     "data": {
      "text/html": [
       "<div>\n",
       "<style scoped>\n",
       "    .dataframe tbody tr th:only-of-type {\n",
       "        vertical-align: middle;\n",
       "    }\n",
       "\n",
       "    .dataframe tbody tr th {\n",
       "        vertical-align: top;\n",
       "    }\n",
       "\n",
       "    .dataframe thead th {\n",
       "        text-align: right;\n",
       "    }\n",
       "</style>\n",
       "<table border=\"1\" class=\"dataframe\">\n",
       "  <thead>\n",
       "    <tr style=\"text-align: right;\">\n",
       "      <th></th>\n",
       "      <th>n_steps</th>\n",
       "      <th>step_size</th>\n",
       "      <th>y_euler</th>\n",
       "      <th>e_euler</th>\n",
       "      <th>r_euler</th>\n",
       "    </tr>\n",
       "    <tr>\n",
       "      <th>k</th>\n",
       "      <th></th>\n",
       "      <th></th>\n",
       "      <th></th>\n",
       "      <th></th>\n",
       "      <th></th>\n",
       "    </tr>\n",
       "  </thead>\n",
       "  <tbody>\n",
       "    <tr>\n",
       "      <th>0</th>\n",
       "      <td>10</td>\n",
       "      <td>0.20000</td>\n",
       "      <td>-3.214748</td>\n",
       "      <td>0.055922</td>\n",
       "      <td>2.032259</td>\n",
       "    </tr>\n",
       "    <tr>\n",
       "      <th>1</th>\n",
       "      <td>20</td>\n",
       "      <td>0.10000</td>\n",
       "      <td>-3.243153</td>\n",
       "      <td>0.027517</td>\n",
       "      <td>2.016470</td>\n",
       "    </tr>\n",
       "    <tr>\n",
       "      <th>2</th>\n",
       "      <td>40</td>\n",
       "      <td>0.05000</td>\n",
       "      <td>-3.257024</td>\n",
       "      <td>0.013646</td>\n",
       "      <td>2.008292</td>\n",
       "    </tr>\n",
       "    <tr>\n",
       "      <th>3</th>\n",
       "      <td>80</td>\n",
       "      <td>0.02500</td>\n",
       "      <td>-3.263876</td>\n",
       "      <td>0.006795</td>\n",
       "      <td>2.004157</td>\n",
       "    </tr>\n",
       "    <tr>\n",
       "      <th>4</th>\n",
       "      <td>160</td>\n",
       "      <td>0.01250</td>\n",
       "      <td>-3.267280</td>\n",
       "      <td>0.003390</td>\n",
       "      <td>2.002081</td>\n",
       "    </tr>\n",
       "    <tr>\n",
       "      <th>5</th>\n",
       "      <td>320</td>\n",
       "      <td>0.00625</td>\n",
       "      <td>-3.268977</td>\n",
       "      <td>0.001693</td>\n",
       "      <td>NaN</td>\n",
       "    </tr>\n",
       "  </tbody>\n",
       "</table>\n",
       "</div>"
      ],
      "text/plain": [
       "   n_steps  step_size   y_euler   e_euler   r_euler\n",
       "k                                                  \n",
       "0       10    0.20000 -3.214748  0.055922  2.032259\n",
       "1       20    0.10000 -3.243153  0.027517  2.016470\n",
       "2       40    0.05000 -3.257024  0.013646  2.008292\n",
       "3       80    0.02500 -3.263876  0.006795  2.004157\n",
       "4      160    0.01250 -3.267280  0.003390  2.002081\n",
       "5      320    0.00625 -3.268977  0.001693       NaN"
      ]
     },
     "execution_count": 6,
     "metadata": {},
     "output_type": "execute_result"
    }
   ],
   "source": [
    "# compute the error ratios\n",
    "df['r_euler'] = df['e_euler'] / df['e_euler'].shift(-1)\n",
    "\n",
    "df # show the table"
   ]
  },
  {
   "cell_type": "markdown",
   "metadata": {},
   "source": [
    "5. We know that the numerical error scales according to $O(h^p)$ for some exponent $p$, which we call the *order of accuracy*. We can use the mean error ratio from the numerical experiment, in which we successively halved the step size, to estimate the order of accuracy. Using the forumla $p = log_2 \\frac{error(h)}{error(h/2)}$, I arrived at an estimated order of accuracy of 1. This means the error of the numerical solution decreases linearly with the step size using Euler's method."
   ]
  },
  {
   "cell_type": "code",
   "execution_count": 7,
   "metadata": {},
   "outputs": [
    {
     "data": {
      "text/plain": [
       "1.009097598339162"
      ]
     },
     "execution_count": 7,
     "metadata": {},
     "output_type": "execute_result"
    }
   ],
   "source": [
    "# estimate p in error = O(h^p)\n",
    "# i.e. the order of accuracy, an integer\n",
    "p_euler = np.log2(df['r_euler'].mean())\n",
    "p_euler"
   ]
  },
  {
   "cell_type": "markdown",
   "metadata": {},
   "source": [
    "## Exercise 2 - Euler half-step (RK2) method"
   ]
  },
  {
   "cell_type": "markdown",
   "metadata": {},
   "source": [
    "The next exercise explores another simple method for numerically solving an ODE called the Euler halfstep or RK2 method. The purpose is to demonstrate how a small algorithmic improvement can result in superior convergence behavior of the numerical solution.\n",
    "\n",
    "The RK2 method first computes a Euler estimate of the point a half step foward (the midpoint between consecutive x points), then uses the derivative at this midpoint to estimate the full step.\n",
    "\n",
    "$$\n",
    "\\begin{align}\n",
    "x_a &= x_k + \\frac{h}{2} \\\\\n",
    "y_a &= y_k + \\frac{h}{2} y'(x_k, y_k) \\\\\n",
    "x_{k+1} &= x_k + h \\\\\n",
    "y_{k+1} &= y_k + h y'(x_a, y_a)\n",
    "\\end{align}\n",
    "$$\n",
    "\n",
    "1. I extended the `forward_euler` function to compute a numerical solution using the RK2 method. I annotated the function signature and added comments and missing expressions for computing the auxiliary values."
   ]
  },
  {
   "cell_type": "code",
   "execution_count": 8,
   "metadata": {},
   "outputs": [],
   "source": [
    "def rk2(f_ode, x_range, y_init, n_steps):\n",
    "    '''\n",
    "    Compute a numerical solution to an ODE\n",
    "    using the Euler half-step (RK2) method.\n",
    "    \n",
    "    Inputs:\n",
    "        f_ode\n",
    "            The righthand side of an ODE.\n",
    "        x_range\n",
    "            The min and max x value at which\n",
    "            to compute the numerical solution.\n",
    "        y_init\n",
    "            The y value at the min x value.\n",
    "        n_steps\n",
    "            The number of steps to take to\n",
    "            get across the x_range.\n",
    "    Outputs:\n",
    "        Two arrays of solution points x, y.\n",
    "    '''\n",
    "    # initialize arrays to store x and y values\n",
    "    x = np.zeros(n_steps+1)\n",
    "    y = np.zeros((n_steps+1, np.size(y_init)))\n",
    "    \n",
    "    # get the step size\n",
    "    h = (x_range[1] - x_range[0]) / n_steps\n",
    "    \n",
    "    # compute numerical solution\n",
    "    for k in range(0, n_steps+1):\n",
    "        \n",
    "        if k == 0: # set initial conditions\n",
    "            x[0] = x_range[0]\n",
    "            y[0,:] = y_init\n",
    "        else:\n",
    "            # the x and y coordinates a half-step forward\n",
    "            x_a = x[k-1] + h/2\n",
    "            y_a = y[k-1] + h/2 * f_ode(x[k-1], y[k-1])\n",
    "            \n",
    "            # use the halfstep derivative to estimate full step\n",
    "            x[k] = x[k-1] + h\n",
    "            y[k] = y[k-1] + h * f_ode(x_a, y_a)\n",
    "\n",
    "    return x, y"
   ]
  },
  {
   "cell_type": "markdown",
   "metadata": {},
   "source": [
    "2. I generated numerical solutions for the ODE with initial conditions $y_0 = 1.0$ on the $x$ range $[0, 2]$ with different 6 step sizes. However, this time I used the RK2 method instead of Euler's method."
   ]
  },
  {
   "cell_type": "code",
   "execution_count": 9,
   "metadata": {},
   "outputs": [],
   "source": [
    "# setup grid and initial conditions\n",
    "x_range = [0.0, 2.0]\n",
    "y_init = 1.0\n",
    "\n",
    "# compute the numerical solutions\n",
    "for k, n_steps in enumerate(df.n_steps):\n",
    "    x, y = rk2(expm_ode, x_range, y_init, n_steps)\n",
    "    df.loc[k, 'y_rk2'] = y[-1]"
   ]
  },
  {
   "cell_type": "markdown",
   "metadata": {},
   "source": [
    "3. I stored the numerical solution at $\\hat{y}(2)$ for each step size, and I computed the error of the numerical solution $y(2) - \\hat{y}(2)$ and the error ratios between numerical solutions with consecutive step sizes. The solution values, errors, and error ratios can be seen in the table below."
   ]
  },
  {
   "cell_type": "code",
   "execution_count": 10,
   "metadata": {},
   "outputs": [
    {
     "data": {
      "text/html": [
       "<div>\n",
       "<style scoped>\n",
       "    .dataframe tbody tr th:only-of-type {\n",
       "        vertical-align: middle;\n",
       "    }\n",
       "\n",
       "    .dataframe tbody tr th {\n",
       "        vertical-align: top;\n",
       "    }\n",
       "\n",
       "    .dataframe thead th {\n",
       "        text-align: right;\n",
       "    }\n",
       "</style>\n",
       "<table border=\"1\" class=\"dataframe\">\n",
       "  <thead>\n",
       "    <tr style=\"text-align: right;\">\n",
       "      <th></th>\n",
       "      <th>n_steps</th>\n",
       "      <th>step_size</th>\n",
       "      <th>y_rk2</th>\n",
       "      <th>e_rk2</th>\n",
       "      <th>r_rk2</th>\n",
       "    </tr>\n",
       "    <tr>\n",
       "      <th>k</th>\n",
       "      <th></th>\n",
       "      <th></th>\n",
       "      <th></th>\n",
       "      <th></th>\n",
       "      <th></th>\n",
       "    </tr>\n",
       "  </thead>\n",
       "  <tbody>\n",
       "    <tr>\n",
       "      <th>0</th>\n",
       "      <td>10</td>\n",
       "      <td>0.20000</td>\n",
       "      <td>-3.274896</td>\n",
       "      <td>0.004225</td>\n",
       "      <td>4.336740</td>\n",
       "    </tr>\n",
       "    <tr>\n",
       "      <th>1</th>\n",
       "      <td>20</td>\n",
       "      <td>0.10000</td>\n",
       "      <td>-3.271645</td>\n",
       "      <td>0.000974</td>\n",
       "      <td>4.158771</td>\n",
       "    </tr>\n",
       "    <tr>\n",
       "      <th>2</th>\n",
       "      <td>40</td>\n",
       "      <td>0.05000</td>\n",
       "      <td>-3.270905</td>\n",
       "      <td>0.000234</td>\n",
       "      <td>4.077143</td>\n",
       "    </tr>\n",
       "    <tr>\n",
       "      <th>3</th>\n",
       "      <td>80</td>\n",
       "      <td>0.02500</td>\n",
       "      <td>-3.270728</td>\n",
       "      <td>0.000057</td>\n",
       "      <td>4.038030</td>\n",
       "    </tr>\n",
       "    <tr>\n",
       "      <th>4</th>\n",
       "      <td>160</td>\n",
       "      <td>0.01250</td>\n",
       "      <td>-3.270685</td>\n",
       "      <td>0.000014</td>\n",
       "      <td>4.018882</td>\n",
       "    </tr>\n",
       "    <tr>\n",
       "      <th>5</th>\n",
       "      <td>320</td>\n",
       "      <td>0.00625</td>\n",
       "      <td>-3.270674</td>\n",
       "      <td>0.000004</td>\n",
       "      <td>NaN</td>\n",
       "    </tr>\n",
       "  </tbody>\n",
       "</table>\n",
       "</div>"
      ],
      "text/plain": [
       "   n_steps  step_size     y_rk2     e_rk2     r_rk2\n",
       "k                                                  \n",
       "0       10    0.20000 -3.274896  0.004225  4.336740\n",
       "1       20    0.10000 -3.271645  0.000974  4.158771\n",
       "2       40    0.05000 -3.270905  0.000234  4.077143\n",
       "3       80    0.02500 -3.270728  0.000057  4.038030\n",
       "4      160    0.01250 -3.270685  0.000014  4.018882\n",
       "5      320    0.00625 -3.270674  0.000004       NaN"
      ]
     },
     "execution_count": 10,
     "metadata": {},
     "output_type": "execute_result"
    }
   ],
   "source": [
    "# compute error and error ratios\n",
    "df['e_rk2'] = (expm_exact(x=x_range[1]) - df['y_rk2']).abs()\n",
    "df['r_rk2'] = df['e_rk2'] / df['e_rk2'].shift(-1)\n",
    "\n",
    "df[['n_steps', 'step_size', 'y_rk2', 'e_rk2', 'r_rk2']] # show the table"
   ]
  },
  {
   "cell_type": "markdown",
   "metadata": {},
   "source": [
    "4. I used the error ratios to estimate the order of accuracy for the RK2 method, arriving at an estimate of 2. This supports that the RK2 method has a higher rate of convergence than Euler's method, because the error decreases quadratically with the step size instead of linearly."
   ]
  },
  {
   "cell_type": "code",
   "execution_count": 11,
   "metadata": {},
   "outputs": [
    {
     "data": {
      "text/plain": [
       "2.044713382070369"
      ]
     },
     "execution_count": 11,
     "metadata": {},
     "output_type": "execute_result"
    }
   ],
   "source": [
    "# estimate p in error = O(h^p)\n",
    "# i.e. the order of accuracy, an integer\n",
    "p_rk2 = np.log2(df['r_rk2'].mean())\n",
    "p_rk2"
   ]
  },
  {
   "cell_type": "markdown",
   "metadata": {},
   "source": [
    "5. In the table below, I compared the error from using Euler's method compared with the RK2 method, for each of the different step sizes I evaluated. It is clear that the RK2 method converges faster than Euler as it achieves a much lower error at a given step size."
   ]
  },
  {
   "cell_type": "code",
   "execution_count": 12,
   "metadata": {},
   "outputs": [
    {
     "data": {
      "text/html": [
       "<div>\n",
       "<style scoped>\n",
       "    .dataframe tbody tr th:only-of-type {\n",
       "        vertical-align: middle;\n",
       "    }\n",
       "\n",
       "    .dataframe tbody tr th {\n",
       "        vertical-align: top;\n",
       "    }\n",
       "\n",
       "    .dataframe thead th {\n",
       "        text-align: right;\n",
       "    }\n",
       "</style>\n",
       "<table border=\"1\" class=\"dataframe\">\n",
       "  <thead>\n",
       "    <tr style=\"text-align: right;\">\n",
       "      <th></th>\n",
       "      <th>n_steps</th>\n",
       "      <th>step_size</th>\n",
       "      <th>e_euler</th>\n",
       "      <th>e_rk2</th>\n",
       "    </tr>\n",
       "    <tr>\n",
       "      <th>k</th>\n",
       "      <th></th>\n",
       "      <th></th>\n",
       "      <th></th>\n",
       "      <th></th>\n",
       "    </tr>\n",
       "  </thead>\n",
       "  <tbody>\n",
       "    <tr>\n",
       "      <th>0</th>\n",
       "      <td>10</td>\n",
       "      <td>0.20000</td>\n",
       "      <td>0.055922</td>\n",
       "      <td>0.004225</td>\n",
       "    </tr>\n",
       "    <tr>\n",
       "      <th>1</th>\n",
       "      <td>20</td>\n",
       "      <td>0.10000</td>\n",
       "      <td>0.027517</td>\n",
       "      <td>0.000974</td>\n",
       "    </tr>\n",
       "    <tr>\n",
       "      <th>2</th>\n",
       "      <td>40</td>\n",
       "      <td>0.05000</td>\n",
       "      <td>0.013646</td>\n",
       "      <td>0.000234</td>\n",
       "    </tr>\n",
       "    <tr>\n",
       "      <th>3</th>\n",
       "      <td>80</td>\n",
       "      <td>0.02500</td>\n",
       "      <td>0.006795</td>\n",
       "      <td>0.000057</td>\n",
       "    </tr>\n",
       "    <tr>\n",
       "      <th>4</th>\n",
       "      <td>160</td>\n",
       "      <td>0.01250</td>\n",
       "      <td>0.003390</td>\n",
       "      <td>0.000014</td>\n",
       "    </tr>\n",
       "    <tr>\n",
       "      <th>5</th>\n",
       "      <td>320</td>\n",
       "      <td>0.00625</td>\n",
       "      <td>0.001693</td>\n",
       "      <td>0.000004</td>\n",
       "    </tr>\n",
       "  </tbody>\n",
       "</table>\n",
       "</div>"
      ],
      "text/plain": [
       "   n_steps  step_size   e_euler     e_rk2\n",
       "k                                        \n",
       "0       10    0.20000  0.055922  0.004225\n",
       "1       20    0.10000  0.027517  0.000974\n",
       "2       40    0.05000  0.013646  0.000234\n",
       "3       80    0.02500  0.006795  0.000057\n",
       "4      160    0.01250  0.003390  0.000014\n",
       "5      320    0.00625  0.001693  0.000004"
      ]
     },
     "execution_count": 12,
     "metadata": {},
     "output_type": "execute_result"
    }
   ],
   "source": [
    "df[['n_steps', 'step_size', 'e_euler', 'e_rk2']]"
   ]
  },
  {
   "cell_type": "markdown",
   "metadata": {},
   "source": [
    "6. Based on the table above, Euler's method would require roughly 120 steps to achieve comparable error as RK2 with only 10 steps ($e = 0.004225$).\n",
    "\n",
    "7. Since the error in Euler's method has a linear relationship with step size ($e=ch$), we can estimate the slope using the mean ratio of error and step size. "
   ]
  },
  {
   "cell_type": "code",
   "execution_count": 13,
   "metadata": {},
   "outputs": [
    {
     "data": {
      "text/plain": [
       "0.2736156393667888"
      ]
     },
     "execution_count": 13,
     "metadata": {},
     "output_type": "execute_result"
    }
   ],
   "source": [
    "# estimate the error scaling constant for Euler's method\n",
    "c_euler = (df.e_euler / df.step_size).mean()\n",
    "c_euler"
   ]
  },
  {
   "cell_type": "markdown",
   "metadata": {},
   "source": [
    "This produces an estimate $c = 0.2736$ for the error scaling constant. Now we can use this to estimate the step size needed to achieve a certain error rate using Euler's method via the equation $h= \\frac{e}{c}$."
   ]
  },
  {
   "cell_type": "code",
   "execution_count": 14,
   "metadata": {},
   "outputs": [
    {
     "data": {
      "text/plain": [
       "154544"
      ]
     },
     "execution_count": 14,
     "metadata": {},
     "output_type": "execute_result"
    }
   ],
   "source": [
    "# estimate the step size needed to achieve a certain\n",
    "#   error rate using Euler's method\n",
    "# e = c h\n",
    "# h = e/c\n",
    "e_rk2 = df['e_rk2'].iloc[5]\n",
    "h_euler = e_rk2 / c_euler\n",
    "\n",
    "# convert step size to num steps\n",
    "n_steps = int(2.0/h_euler)\n",
    "n_steps"
   ]
  },
  {
   "cell_type": "markdown",
   "metadata": {},
   "source": [
    "After converting from step size to number of steps, we predict that Euler's method would require 154,544 steps to attain the error rate that RK2 does using 320 steps. We can now run the `forward_euler` function to verify if we achieve this error rate."
   ]
  },
  {
   "cell_type": "code",
   "execution_count": 15,
   "metadata": {
    "scrolled": true
   },
   "outputs": [
    {
     "data": {
      "text/plain": [
       "(3.540941226010119e-06, 3.5028411202731036e-06)"
      ]
     },
     "execution_count": 15,
     "metadata": {},
     "output_type": "execute_result"
    }
   ],
   "source": [
    "# check that we achieve that error rate using Euler's method at 320 steps\n",
    "x, y = forward_euler(expm_ode, x_range, y_init, n_steps=n_steps)\n",
    "e_euler = abs(expm_exact(x=x_range[1]) - y[-1,0])\n",
    "e_rk2, e_euler"
   ]
  },
  {
   "cell_type": "markdown",
   "metadata": {},
   "source": [
    "8. Using 320 steps, RK2 has an error of 3.541e-6. Using 154,544 steps, Euler's method has an error of 3.503e-6. These errors are similar in magnitude, so our prediction was accurate."
   ]
  },
  {
   "cell_type": "markdown",
   "metadata": {},
   "source": [
    "# Exercise 3 - Runge-Kutta methods\n",
    "\n",
    "This exercise has the goal of demonstrating how we can create ODE solvers with even higher orders of convergence by using even more auxiliary sampling points in each solver step. The idea builds off of the improvements we made to arrive at the RK2 method.\n",
    "\n",
    "Here is the equation for the RK3 solver:\n",
    "\n",
    "$$\n",
    "\\begin{align}\n",
    "    x_a &= x_k + \\frac{h}{2} \\\\\n",
    "    y_a &= y_k + \\frac{h}{2} y'(x_k, y_k) \\\\\n",
    "    x_b &= x_k + h \\\\\n",
    "    y_b &= y_k + h (2y'(x_a, y_a) - y'(x_k, y_k)) \\\\\n",
    "    x_{k+1} &= x_k + h \\\\\n",
    "    y_{k+1} &= y_k + h(y'(x_k, y_k) + 4y'(x_a, y_a) + y'(x_b, y_b))/6.0\n",
    "\\end{align}\n",
    "$$\n",
    "\n",
    "1. I extended my `rk2` implementation from before using the equation above to create an `rk3` solver function."
   ]
  },
  {
   "cell_type": "code",
   "execution_count": 16,
   "metadata": {},
   "outputs": [],
   "source": [
    "def rk3(f_ode, x_range, y_init, n_steps):\n",
    "    '''\n",
    "    Compute a numerical solution to an ODE\n",
    "    using the 3rd order Runge-Kutta method.\n",
    "    \n",
    "    Inputs:\n",
    "        f_ode\n",
    "            The righthand side of an ODE.\n",
    "        x_range\n",
    "            The min and max x value at which\n",
    "            to compute the numerical solution.\n",
    "        y_init\n",
    "            The y value at the min x value.\n",
    "        n_steps\n",
    "            The number of steps to take to\n",
    "            get across the x_range.\n",
    "    Outputs:\n",
    "        Two arrays of solution points x, y.\n",
    "    '''\n",
    "    # initialize arrays to store x and y values\n",
    "    x = np.zeros(n_steps+1)\n",
    "    y = np.zeros((n_steps+1, np.size(y_init)))\n",
    "    \n",
    "    # get the step size\n",
    "    h = (x_range[1] - x_range[0]) / n_steps\n",
    "    \n",
    "    # compute numerical solution\n",
    "    for k in range(0, n_steps+1):\n",
    "        \n",
    "        if k == 0: # set initial conditions\n",
    "            x[0] = x_range[0]\n",
    "            y[0,:] = y_init\n",
    "        else:\n",
    "            # the x and y coordinates a half-step forward\n",
    "            x_a = x[k-1] + h/2\n",
    "            y_a = y[k-1] + h/2 * f_ode(x[k-1], y[k-1])\n",
    "            \n",
    "            # additional intermediate step\n",
    "            x_b = x[k-1] + h\n",
    "            y_b = y[k-1] + h*(2*f_ode(x_a, y_a) - f_ode(x[k-1], y[k-1]))\n",
    "            \n",
    "            # use the halfstep derivative to estimate full step\n",
    "            x[k] = x[k-1] + h\n",
    "            y[k] = y[k-1] + h*(\n",
    "                f_ode(x[k-1], y[k-1]) + 4*f_ode(x_a, y_a) + f_ode(x_b, y_b)\n",
    "            ) / 6\n",
    "\n",
    "    return x, y"
   ]
  },
  {
   "cell_type": "markdown",
   "metadata": {},
   "source": [
    "2. I used the RK3 algorithm to rerun the numerical experiment where I solve the sample ODE on the inteval $[0, 2]$ with initial conditions $y_0 = 1.0$, using varying step sizes. Again, I stored the final numerical estimates, computed the errors, and computed the error ratios, which are displayed in the table below."
   ]
  },
  {
   "cell_type": "code",
   "execution_count": 17,
   "metadata": {},
   "outputs": [
    {
     "data": {
      "text/html": [
       "<div>\n",
       "<style scoped>\n",
       "    .dataframe tbody tr th:only-of-type {\n",
       "        vertical-align: middle;\n",
       "    }\n",
       "\n",
       "    .dataframe tbody tr th {\n",
       "        vertical-align: top;\n",
       "    }\n",
       "\n",
       "    .dataframe thead th {\n",
       "        text-align: right;\n",
       "    }\n",
       "</style>\n",
       "<table border=\"1\" class=\"dataframe\">\n",
       "  <thead>\n",
       "    <tr style=\"text-align: right;\">\n",
       "      <th></th>\n",
       "      <th>n_steps</th>\n",
       "      <th>step_size</th>\n",
       "      <th>y_rk3</th>\n",
       "      <th>e_rk3</th>\n",
       "      <th>r_rk3</th>\n",
       "    </tr>\n",
       "    <tr>\n",
       "      <th>k</th>\n",
       "      <th></th>\n",
       "      <th></th>\n",
       "      <th></th>\n",
       "      <th></th>\n",
       "      <th></th>\n",
       "    </tr>\n",
       "  </thead>\n",
       "  <tbody>\n",
       "    <tr>\n",
       "      <th>0</th>\n",
       "      <td>10</td>\n",
       "      <td>0.20000</td>\n",
       "      <td>-3.270459</td>\n",
       "      <td>2.117936e-04</td>\n",
       "      <td>8.667036</td>\n",
       "    </tr>\n",
       "    <tr>\n",
       "      <th>1</th>\n",
       "      <td>20</td>\n",
       "      <td>0.10000</td>\n",
       "      <td>-3.270646</td>\n",
       "      <td>2.443669e-05</td>\n",
       "      <td>8.327000</td>\n",
       "    </tr>\n",
       "    <tr>\n",
       "      <th>2</th>\n",
       "      <td>40</td>\n",
       "      <td>0.05000</td>\n",
       "      <td>-3.270668</td>\n",
       "      <td>2.934632e-06</td>\n",
       "      <td>8.161776</td>\n",
       "    </tr>\n",
       "    <tr>\n",
       "      <th>3</th>\n",
       "      <td>80</td>\n",
       "      <td>0.02500</td>\n",
       "      <td>-3.270670</td>\n",
       "      <td>3.595581e-07</td>\n",
       "      <td>8.080446</td>\n",
       "    </tr>\n",
       "    <tr>\n",
       "      <th>4</th>\n",
       "      <td>160</td>\n",
       "      <td>0.01250</td>\n",
       "      <td>-3.270671</td>\n",
       "      <td>4.449730e-08</td>\n",
       "      <td>8.040126</td>\n",
       "    </tr>\n",
       "    <tr>\n",
       "      <th>5</th>\n",
       "      <td>320</td>\n",
       "      <td>0.00625</td>\n",
       "      <td>-3.270671</td>\n",
       "      <td>5.534404e-09</td>\n",
       "      <td>NaN</td>\n",
       "    </tr>\n",
       "  </tbody>\n",
       "</table>\n",
       "</div>"
      ],
      "text/plain": [
       "   n_steps  step_size     y_rk3         e_rk3     r_rk3\n",
       "k                                                      \n",
       "0       10    0.20000 -3.270459  2.117936e-04  8.667036\n",
       "1       20    0.10000 -3.270646  2.443669e-05  8.327000\n",
       "2       40    0.05000 -3.270668  2.934632e-06  8.161776\n",
       "3       80    0.02500 -3.270670  3.595581e-07  8.080446\n",
       "4      160    0.01250 -3.270671  4.449730e-08  8.040126\n",
       "5      320    0.00625 -3.270671  5.534404e-09       NaN"
      ]
     },
     "execution_count": 17,
     "metadata": {},
     "output_type": "execute_result"
    }
   ],
   "source": [
    "# setup grid and initial conditions\n",
    "x_range = [0.0, 2.0]\n",
    "y_init = 1.0\n",
    "\n",
    "# compute the numerical solutions\n",
    "for k, n_steps in enumerate(df.n_steps):\n",
    "    x, y = rk3(expm_ode, x_range, y_init, n_steps)\n",
    "    df.loc[k, 'y_rk3'] = y[-1]\n",
    "\n",
    "# compute error and error ratios\n",
    "df['e_rk3'] = (expm_exact(x=x_range[1]) - df['y_rk3']).abs()\n",
    "df['r_rk3'] = df['e_rk3'] / df['e_rk3'].shift(-1)\n",
    "\n",
    "df[['n_steps', 'step_size', 'y_rk3', 'e_rk3', 'r_rk3']] # show the table"
   ]
  },
  {
   "cell_type": "markdown",
   "metadata": {},
   "source": [
    "3. I estimated the order of accuracy of RK3 using the error ratios in the table and arrived at 3. This shows that RK3 has cubic convergence behavior, which is even better than RK2. The error decreases according to a cubic function of step size when using RK3."
   ]
  },
  {
   "cell_type": "code",
   "execution_count": 18,
   "metadata": {},
   "outputs": [
    {
     "data": {
      "text/plain": [
       "3.0453166068199478"
      ]
     },
     "execution_count": 18,
     "metadata": {},
     "output_type": "execute_result"
    }
   ],
   "source": [
    "# estimate p in error = O(h^p)\n",
    "# i.e. the order of accuracy, an integer\n",
    "p_rk3 = np.log2(df['r_rk3'].mean())\n",
    "p_rk3"
   ]
  },
  {
   "cell_type": "markdown",
   "metadata": {},
   "source": [
    "4. In the table below are side-by-side comparisons of the error of RK2 and RK3 at each step size. The improved accuracy of RK3 is evident in the lower error it achieves for larger step sizes."
   ]
  },
  {
   "cell_type": "code",
   "execution_count": 19,
   "metadata": {},
   "outputs": [
    {
     "data": {
      "text/html": [
       "<div>\n",
       "<style scoped>\n",
       "    .dataframe tbody tr th:only-of-type {\n",
       "        vertical-align: middle;\n",
       "    }\n",
       "\n",
       "    .dataframe tbody tr th {\n",
       "        vertical-align: top;\n",
       "    }\n",
       "\n",
       "    .dataframe thead th {\n",
       "        text-align: right;\n",
       "    }\n",
       "</style>\n",
       "<table border=\"1\" class=\"dataframe\">\n",
       "  <thead>\n",
       "    <tr style=\"text-align: right;\">\n",
       "      <th></th>\n",
       "      <th>n_steps</th>\n",
       "      <th>step_size</th>\n",
       "      <th>e_rk2</th>\n",
       "      <th>e_rk3</th>\n",
       "    </tr>\n",
       "    <tr>\n",
       "      <th>k</th>\n",
       "      <th></th>\n",
       "      <th></th>\n",
       "      <th></th>\n",
       "      <th></th>\n",
       "    </tr>\n",
       "  </thead>\n",
       "  <tbody>\n",
       "    <tr>\n",
       "      <th>0</th>\n",
       "      <td>10</td>\n",
       "      <td>0.20000</td>\n",
       "      <td>0.004225</td>\n",
       "      <td>2.117936e-04</td>\n",
       "    </tr>\n",
       "    <tr>\n",
       "      <th>1</th>\n",
       "      <td>20</td>\n",
       "      <td>0.10000</td>\n",
       "      <td>0.000974</td>\n",
       "      <td>2.443669e-05</td>\n",
       "    </tr>\n",
       "    <tr>\n",
       "      <th>2</th>\n",
       "      <td>40</td>\n",
       "      <td>0.05000</td>\n",
       "      <td>0.000234</td>\n",
       "      <td>2.934632e-06</td>\n",
       "    </tr>\n",
       "    <tr>\n",
       "      <th>3</th>\n",
       "      <td>80</td>\n",
       "      <td>0.02500</td>\n",
       "      <td>0.000057</td>\n",
       "      <td>3.595581e-07</td>\n",
       "    </tr>\n",
       "    <tr>\n",
       "      <th>4</th>\n",
       "      <td>160</td>\n",
       "      <td>0.01250</td>\n",
       "      <td>0.000014</td>\n",
       "      <td>4.449730e-08</td>\n",
       "    </tr>\n",
       "    <tr>\n",
       "      <th>5</th>\n",
       "      <td>320</td>\n",
       "      <td>0.00625</td>\n",
       "      <td>0.000004</td>\n",
       "      <td>5.534404e-09</td>\n",
       "    </tr>\n",
       "  </tbody>\n",
       "</table>\n",
       "</div>"
      ],
      "text/plain": [
       "   n_steps  step_size     e_rk2         e_rk3\n",
       "k                                            \n",
       "0       10    0.20000  0.004225  2.117936e-04\n",
       "1       20    0.10000  0.000974  2.443669e-05\n",
       "2       40    0.05000  0.000234  2.934632e-06\n",
       "3       80    0.02500  0.000057  3.595581e-07\n",
       "4      160    0.01250  0.000014  4.449730e-08\n",
       "5      320    0.00625  0.000004  5.534404e-09"
      ]
     },
     "execution_count": 19,
     "metadata": {},
     "output_type": "execute_result"
    }
   ],
   "source": [
    "df[['n_steps', 'step_size', 'e_rk2', 'e_rk3']]"
   ]
  },
  {
   "cell_type": "markdown",
   "metadata": {},
   "source": [
    "5. Based on the table above, RK3 achieves an error of 2.118e-4 using 10 steps. To achieve a comparable error, RK2 requires approximately 40 steps.\n",
    "\n",
    "6. Because it has an order of accuracy of 2, the error of RK2 can be expressed as $e = ch^2$. We can estimate the constant as $c = \\frac{e}{h^2}$ using the data we collected from the numerical experiment."
   ]
  },
  {
   "cell_type": "code",
   "execution_count": 20,
   "metadata": {},
   "outputs": [
    {
     "data": {
      "text/plain": [
       "0.09507554552005136"
      ]
     },
     "execution_count": 20,
     "metadata": {},
     "output_type": "execute_result"
    }
   ],
   "source": [
    "# estimate the error scaling constant for RK2\n",
    "c_rk2 = (df.e_rk2 / df.step_size**2).mean()\n",
    "c_rk2"
   ]
  },
  {
   "cell_type": "markdown",
   "metadata": {},
   "source": [
    "This yields an estimate $c=0.0951$ which we can plug in to the equation $e = ch^2$ to estimate the error at a given step size. Conversely, we can now use $h = \\sqrt{\\frac{e}{c}}$ to estimate the step size needed for a given error value."
   ]
  },
  {
   "cell_type": "code",
   "execution_count": 21,
   "metadata": {},
   "outputs": [
    {
     "data": {
      "text/plain": [
       "8289"
      ]
     },
     "execution_count": 21,
     "metadata": {},
     "output_type": "execute_result"
    }
   ],
   "source": [
    "# estimate the step size needed to achieve a certain\n",
    "#   error rate using RK2\n",
    "# e = c h^2\n",
    "# h = (e/c)^(1/2)\n",
    "e_rk3 = df['e_rk3'].iloc[5]\n",
    "h_rk2 = (e_rk3 / c_rk2)**0.5\n",
    "\n",
    "# convert step size to num steps\n",
    "n_steps = int(2.0/h_rk2)\n",
    "n_steps"
   ]
  },
  {
   "cell_type": "markdown",
   "metadata": {},
   "source": [
    "From this procedure, I hypothesize that it would take 8,289 steps for RK2 to reach the error that RK3 attains with 320 steps."
   ]
  },
  {
   "cell_type": "code",
   "execution_count": 22,
   "metadata": {},
   "outputs": [
    {
     "data": {
      "text/plain": [
       "(5.534404046159125e-09, 5.253782742187241e-09)"
      ]
     },
     "execution_count": 22,
     "metadata": {},
     "output_type": "execute_result"
    }
   ],
   "source": [
    "# check that we achieve that error rate using Euler's method at 320 steps\n",
    "x, y = rk2(expm_ode, x_range, y_init, n_steps=n_steps)\n",
    "e_rk2 = abs(expm_exact(x=x_range[1]) - y[-1,0])\n",
    "e_rk3, e_rk2"
   ]
  },
  {
   "cell_type": "markdown",
   "metadata": {},
   "source": [
    "At 320 steps, RK3 reaches an error of 5.534e-9, while RK2 reaches an error of 5.254e-9 at 8,289 steps. These errors are similar in scale, so my hypothesis is supported by the data."
   ]
  },
  {
   "cell_type": "markdown",
   "metadata": {},
   "source": [
    "# Exercise 4 - Systems of equations\n",
    "\n",
    "The objective of this exercise is to extend the previous methods to solving systems of equations instead of just single equations.\n",
    "\n",
    "1. As an initial sanity check, we will solve a system consisting of the same equation twice in order to verify that our implementations from earlier can handle vector functions."
   ]
  },
  {
   "cell_type": "code",
   "execution_count": 23,
   "metadata": {},
   "outputs": [
    {
     "data": {
      "text/plain": [
       "array([-8., -9.])"
      ]
     },
     "execution_count": 23,
     "metadata": {},
     "output_type": "execute_result"
    }
   ],
   "source": [
    "x = 1.0\n",
    "y = np.array([5, 6])\n",
    "f_val = expm_ode(x, y)\n",
    "f_val"
   ]
  },
  {
   "cell_type": "markdown",
   "metadata": {},
   "source": [
    "2. By calling the sample ODE function with $x=1$ and a vector $y=(5, 6)$ as input, we get a vector $y'=(-8, -9)$ as output.\n",
    "\n",
    "3. I can now solve the system consisting of our duplicated sample ODE on the interval $[0, 2]$, this time using the initial conditions $y(0)=(5,6)$ and a fixed number of steps of 40. The final estimated value is $\\hat{y}(2) = (-2.729, -2.594)$."
   ]
  },
  {
   "cell_type": "code",
   "execution_count": 24,
   "metadata": {},
   "outputs": [
    {
     "data": {
      "text/plain": [
       "array([-2.72933237, -2.59399855])"
      ]
     },
     "execution_count": 24,
     "metadata": {},
     "output_type": "execute_result"
    }
   ],
   "source": [
    "# setup grid and initial conditions\n",
    "x_range = [0.0, 2.0]\n",
    "y_init = np.array([5, 6])\n",
    "\n",
    "# compute the numerical solution\n",
    "xs, ys = rk3(expm_ode, x_range, y_init, n_steps=40)\n",
    "ys[-1]"
   ]
  },
  {
   "cell_type": "markdown",
   "metadata": {},
   "source": [
    "4. I solved the system again, this time calling the numerical solver twice with scalar inputs instead of a vector. The exact same outputs are generated for the final step as when calling the solver once with a vector as input."
   ]
  },
  {
   "cell_type": "code",
   "execution_count": 25,
   "metadata": {},
   "outputs": [
    {
     "data": {
      "text/plain": [
       "(array([-2.72933237, -2.59399855]), array([-2.72933237]), array([-2.59399855]))"
      ]
     },
     "execution_count": 25,
     "metadata": {},
     "output_type": "execute_result"
    }
   ],
   "source": [
    "x0, y0 = rk3(expm_ode, x_range, y_init=5, n_steps=40)\n",
    "x1, y1 = rk3(expm_ode, x_range, y_init=6, n_steps=40)\n",
    "ys[-1], y0[-1], y1[-1]"
   ]
  },
  {
   "cell_type": "markdown",
   "metadata": {},
   "source": [
    "5. I compared the entire numerical solutions at each step using the norm of the outputs. There is zero difference between the numerical solutions computed using scalars or vectors as input."
   ]
  },
  {
   "cell_type": "code",
   "execution_count": 26,
   "metadata": {},
   "outputs": [
    {
     "data": {
      "text/plain": [
       "(0.0, 0.0)"
      ]
     },
     "execution_count": 26,
     "metadata": {},
     "output_type": "execute_result"
    }
   ],
   "source": [
    "np.linalg.norm(ys[:,0] - y0[:,0]), np.linalg.norm(ys[:,1] - y1[:,0])"
   ]
  },
  {
   "cell_type": "markdown",
   "metadata": {},
   "source": [
    "# Exercise 5 - Pendulum ODE"
   ]
  },
  {
   "cell_type": "markdown",
   "metadata": {},
   "source": [
    "The motion of a pendulum can be described by a second-order nonlinear ODE:\n",
    "\n",
    "$$\n",
    "    \\theta'' + 3 \\sin \\theta = 0\n",
    "$$\n",
    "\n",
    "If we define $y_1=\\theta$ and $y_2=\\theta'$, we can get the following system of ODEs:\n",
    "\n",
    "$$\n",
    "\\mathbf{y'} = \\begin{pmatrix}\n",
    "    y_1' \\\\\n",
    "    y_2'\n",
    "\\end{pmatrix} = \\begin{pmatrix}\n",
    "    y_2 \\\\\n",
    "    -3 \\sin y_1\n",
    "\\end{pmatrix}\n",
    "$$\n",
    "\n",
    "1. I created and documented a function implementing the systems of equations described above."
   ]
  },
  {
   "cell_type": "code",
   "execution_count": 27,
   "metadata": {},
   "outputs": [],
   "source": [
    "def pendulum_ode(x, y):\n",
    "    '''\n",
    "    Compute the righthand side of a system of\n",
    "    ODEs defining the motion of a pendulum.\n",
    "    \n",
    "    Input:\n",
    "        x is a scalar\n",
    "        y is a vector [theta, dtheta/dx]\n",
    "    Output:\n",
    "        y' is a vector [dtheta/dx, -3*sin(theta)]\n",
    "    '''\n",
    "    return np.array([\n",
    "        y[1],\n",
    "        -3*np.sin(y[0])\n",
    "    ])"
   ]
  },
  {
   "cell_type": "markdown",
   "metadata": {},
   "source": [
    "2. I generated a numerical solution for the ODE using 1,000 steps.\n",
    "3. I generated a numerical solution for the ODE using 10,000 steps.\n",
    "4. I generated a numerical solution for the ODE using 100 steps."
   ]
  },
  {
   "cell_type": "code",
   "execution_count": 28,
   "metadata": {},
   "outputs": [],
   "source": [
    "x_range = [0, 10]\n",
    "y_init = np.array([1, 0])\n",
    "\n",
    "x1, y1 = rk2(pendulum_ode, x_range, y_init, n_steps=1000)\n",
    "x2, y2 = rk2(pendulum_ode, x_range, y_init, n_steps=10000)\n",
    "x3, y3 = rk2(pendulum_ode, x_range, y_init, n_steps=100)"
   ]
  },
  {
   "cell_type": "markdown",
   "metadata": {},
   "source": [
    "5. I created plots of $\\hat{\\theta}$ produced by each numerical solution, which can be seen below. Each of the plots shows a smooth periodic curve resembling a cosine function, which is the expected behavior for a swinging pendulum."
   ]
  },
  {
   "cell_type": "code",
   "execution_count": 87,
   "metadata": {},
   "outputs": [
    {
     "data": {
      "text/plain": [
       "(-0.8648050287135349, -0.8651055146463223, -0.8447165894256726)"
      ]
     },
     "execution_count": 87,
     "metadata": {},
     "output_type": "execute_result"
    },
    {
     "data": {
      "image/png": "[encoded data removed]",
      "text/plain": [
       "<Figure size 864x216 with 3 Axes>"
      ]
     },
     "metadata": {
      "needs_background": "light"
     },
     "output_type": "display_data"
    }
   ],
   "source": [
    "theta1 = y1[:,0]\n",
    "theta2 = y2[:,0]\n",
    "theta3 = y3[:,0]\n",
    "\n",
    "sns.set_palette('Blues_r')\n",
    "fig, axes = plt.subplots(1, 3, figsize=(12,3))\n",
    "axes[0].set_title('n_steps = 1,000')\n",
    "axes[1].set_title('n_steps = 10,000')\n",
    "axes[2].set_title('n_steps = 100')\n",
    "axes[0].plot(x1, theta1)\n",
    "axes[1].plot(x2, theta2)\n",
    "axes[2].plot(x3, theta3)\n",
    "for i, ax in enumerate(axes):\n",
    "    ax.set_xlabel('x')\n",
    "    ax.set_ylabel('theta')\n",
    "    ax.set_ylim(axes[0].get_ylim())\n",
    "sns.despine(fig)\n",
    "fig.tight_layout()\n",
    "theta1[-1], theta2[-1], theta3[-1]"
   ]
  },
  {
   "cell_type": "markdown",
   "metadata": {},
   "source": [
    "6. Conservation of energy implies that the values of $\\theta$ should not go beyond the range [-1, 1]. After checking the min and max values of $\\hat\\theta$ from each numerical simulation, the results are very close to this range. However, they do extend beyond this range by a small amount when using 1,000 or 100 steps. The violation of conservation of energy is more severe with fewer steps, highlighting the importance of numerical accuracy and convergence when simulating physical quantities."
   ]
  },
  {
   "cell_type": "code",
   "execution_count": 162,
   "metadata": {},
   "outputs": [
    {
     "data": {
      "text/plain": [
       "[(-1.0000084339696147, 1.0),\n",
       " (-0.9999999848264922, 1.0),\n",
       " (-1.0065750163242753, 1.006641774536307)]"
      ]
     },
     "execution_count": 162,
     "metadata": {},
     "output_type": "execute_result"
    }
   ],
   "source": [
    "[\n",
    "    (theta1.min(), theta1.max()),\n",
    "    (theta2.min(), theta2.max()),\n",
    "    (theta3.min(), theta3.max())\n",
    "]"
   ]
  },
  {
   "cell_type": "markdown",
   "metadata": {},
   "source": [
    "# Exercise 6 - Stability"
   ]
  },
  {
   "cell_type": "markdown",
   "metadata": {},
   "source": [
    "The purpose of this exercise is \n",
    "\n",
    "1. For this exercise, I reused the ODE solver methods I implemented earlier.\n",
    "\n",
    "2. I used the forward Euler method to solve the exponential sample ODE from earlier over the interval $[0, 20]$ with initial conditions $y(0)=20$, using a range of different numbers of steps. I plotted the computed solutions on the same graph and added a legend and color palette to highlight the effect of step size on the estimated solution properties. As the step size became larger, the numerical solution started to wobble and produce inaccurate results, indicating the onset of instability."
   ]
  },
  {
   "cell_type": "code",
   "execution_count": 118,
   "metadata": {},
   "outputs": [
    {
     "data": {
      "image/png": "[encoded data removed]",
      "text/plain": [
       "<Figure size 360x288 with 1 Axes>"
      ]
     },
     "metadata": {
      "needs_background": "light"
     },
     "output_type": "display_data"
    }
   ],
   "source": [
    "x_range = [0, 20]\n",
    "y_init = 20\n",
    "\n",
    "sns.set_palette('Blues', 6)\n",
    "fig, ax = plt.subplots(figsize=(5,4))\n",
    "\n",
    "# compute the numerical solutions\n",
    "for n_steps in [40, 30, 20, 15, 12, 10]:\n",
    "    x, y = forward_euler(expm_ode, x_range, y_init, n_steps)\n",
    "    ax.plot(x, y, label=f'{n_steps}')\n",
    "\n",
    "ax.legend(title='n_steps', frameon=False, loc='upper left', bbox_to_anchor=(1,1))\n",
    "ax.set_xlabel('x')\n",
    "ax.set_ylabel('y')\n",
    "sns.despine(fig)\n",
    "fig.tight_layout()"
   ]
  },
  {
   "cell_type": "markdown",
   "metadata": {},
   "source": [
    "3. I repeated this experiment using the RK3 algorithm and adding an additional solution for 8 steps. I plotted all the computed solutions on the same plot to make comparisons easier. Using RK3, the numerical solutions were stable for a broader range of step sizes. However, by reducing the step size further, the solutions became unstable."
   ]
  },
  {
   "cell_type": "code",
   "execution_count": 119,
   "metadata": {},
   "outputs": [
    {
     "data": {
      "image/png": "[encoded data removed]",
      "text/plain": [
       "<Figure size 360x288 with 1 Axes>"
      ]
     },
     "metadata": {
      "needs_background": "light"
     },
     "output_type": "display_data"
    }
   ],
   "source": [
    "sns.set_palette('Blues', 7)\n",
    "fig, ax = plt.subplots(figsize=(5,4))\n",
    "\n",
    "# compute the numerical solutions\n",
    "for n_steps in [40, 30, 20, 15, 12, 10, 8]:\n",
    "    x, y = rk3(expm_ode, x_range, y_init, n_steps)\n",
    "    ax.plot(x, y, label=f'{n_steps}')\n",
    "\n",
    "ax.legend(title='n_steps', frameon=False, loc='upper left', bbox_to_anchor=(1,1))\n",
    "ax.set_xlabel('x')\n",
    "ax.set_ylabel('y')\n",
    "sns.despine(fig)\n",
    "fig.tight_layout()"
   ]
  },
  {
   "cell_type": "markdown",
   "metadata": {},
   "source": [
    "# Exercise 7 - Adams-Bashforth methods"
   ]
  },
  {
   "cell_type": "markdown",
   "metadata": {},
   "source": [
    "The purpose of this exercise is to consider a different approach to improving the convergence behavior of an ODE solver beyond increasing the number of auxiliary points we compute to estimate the next point. Adams-Bashforth methods make use of previously computed derivative values, and interpolate these with the newly computed derivative values. The solver formula is as follows:\n",
    "\n",
    "$$\n",
    "    y_{k+1} = y_k + h\\frac{3y'(x_k, y_k) - y'(x_{k-1}, y_{k-1})}{2}\n",
    "$$\n",
    "\n",
    "Note the equivalent form:\n",
    "\n",
    "$$\n",
    "    y_{k+1} = y_k + h \\left( y'(x_k, y_k) + \\frac{y'(x_k, y_k) - y'(x_{k-1}, y_{k-1})}{2} \\right)\n",
    "$$\n",
    "\n",
    "The term inside the parentheses resembles a backward difference equation for the function `y'`, which could be interpretted as incorporating an approximation of the local 2nd order derivative (curvature) of `y` into the numerical solution.\n",
    "\n",
    "1. I implemented a second-order Adams-Bashforth solver function `ab2`. The function introduces a variable `f_val` that contains the derivative at the current x position. At the end of each iteration, the value of `f_val` is copied to `f_val_prev` so that each iteration after the first has access to the previous derivative value. These are then interpolated together to estimate the next point without computing any auxiliary points. On the first step, when no previous derivative has been defined yet, the estimate is produced using a standard RK2 procedure, which involves 2 derivative computations. When using 100 steps, this function calls the derivative function `f_ode` exactly $1(2) + 99(1) = 101$ times."
   ]
  },
  {
   "cell_type": "code",
   "execution_count": 129,
   "metadata": {},
   "outputs": [],
   "source": [
    "def ab2(f_ode, x_range, y_init, n_steps):\n",
    "    '''\n",
    "    Use Adams-Bashforth second-order method to solve\n",
    "    a system of first-order ODEs y' = f_ode(x, y).\n",
    "    \n",
    "    Input:\n",
    "        f_ode = evaluates the righthand side of the ODE\n",
    "        x_range = [x1, x2] where the solution is sought\n",
    "            x1 <= x <= x2\n",
    "        y_init = vector of initial values y(x1)\n",
    "        n_steps = number of steps across x_range\n",
    "    Output:\n",
    "        x = a vector of values of x\n",
    "        y = a matrix of computed solution at x\n",
    "    '''\n",
    "    # initialize arrays to store x and y values\n",
    "    x = np.zeros(n_steps+1)\n",
    "    y = np.zeros((n_steps+1, np.size(y_init)))\n",
    "    \n",
    "    # get the step size\n",
    "    h = (x_range[1] - x_range[0]) / n_steps\n",
    "    \n",
    "    # compute numerical solution\n",
    "    for k in range(0, n_steps+1):\n",
    "        \n",
    "        if k == 0: # set initial conditions\n",
    "            x[0] = x_range[0]\n",
    "            y[0] = y_init\n",
    "    \n",
    "        elif k == 1: # perform an RK2 step            \n",
    "            f_val = f_ode(x[k-1], y[k-1])\n",
    "            \n",
    "            # the x and y coordinates a half-step forward\n",
    "            x_a = x[k-1] + h/2\n",
    "            y_a = y[k-1] + h/2 * f_val\n",
    "            f_val_a = f_ode(x_a, y_a)\n",
    "            \n",
    "            # use the halfstep derivative to estimate full step\n",
    "            x[k] = x[k-1] + h\n",
    "            y[k] = y[k-1] + h*f_val_a\n",
    "\n",
    "        else: # interpolate derivatives\n",
    "            f_val_prev = f_val\n",
    "            f_val = f_ode(x[k-1], y[k-1])\n",
    "            x[k] = x[k-1] + h\n",
    "            y[k] = y[k-1] + h*(3*f_val - f_val_prev)/2\n",
    "\n",
    "    return x, y"
   ]
  },
  {
   "cell_type": "markdown",
   "metadata": {},
   "source": [
    "2. I used this `ab2` ODE solver function to run another numerical experiment on the sample ODE `expm_ode`. I solved the ODE on the x range $[0,2]$ with initial conditions $y(0)=1$, and I evaluated a random of different step sizes. I recorded the final estimate $\\hat{y}(2)$, the error, and the error ratio for each step size. I reported these values in the table below."
   ]
  },
  {
   "cell_type": "code",
   "execution_count": 130,
   "metadata": {},
   "outputs": [
    {
     "data": {
      "text/html": [
       "<div>\n",
       "<style scoped>\n",
       "    .dataframe tbody tr th:only-of-type {\n",
       "        vertical-align: middle;\n",
       "    }\n",
       "\n",
       "    .dataframe tbody tr th {\n",
       "        vertical-align: top;\n",
       "    }\n",
       "\n",
       "    .dataframe thead th {\n",
       "        text-align: right;\n",
       "    }\n",
       "</style>\n",
       "<table border=\"1\" class=\"dataframe\">\n",
       "  <thead>\n",
       "    <tr style=\"text-align: right;\">\n",
       "      <th></th>\n",
       "      <th>n_steps</th>\n",
       "      <th>step_size</th>\n",
       "      <th>y_ab2</th>\n",
       "      <th>e_ab2</th>\n",
       "      <th>r_ab2</th>\n",
       "    </tr>\n",
       "    <tr>\n",
       "      <th>k</th>\n",
       "      <th></th>\n",
       "      <th></th>\n",
       "      <th></th>\n",
       "      <th></th>\n",
       "      <th></th>\n",
       "    </tr>\n",
       "  </thead>\n",
       "  <tbody>\n",
       "    <tr>\n",
       "      <th>0</th>\n",
       "      <td>10</td>\n",
       "      <td>0.20000</td>\n",
       "      <td>-3.280140</td>\n",
       "      <td>0.009469</td>\n",
       "      <td>4.085396</td>\n",
       "    </tr>\n",
       "    <tr>\n",
       "      <th>1</th>\n",
       "      <td>20</td>\n",
       "      <td>0.10000</td>\n",
       "      <td>-3.272988</td>\n",
       "      <td>0.002318</td>\n",
       "      <td>4.051942</td>\n",
       "    </tr>\n",
       "    <tr>\n",
       "      <th>2</th>\n",
       "      <td>40</td>\n",
       "      <td>0.05000</td>\n",
       "      <td>-3.271243</td>\n",
       "      <td>0.000572</td>\n",
       "      <td>4.028076</td>\n",
       "    </tr>\n",
       "    <tr>\n",
       "      <th>3</th>\n",
       "      <td>80</td>\n",
       "      <td>0.02500</td>\n",
       "      <td>-3.270813</td>\n",
       "      <td>0.000142</td>\n",
       "      <td>4.014531</td>\n",
       "    </tr>\n",
       "    <tr>\n",
       "      <th>4</th>\n",
       "      <td>160</td>\n",
       "      <td>0.01250</td>\n",
       "      <td>-3.270706</td>\n",
       "      <td>0.000035</td>\n",
       "      <td>4.007384</td>\n",
       "    </tr>\n",
       "    <tr>\n",
       "      <th>5</th>\n",
       "      <td>320</td>\n",
       "      <td>0.00625</td>\n",
       "      <td>-3.270679</td>\n",
       "      <td>0.000009</td>\n",
       "      <td>NaN</td>\n",
       "    </tr>\n",
       "  </tbody>\n",
       "</table>\n",
       "</div>"
      ],
      "text/plain": [
       "   n_steps  step_size     y_ab2     e_ab2     r_ab2\n",
       "k                                                  \n",
       "0       10    0.20000 -3.280140  0.009469  4.085396\n",
       "1       20    0.10000 -3.272988  0.002318  4.051942\n",
       "2       40    0.05000 -3.271243  0.000572  4.028076\n",
       "3       80    0.02500 -3.270813  0.000142  4.014531\n",
       "4      160    0.01250 -3.270706  0.000035  4.007384\n",
       "5      320    0.00625 -3.270679  0.000009       NaN"
      ]
     },
     "execution_count": 130,
     "metadata": {},
     "output_type": "execute_result"
    }
   ],
   "source": [
    "# setup grid and initial conditions\n",
    "x_range = [0.0, 2.0]\n",
    "y_init = 1.0\n",
    "\n",
    "# compute the numerical solutions\n",
    "for k, n_steps in enumerate(df.n_steps):\n",
    "    x, y = ab2(expm_ode, x_range, y_init, n_steps)\n",
    "    df.loc[k, 'y_ab2'] = y[-1]\n",
    "\n",
    "# compute error and error ratios\n",
    "df['e_ab2'] = (expm_exact(x=x_range[1]) - df['y_ab2']).abs()\n",
    "df['r_ab2'] = df['e_ab2'] / df['e_ab2'].shift(-1)\n",
    "\n",
    "df[['n_steps', 'step_size', 'y_ab2', 'e_ab2', 'r_ab2']] # show the table"
   ]
  },
  {
   "cell_type": "markdown",
   "metadata": {},
   "source": [
    "4. Based on the error ratios above, I estimated the order of accuracy of the second-order Adams-Bashforth solver as 2. This indicates that the AB2 solver has quadratic convergence behavior, which is on par with the RK2 solver. However, RK2 computes an auxiliary point at each step, resulting in two derivative evaluations per step. The AB2 method only computes an auxiliary point on first step, which becomes amortized as the number of steps increases. Therefore, the AB2 solver achieves roughly the same order of accuracy as RK2 in half the number of derivative calculations, so it is twice as computationally efficient."
   ]
  },
  {
   "cell_type": "code",
   "execution_count": 131,
   "metadata": {},
   "outputs": [
    {
     "data": {
      "text/plain": [
       "2.013450122306037"
      ]
     },
     "execution_count": 131,
     "metadata": {},
     "output_type": "execute_result"
    }
   ],
   "source": [
    "# estimate p in error = O(h^p)\n",
    "# i.e. the order of accuracy, an integer\n",
    "p_ab2 = np.log2(df['r_ab2'].mean())\n",
    "p_ab2"
   ]
  }
 ],
 "metadata": {
  "kernelspec": {
   "display_name": "Python 3",
   "language": "python",
   "name": "python3"
  },
  "language_info": {
   "codemirror_mode": {
    "name": "ipython",
    "version": 3
   },
   "file_extension": ".py",
   "mimetype": "text/x-python",
   "name": "python",
   "nbconvert_exporter": "python",
   "pygments_lexer": "ipython3",
   "version": "3.7.0"
  }
 },
 "nbformat": 4,
 "nbformat_minor": 2
}
