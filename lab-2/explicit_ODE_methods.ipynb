{
 "cells": [
  {
   "cell_type": "markdown",
   "metadata": {},
   "source": [
    "# MATH 2071 Lab 2 - Explicit ODE methods\n",
    "\n",
    "Matthew Ragoza\n",
    "\n",
    "2022-01-19"
   ]
  },
  {
   "cell_type": "code",
   "execution_count": 1,
   "metadata": {},
   "outputs": [],
   "source": [
    "%matplotlib inline\n",
    "import numpy as np\n",
    "import pandas as pd\n",
    "import matplotlib.pyplot as plt"
   ]
  },
  {
   "cell_type": "markdown",
   "metadata": {},
   "source": [
    "## Exercise 1 - Forward Euler's method\n",
    "\n",
    "The purpose of this exercise is to apply Euler's method to compute a numerical solution to an initial value problem for an explicit, scalar, first-order ODE:\n",
    "\n",
    "$$\n",
    "\\begin{align}\n",
    "y' &= f(x,y) \\\\\n",
    "y(x_0) &= y_0\n",
    "\\end{align}\n",
    "$$\n",
    "\n",
    "Euler's method is the simplest possible algorithm for producing a numerical solution to an IVP. It computes the next value of $y$ iteratively based on the previous value and the derivative:\n",
    "\n",
    "$$\n",
    "\\begin{align}\n",
    "x_{k+1} &= x_k + h \\\\\n",
    "y_{k+1} &= y_k + h y'(x_k, y_k)\n",
    "\\end{align}\n",
    "$$\n",
    "\n",
    "Since numerical solutions are approximations of exact solutions, we would also like to characterize how far off the approximation is from the exact solution.\n",
    "\n",
    "To start off, I created a function that implements the forward Euler's method."
   ]
  },
  {
   "cell_type": "code",
   "execution_count": 13,
   "metadata": {},
   "outputs": [],
   "source": [
    "def forward_euler(f_ode, x_range, y_init, n_steps):\n",
    "    \n",
    "    # initialize arrays to store x and y values\n",
    "    x = np.zeros(n_steps+1)\n",
    "    y = np.zeros((n_steps+1, np.size(y_init)))\n",
    "    \n",
    "    # get the step size\n",
    "    h = (x_range[1] - x_range[0]) / n_steps\n",
    "    \n",
    "    # compute numerical solution\n",
    "    for k in range(0, n_steps+1):\n",
    "        \n",
    "        if k == 0: # set initial conditions\n",
    "            x[0] = x_range[0]\n",
    "            y[0,:] = y_init\n",
    "        else:\n",
    "            x[k] = x[k-1] + h\n",
    "            y[k] = y[k-1] + h * f_ode(x[k-1], y[k-1])\n",
    "\n",
    "    return x, y"
   ]
  },
  {
   "cell_type": "markdown",
   "metadata": {},
   "source": [
    "I also created functions for the righthand side of the following sample ODE initial value problem:\n",
    "\n",
    "$$\n",
    "\\begin{align}\n",
    "    y' &= -y - 3x\\\\\n",
    "    y(0) &= 1\n",
    "\\end{align}\n",
    "$$\n",
    "\n",
    "And its exact solution:\n",
    "\n",
    "$$\n",
    "    y = -2e^{-x} -3x +3\n",
    "$$"
   ]
  },
  {
   "cell_type": "code",
   "execution_count": 11,
   "metadata": {},
   "outputs": [],
   "source": [
    "# sample ODE righthand side\n",
    "def expm_ode(x, y):\n",
    "    return -y - 3*x\n",
    "\n",
    "# exact solution to sample ODE\n",
    "def expm_exact(x):\n",
    "    return -2*np.exp(-x) - 3*x + 3"
   ]
  },
  {
   "cell_type": "markdown",
   "metadata": {},
   "source": [
    "Next, I used `forward_euler` to compute numerical solutions for the sample ODE with initial conditions $y_0 = 1.0$ on the $x$ range $[0, 2]$. I computed the solution using 6 different step sizes. I stored the numerical solution at $\\hat{y}(2)$ for each step size, and I computed the error of the numerical solution $\\hat{y}(2) - y(2)$ using the known exact solution.\n",
    "\n",
    "I also computed error ratios between numerical solutions with consecutive step sizes."
   ]
  },
  {
   "cell_type": "code",
   "execution_count": 33,
   "metadata": {},
   "outputs": [
    {
     "data": {
      "text/html": [
       "<div>\n",
       "<style scoped>\n",
       "    .dataframe tbody tr th:only-of-type {\n",
       "        vertical-align: middle;\n",
       "    }\n",
       "\n",
       "    .dataframe tbody tr th {\n",
       "        vertical-align: top;\n",
       "    }\n",
       "\n",
       "    .dataframe thead th {\n",
       "        text-align: right;\n",
       "    }\n",
       "</style>\n",
       "<table border=\"1\" class=\"dataframe\">\n",
       "  <thead>\n",
       "    <tr style=\"text-align: right;\">\n",
       "      <th></th>\n",
       "      <th>n_steps</th>\n",
       "      <th>step_size</th>\n",
       "      <th>y_euler</th>\n",
       "      <th>e_euler</th>\n",
       "      <th>r_euler</th>\n",
       "    </tr>\n",
       "    <tr>\n",
       "      <th>k</th>\n",
       "      <th></th>\n",
       "      <th></th>\n",
       "      <th></th>\n",
       "      <th></th>\n",
       "      <th></th>\n",
       "    </tr>\n",
       "  </thead>\n",
       "  <tbody>\n",
       "    <tr>\n",
       "      <th>0</th>\n",
       "      <td>10</td>\n",
       "      <td>0.20000</td>\n",
       "      <td>-3.214748</td>\n",
       "      <td>0.055922</td>\n",
       "      <td>2.032259</td>\n",
       "    </tr>\n",
       "    <tr>\n",
       "      <th>1</th>\n",
       "      <td>20</td>\n",
       "      <td>0.10000</td>\n",
       "      <td>-3.243153</td>\n",
       "      <td>0.027517</td>\n",
       "      <td>2.016470</td>\n",
       "    </tr>\n",
       "    <tr>\n",
       "      <th>2</th>\n",
       "      <td>40</td>\n",
       "      <td>0.05000</td>\n",
       "      <td>-3.257024</td>\n",
       "      <td>0.013646</td>\n",
       "      <td>2.008292</td>\n",
       "    </tr>\n",
       "    <tr>\n",
       "      <th>3</th>\n",
       "      <td>80</td>\n",
       "      <td>0.02500</td>\n",
       "      <td>-3.263876</td>\n",
       "      <td>0.006795</td>\n",
       "      <td>2.004157</td>\n",
       "    </tr>\n",
       "    <tr>\n",
       "      <th>4</th>\n",
       "      <td>160</td>\n",
       "      <td>0.01250</td>\n",
       "      <td>-3.267280</td>\n",
       "      <td>0.003390</td>\n",
       "      <td>2.002081</td>\n",
       "    </tr>\n",
       "    <tr>\n",
       "      <th>5</th>\n",
       "      <td>320</td>\n",
       "      <td>0.00625</td>\n",
       "      <td>-3.268977</td>\n",
       "      <td>0.001693</td>\n",
       "      <td>NaN</td>\n",
       "    </tr>\n",
       "  </tbody>\n",
       "</table>\n",
       "</div>"
      ],
      "text/plain": [
       "   n_steps  step_size   y_euler   e_euler   r_euler\n",
       "k                                                  \n",
       "0       10    0.20000 -3.214748  0.055922  2.032259\n",
       "1       20    0.10000 -3.243153  0.027517  2.016470\n",
       "2       40    0.05000 -3.257024  0.013646  2.008292\n",
       "3       80    0.02500 -3.263876  0.006795  2.004157\n",
       "4      160    0.01250 -3.267280  0.003390  2.002081\n",
       "5      320    0.00625 -3.268977  0.001693       NaN"
      ]
     },
     "execution_count": 33,
     "metadata": {},
     "output_type": "execute_result"
    },
    {
     "data": {
      "image/png": "[encoded data removed]",
      "text/plain": [
       "<Figure size 288x288 with 1 Axes>"
      ]
     },
     "metadata": {
      "needs_background": "light"
     },
     "output_type": "display_data"
    }
   ],
   "source": [
    "# create a table with the experiment parameters\n",
    "df = pd.DataFrame(dict(\n",
    "    n_steps=[10, 20, 40, 80, 160, 320],\n",
    "    step_size=[0.2, 0.1, 0.05, 0.025, 0.0125, 0.00625]\n",
    "))\n",
    "df.index.name = 'k'\n",
    "\n",
    "# setup grid and initial conditions\n",
    "x_range = [0.0, 2.0]\n",
    "y_init = 1.0\n",
    "\n",
    "# compute the numerical solutions\n",
    "for k, n_steps in enumerate(df.n_steps):\n",
    "    x, y = forward_euler(expm_ode, x_range, y_init, n_steps)\n",
    "    df.loc[k, 'y_euler'] = y[-1]\n",
    "\n",
    "# compute error and error ratios\n",
    "df['e_euler'] = (df['y_euler'] - expm_exact(x=x_range[1]))\n",
    "df['r_euler'] = df['e_euler'] / df['e_euler'].shift(-1)\n",
    "\n",
    "# plot the errors wrt step size\n",
    "plt.figure(figsize=(4,4))\n",
    "plt.plot(df.step_size, df.e_euler, marker='x')\n",
    "plt.xlabel('Step size (h)')\n",
    "plt.ylabel('Error')\n",
    "\n",
    "df # show the table"
   ]
  },
  {
   "cell_type": "markdown",
   "metadata": {},
   "source": [
    "After plotting the errors with respect to the step size, a clear linear relationship is evident. A decrease in the step size results in a proportionate decrease in the error of the numerical solution.\n",
    "\n",
    "We know that the numerical error scales according to $O(h^p)$ for some exponent $p$, which we call the *order of accuracy*. We can use the mean error ratio from the numerical experiment, in which we successively halved the step size, to estimate the order of accuracy."
   ]
  },
  {
   "cell_type": "code",
   "execution_count": 64,
   "metadata": {},
   "outputs": [
    {
     "data": {
      "text/plain": [
       "1.009097598339162"
      ]
     },
     "execution_count": 64,
     "metadata": {},
     "output_type": "execute_result"
    }
   ],
   "source": [
    "# estimate p in error = O(h^p)\n",
    "# i.e. the order of accuracy, an integer\n",
    "p_euler = np.log2(df['r_euler'].mean())\n",
    "p_euler"
   ]
  },
  {
   "cell_type": "markdown",
   "metadata": {},
   "source": [
    "Using the forumla $p = log_2 \\frac{error(h)}{error(h/2)}$, I arrived at an estimated order of accuracy of 1. This supports what I observed in the error plot, which is that the error has a linear relationship with the step size using the forward Euler's method. "
   ]
  },
  {
   "cell_type": "markdown",
   "metadata": {},
   "source": [
    "## Exercise 2 - Euler half-step (RK2) method"
   ]
  },
  {
   "cell_type": "markdown",
   "metadata": {},
   "source": [
    "The next exercise explores another simple method for numerically solving an ODE called the Euler halfstep or RK2 method. The purpose is to demonstrate how a small algorithmic improvement can result in superior convergence behavior of the numerical solution.\n",
    "\n",
    "The RK2 method first computes a Euler estimate of the point a half step foward (the midpoint between consecutive x points), then uses the derivative at this midpoint to estimate the full step.\n",
    "\n",
    "$$\n",
    "\\begin{align}\n",
    "x_a &= x_k + \\frac{h}{2} \\\\\n",
    "y_a &= y_k + \\frac{h}{2} y'(x_k, y_k) \\\\\n",
    "x_{k+1} &= x_k + h \\\\\n",
    "y_{k+1} &= y_k + h y'(x_a, y_a)\n",
    "\\end{align}\n",
    "$$\n",
    "\n",
    "I extended the Euler's method function to compute a numerical solution using the RK2 method. I annotated the function signature and added comments and missing expressions for computing the auxiliary values."
   ]
  },
  {
   "cell_type": "code",
   "execution_count": 27,
   "metadata": {},
   "outputs": [],
   "source": [
    "def rk2(f_ode, x_range, y_init, n_steps):\n",
    "    '''\n",
    "    Compute a numerical solution to an ODE\n",
    "    using the Euler half-step (RK2) method.\n",
    "    \n",
    "    Inputs:\n",
    "        f_ode\n",
    "            The righthand side of an ODE.\n",
    "        x_range\n",
    "            The min and max x value at which\n",
    "            to compute the numerical solution.\n",
    "        y_init\n",
    "            The y value at the min x value.\n",
    "        n_steps\n",
    "            The number of steps to take to\n",
    "            get across the x_range.\n",
    "    Outputs:\n",
    "        Two arrays of solution points x, y.\n",
    "    '''\n",
    "    # initialize arrays to store x and y values\n",
    "    x = np.zeros(n_steps+1)\n",
    "    y = np.zeros((n_steps+1, np.size(y_init)))\n",
    "    \n",
    "    # get the step size\n",
    "    h = (x_range[1] - x_range[0]) / n_steps\n",
    "    \n",
    "    # compute numerical solution\n",
    "    for k in range(0, n_steps+1):\n",
    "        \n",
    "        if k == 0: # set initial conditions\n",
    "            x[0] = x_range[0]\n",
    "            y[0,:] = y_init\n",
    "        else:\n",
    "            # the x and y coordinates a half-step forward\n",
    "            x_a = x[k-1] + h/2\n",
    "            y_a = y[k-1] + h/2 * f_ode(x[k-1], y[k-1])\n",
    "            \n",
    "            # use the halfstep derivative to estimate full step\n",
    "            x[k] = x[k-1] + h\n",
    "            y[k] = y[k-1] + h * f_ode(x_a, y_a)\n",
    "\n",
    "    return x, y"
   ]
  },
  {
   "cell_type": "markdown",
   "metadata": {},
   "source": [
    "Just like before, I generated numerical solutions for the ODE with initial conditions $y_0 = 1.0$ on the $x$ range $[0, 2]$ with different 6 step sizes. However, this time I used the RK2 method instead of Euler's method.\n",
    "\n",
    "I stored the numerical solution at $\\hat{y}(2)$ for each step size, and I computed the error of the numerical solution $\\hat{y}(2) - y(2)$ using the known exact solution.\n",
    "\n",
    "I also computed error ratios between numerical solutions with consecutive step sizes."
   ]
  },
  {
   "cell_type": "code",
   "execution_count": 138,
   "metadata": {},
   "outputs": [
    {
     "data": {
      "text/html": [
       "<div>\n",
       "<style scoped>\n",
       "    .dataframe tbody tr th:only-of-type {\n",
       "        vertical-align: middle;\n",
       "    }\n",
       "\n",
       "    .dataframe tbody tr th {\n",
       "        vertical-align: top;\n",
       "    }\n",
       "\n",
       "    .dataframe thead th {\n",
       "        text-align: right;\n",
       "    }\n",
       "</style>\n",
       "<table border=\"1\" class=\"dataframe\">\n",
       "  <thead>\n",
       "    <tr style=\"text-align: right;\">\n",
       "      <th></th>\n",
       "      <th>n_steps</th>\n",
       "      <th>step_size</th>\n",
       "      <th>y_rk2</th>\n",
       "      <th>e_rk2</th>\n",
       "      <th>r_rk2</th>\n",
       "    </tr>\n",
       "    <tr>\n",
       "      <th>k</th>\n",
       "      <th></th>\n",
       "      <th></th>\n",
       "      <th></th>\n",
       "      <th></th>\n",
       "      <th></th>\n",
       "    </tr>\n",
       "  </thead>\n",
       "  <tbody>\n",
       "    <tr>\n",
       "      <th>0</th>\n",
       "      <td>10</td>\n",
       "      <td>0.20000</td>\n",
       "      <td>-3.274896</td>\n",
       "      <td>0.004225</td>\n",
       "      <td>4.336740</td>\n",
       "    </tr>\n",
       "    <tr>\n",
       "      <th>1</th>\n",
       "      <td>20</td>\n",
       "      <td>0.10000</td>\n",
       "      <td>-3.271645</td>\n",
       "      <td>0.000974</td>\n",
       "      <td>4.158771</td>\n",
       "    </tr>\n",
       "    <tr>\n",
       "      <th>2</th>\n",
       "      <td>40</td>\n",
       "      <td>0.05000</td>\n",
       "      <td>-3.270905</td>\n",
       "      <td>0.000234</td>\n",
       "      <td>4.077143</td>\n",
       "    </tr>\n",
       "    <tr>\n",
       "      <th>3</th>\n",
       "      <td>80</td>\n",
       "      <td>0.02500</td>\n",
       "      <td>-3.270728</td>\n",
       "      <td>0.000057</td>\n",
       "      <td>4.038030</td>\n",
       "    </tr>\n",
       "    <tr>\n",
       "      <th>4</th>\n",
       "      <td>160</td>\n",
       "      <td>0.01250</td>\n",
       "      <td>-3.270685</td>\n",
       "      <td>0.000014</td>\n",
       "      <td>4.018882</td>\n",
       "    </tr>\n",
       "    <tr>\n",
       "      <th>5</th>\n",
       "      <td>320</td>\n",
       "      <td>0.00625</td>\n",
       "      <td>-3.270674</td>\n",
       "      <td>0.000004</td>\n",
       "      <td>NaN</td>\n",
       "    </tr>\n",
       "  </tbody>\n",
       "</table>\n",
       "</div>"
      ],
      "text/plain": [
       "   n_steps  step_size     y_rk2     e_rk2     r_rk2\n",
       "k                                                  \n",
       "0       10    0.20000 -3.274896  0.004225  4.336740\n",
       "1       20    0.10000 -3.271645  0.000974  4.158771\n",
       "2       40    0.05000 -3.270905  0.000234  4.077143\n",
       "3       80    0.02500 -3.270728  0.000057  4.038030\n",
       "4      160    0.01250 -3.270685  0.000014  4.018882\n",
       "5      320    0.00625 -3.270674  0.000004       NaN"
      ]
     },
     "execution_count": 138,
     "metadata": {},
     "output_type": "execute_result"
    },
    {
     "data": {
      "image/png": "[encoded data removed]",
      "text/plain": [
       "<Figure size 288x288 with 1 Axes>"
      ]
     },
     "metadata": {
      "needs_background": "light"
     },
     "output_type": "display_data"
    }
   ],
   "source": [
    "# setup grid and initial conditions\n",
    "x_range = [0.0, 2.0]\n",
    "y_init = 1.0\n",
    "\n",
    "# compute the numerical solutions\n",
    "for k, n_steps in enumerate(df.n_steps):\n",
    "    x, y = rk2(expm_ode, x_range, y_init, n_steps)\n",
    "    df.loc[k, 'y_rk2'] = y[-1]\n",
    "\n",
    "# compute error and error ratios\n",
    "df['e_rk2'] = (df['y_rk2'] - expm_exact(x=x_range[1])).abs()\n",
    "df['r_rk2'] = df['e_rk2'] / df['e_rk2'].shift(-1)\n",
    "\n",
    "# plot the errors wrt step size\n",
    "plt.figure(figsize=(4,4))\n",
    "plt.plot(df.step_size, df.e_rk2, marker='x')\n",
    "plt.xlabel('Step size (h)')\n",
    "plt.ylabel('Error')\n",
    "\n",
    "df[['n_steps', 'step_size', 'y_rk2', 'e_rk2', 'r_rk2']] # show the table"
   ]
  },
  {
   "cell_type": "markdown",
   "metadata": {},
   "source": [
    "This time, the plot of errors with respect to step size revealed a nonlinear relationship. It appears to have a parabolic shape, which would imply a quadratic relationship between step size and numerical error when using the RK2 method."
   ]
  },
  {
   "cell_type": "code",
   "execution_count": 63,
   "metadata": {},
   "outputs": [
    {
     "data": {
      "text/plain": [
       "2.044713382070369"
      ]
     },
     "execution_count": 63,
     "metadata": {},
     "output_type": "execute_result"
    }
   ],
   "source": [
    "# estimate p in error = O(h^p)\n",
    "# i.e. the order of accuracy, an integer\n",
    "p_rk2 =np.log2(df['r_rk2'].mean())\n",
    "p_rk2"
   ]
  },
  {
   "cell_type": "markdown",
   "metadata": {},
   "source": [
    "I used the error ratios to estimate the order of accuracy for the RK2 method. The estimated order of 2 supports that the error of the RK2 method follows a quadratic relationship with the step size."
   ]
  },
  {
   "cell_type": "code",
   "execution_count": 57,
   "metadata": {},
   "outputs": [
    {
     "data": {
      "text/html": [
       "<div>\n",
       "<style scoped>\n",
       "    .dataframe tbody tr th:only-of-type {\n",
       "        vertical-align: middle;\n",
       "    }\n",
       "\n",
       "    .dataframe tbody tr th {\n",
       "        vertical-align: top;\n",
       "    }\n",
       "\n",
       "    .dataframe thead th {\n",
       "        text-align: right;\n",
       "    }\n",
       "</style>\n",
       "<table border=\"1\" class=\"dataframe\">\n",
       "  <thead>\n",
       "    <tr style=\"text-align: right;\">\n",
       "      <th></th>\n",
       "      <th>n_steps</th>\n",
       "      <th>step_size</th>\n",
       "      <th>e_euler</th>\n",
       "      <th>e_rk2</th>\n",
       "    </tr>\n",
       "    <tr>\n",
       "      <th>k</th>\n",
       "      <th></th>\n",
       "      <th></th>\n",
       "      <th></th>\n",
       "      <th></th>\n",
       "    </tr>\n",
       "  </thead>\n",
       "  <tbody>\n",
       "    <tr>\n",
       "      <th>0</th>\n",
       "      <td>10</td>\n",
       "      <td>0.20000</td>\n",
       "      <td>0.055922</td>\n",
       "      <td>0.004225</td>\n",
       "    </tr>\n",
       "    <tr>\n",
       "      <th>1</th>\n",
       "      <td>20</td>\n",
       "      <td>0.10000</td>\n",
       "      <td>0.027517</td>\n",
       "      <td>0.000974</td>\n",
       "    </tr>\n",
       "    <tr>\n",
       "      <th>2</th>\n",
       "      <td>40</td>\n",
       "      <td>0.05000</td>\n",
       "      <td>0.013646</td>\n",
       "      <td>0.000234</td>\n",
       "    </tr>\n",
       "    <tr>\n",
       "      <th>3</th>\n",
       "      <td>80</td>\n",
       "      <td>0.02500</td>\n",
       "      <td>0.006795</td>\n",
       "      <td>0.000057</td>\n",
       "    </tr>\n",
       "    <tr>\n",
       "      <th>4</th>\n",
       "      <td>160</td>\n",
       "      <td>0.01250</td>\n",
       "      <td>0.003390</td>\n",
       "      <td>0.000014</td>\n",
       "    </tr>\n",
       "    <tr>\n",
       "      <th>5</th>\n",
       "      <td>320</td>\n",
       "      <td>0.00625</td>\n",
       "      <td>0.001693</td>\n",
       "      <td>0.000004</td>\n",
       "    </tr>\n",
       "  </tbody>\n",
       "</table>\n",
       "</div>"
      ],
      "text/plain": [
       "   n_steps  step_size   e_euler     e_rk2\n",
       "k                                        \n",
       "0       10    0.20000  0.055922  0.004225\n",
       "1       20    0.10000  0.027517  0.000974\n",
       "2       40    0.05000  0.013646  0.000234\n",
       "3       80    0.02500  0.006795  0.000057\n",
       "4      160    0.01250  0.003390  0.000014\n",
       "5      320    0.00625  0.001693  0.000004"
      ]
     },
     "execution_count": 57,
     "metadata": {},
     "output_type": "execute_result"
    },
    {
     "data": {
      "image/png": "[encoded data removed]",
      "text/plain": [
       "<Figure size 288x288 with 1 Axes>"
      ]
     },
     "metadata": {
      "needs_background": "light"
     },
     "output_type": "display_data"
    }
   ],
   "source": [
    "plt.figure(figsize=(4,4))\n",
    "plt.plot(df.step_size, df.e_euler, label='Euler', marker='x')\n",
    "plt.plot(df.step_size, df.e_rk2, label='RK2', marker='x')\n",
    "plt.xlabel('Step size')\n",
    "plt.ylabel('Error')\n",
    "plt.legend()\n",
    "df[['n_steps', 'step_size', 'e_euler', 'e_rk2']]"
   ]
  },
  {
   "cell_type": "markdown",
   "metadata": {},
   "source": [
    "The table and plot above compare the error from using Euler's method compared with the RK2 method, for each of the different step sizes I evaluated. It is clear that the RK2 method converges faster than Euler as it achieves a much lower error at a given step size.\n",
    "\n",
    "Euler's method would require roughly 120 steps to achieve comparable error as RK2 produces with only 10 steps, which is 0.004225.\n",
    "\n",
    "Since the error in Euler's method has a linear relationship with step size, we can estimate the equation for a line from the collected data. The line will have an intercept of 0 since we know the series converges to the real function value as step size goes to zero. Therefore, we can simply estimate the slope as the mean ratio between error and step size."
   ]
  },
  {
   "cell_type": "code",
   "execution_count": 125,
   "metadata": {},
   "outputs": [
    {
     "data": {
      "text/plain": [
       "0.2736156393667888"
      ]
     },
     "execution_count": 125,
     "metadata": {},
     "output_type": "execute_result"
    }
   ],
   "source": [
    "# estimate the error scaling constant for Euler's method\n",
    "c_euler = (df.e_euler / df.step_size).mean()\n",
    "c_euler"
   ]
  },
  {
   "cell_type": "markdown",
   "metadata": {},
   "source": [
    "This produces an estimate $c = 0.2736$ for the error scaling constant. Now we can use this to estimate the step size needed to achieve a certain error rate using Euler's method via the equation $h= \\frac{e}{c}$."
   ]
  },
  {
   "cell_type": "code",
   "execution_count": 129,
   "metadata": {},
   "outputs": [
    {
     "data": {
      "text/plain": [
       "154544"
      ]
     },
     "execution_count": 129,
     "metadata": {},
     "output_type": "execute_result"
    }
   ],
   "source": [
    "# estimate the step size needed to achieve a certain\n",
    "#   error rate using Euler's method\n",
    "# e = c h\n",
    "# h = e/c\n",
    "e_rk2 = df['e_rk2'].iloc[5]\n",
    "h_euler = e_rk2 / c_euler\n",
    "\n",
    "# convert step size to num steps\n",
    "n_steps = int(2.0/h_euler)\n",
    "n_steps"
   ]
  },
  {
   "cell_type": "markdown",
   "metadata": {},
   "source": [
    "After converting from step size to number of steps, we predict that Euler's method would require 154544 steps to attain the error rate that RK2 does using 320 steps. We can now run the `forward_euler` function to verify if we achieve this error rate."
   ]
  },
  {
   "cell_type": "code",
   "execution_count": 131,
   "metadata": {
    "scrolled": true
   },
   "outputs": [
    {
     "data": {
      "text/plain": [
       "(3.540941226010119e-06, 3.5028411202731036e-06)"
      ]
     },
     "execution_count": 131,
     "metadata": {},
     "output_type": "execute_result"
    }
   ],
   "source": [
    "# check that we achieve that error rate using Euler's method at 320 steps\n",
    "x, y = forward_euler(expm_ode, x_range, y_init, n_steps=n_steps)\n",
    "e_euler = y[-1,0] - expm_exact(x=x_range[1])\n",
    "e_rk2, e_euler"
   ]
  },
  {
   "cell_type": "markdown",
   "metadata": {},
   "source": [
    "Using 320 steps, RK2 has an error of 3.541e-6. Using 154,544 steps, Euler's method has an error of 3.503e-6. These errors are similar in magnitude, so our prediction was accurate."
   ]
  },
  {
   "cell_type": "markdown",
   "metadata": {},
   "source": [
    "# Exercise 3 - Runge-Kutta methods\n",
    "\n",
    "This exercise has the goal of adding further complexity and performance to the ODE solvers we previously developed using higher-order Runge-Kutta methods.\n",
    "\n",
    "$$\n",
    "\\begin{align}\n",
    "    x_a &= x_k + \\frac{h}{2} \\\\\n",
    "    y_a &= y_k + \\frac{h}{2} y'(x_k, y_k) \\\\\n",
    "    x_b &= x_k + h \\\\\n",
    "    y_b &= y_k + h (2y'(x_a, y_a) - y'(x_k, y_k)) \\\\\n",
    "    x_{k+1} &= x_k + h \\\\\n",
    "    y_{k+1} &= y_k + h(y'(x_k, y_k) + 4y'(x_a, y_a) + y'(x_b, y_b))/6.0\n",
    "\\end{align}\n",
    "$$"
   ]
  },
  {
   "cell_type": "code",
   "execution_count": 132,
   "metadata": {},
   "outputs": [],
   "source": [
    "def rk3(f_ode, x_range, y_init, n_steps):\n",
    "    '''\n",
    "    Compute a numerical solution to an ODE\n",
    "    using the 3rd order Runge-Kutta method.\n",
    "    \n",
    "    Inputs:\n",
    "        f_ode\n",
    "            The righthand side of an ODE.\n",
    "        x_range\n",
    "            The min and max x value at which\n",
    "            to compute the numerical solution.\n",
    "        y_init\n",
    "            The y value at the min x value.\n",
    "        n_steps\n",
    "            The number of steps to take to\n",
    "            get across the x_range.\n",
    "    Outputs:\n",
    "        Two arrays of solution points x, y.\n",
    "    '''\n",
    "    # initialize arrays to store x and y values\n",
    "    x = np.zeros(n_steps+1)\n",
    "    y = np.zeros((n_steps+1, np.size(y_init)))\n",
    "    \n",
    "    # get the step size\n",
    "    h = (x_range[1] - x_range[0]) / n_steps\n",
    "    \n",
    "    # compute numerical solution\n",
    "    for k in range(0, n_steps+1):\n",
    "        \n",
    "        if k == 0: # set initial conditions\n",
    "            x[0] = x_range[0]\n",
    "            y[0,:] = y_init\n",
    "        else:\n",
    "            # the x and y coordinates a half-step forward\n",
    "            x_a = x[k-1] + h/2\n",
    "            y_a = y[k-1] + h/2 * f_ode(x[k-1], y[k-1])\n",
    "            \n",
    "            # additional intermediate step\n",
    "            x_b = x[k-1] + h\n",
    "            y_b = y[k-1] + h*(2*f_ode(x_a, y_a) - f_ode(x[k-1], y[k-1]))\n",
    "            \n",
    "            # use the halfstep derivative to estimate full step\n",
    "            x[k] = x[k-1] + h\n",
    "            y[k] = y[k-1] + h*(\n",
    "                f_ode(x[k-1], y[k-1]) + 4*f_ode(x_a, y_a) + f_ode(x_b, y_b)\n",
    "            ) / 6\n",
    "\n",
    "    return x, y"
   ]
  },
  {
   "cell_type": "code",
   "execution_count": 139,
   "metadata": {},
   "outputs": [
    {
     "data": {
      "text/html": [
       "<div>\n",
       "<style scoped>\n",
       "    .dataframe tbody tr th:only-of-type {\n",
       "        vertical-align: middle;\n",
       "    }\n",
       "\n",
       "    .dataframe tbody tr th {\n",
       "        vertical-align: top;\n",
       "    }\n",
       "\n",
       "    .dataframe thead th {\n",
       "        text-align: right;\n",
       "    }\n",
       "</style>\n",
       "<table border=\"1\" class=\"dataframe\">\n",
       "  <thead>\n",
       "    <tr style=\"text-align: right;\">\n",
       "      <th></th>\n",
       "      <th>n_steps</th>\n",
       "      <th>step_size</th>\n",
       "      <th>y_rk3</th>\n",
       "      <th>e_rk3</th>\n",
       "      <th>r_rk3</th>\n",
       "    </tr>\n",
       "    <tr>\n",
       "      <th>k</th>\n",
       "      <th></th>\n",
       "      <th></th>\n",
       "      <th></th>\n",
       "      <th></th>\n",
       "      <th></th>\n",
       "    </tr>\n",
       "  </thead>\n",
       "  <tbody>\n",
       "    <tr>\n",
       "      <th>0</th>\n",
       "      <td>10</td>\n",
       "      <td>0.20000</td>\n",
       "      <td>-3.270459</td>\n",
       "      <td>2.117936e-04</td>\n",
       "      <td>8.667036</td>\n",
       "    </tr>\n",
       "    <tr>\n",
       "      <th>1</th>\n",
       "      <td>20</td>\n",
       "      <td>0.10000</td>\n",
       "      <td>-3.270646</td>\n",
       "      <td>2.443669e-05</td>\n",
       "      <td>8.327000</td>\n",
       "    </tr>\n",
       "    <tr>\n",
       "      <th>2</th>\n",
       "      <td>40</td>\n",
       "      <td>0.05000</td>\n",
       "      <td>-3.270668</td>\n",
       "      <td>2.934632e-06</td>\n",
       "      <td>8.161776</td>\n",
       "    </tr>\n",
       "    <tr>\n",
       "      <th>3</th>\n",
       "      <td>80</td>\n",
       "      <td>0.02500</td>\n",
       "      <td>-3.270670</td>\n",
       "      <td>3.595581e-07</td>\n",
       "      <td>8.080446</td>\n",
       "    </tr>\n",
       "    <tr>\n",
       "      <th>4</th>\n",
       "      <td>160</td>\n",
       "      <td>0.01250</td>\n",
       "      <td>-3.270671</td>\n",
       "      <td>4.449730e-08</td>\n",
       "      <td>8.040126</td>\n",
       "    </tr>\n",
       "    <tr>\n",
       "      <th>5</th>\n",
       "      <td>320</td>\n",
       "      <td>0.00625</td>\n",
       "      <td>-3.270671</td>\n",
       "      <td>5.534404e-09</td>\n",
       "      <td>NaN</td>\n",
       "    </tr>\n",
       "  </tbody>\n",
       "</table>\n",
       "</div>"
      ],
      "text/plain": [
       "   n_steps  step_size     y_rk3         e_rk3     r_rk3\n",
       "k                                                      \n",
       "0       10    0.20000 -3.270459  2.117936e-04  8.667036\n",
       "1       20    0.10000 -3.270646  2.443669e-05  8.327000\n",
       "2       40    0.05000 -3.270668  2.934632e-06  8.161776\n",
       "3       80    0.02500 -3.270670  3.595581e-07  8.080446\n",
       "4      160    0.01250 -3.270671  4.449730e-08  8.040126\n",
       "5      320    0.00625 -3.270671  5.534404e-09       NaN"
      ]
     },
     "execution_count": 139,
     "metadata": {},
     "output_type": "execute_result"
    },
    {
     "data": {
      "image/png": "[encoded data removed]",
      "text/plain": [
       "<Figure size 288x288 with 1 Axes>"
      ]
     },
     "metadata": {
      "needs_background": "light"
     },
     "output_type": "display_data"
    }
   ],
   "source": [
    "# setup grid and initial conditions\n",
    "x_range = [0.0, 2.0]\n",
    "y_init = 1.0\n",
    "\n",
    "# compute the numerical solutions\n",
    "for k, n_steps in enumerate(df.n_steps):\n",
    "    x, y = rk3(expm_ode, x_range, y_init, n_steps)\n",
    "    df.loc[k, 'y_rk3'] = y[-1]\n",
    "\n",
    "# compute error and error ratios\n",
    "df['e_rk3'] = (df['y_rk3'] - expm_exact(x=x_range[1])).abs()\n",
    "df['r_rk3'] = df['e_rk3'] / df['e_rk3'].shift(-1)\n",
    "\n",
    "# plot the errors wrt step size\n",
    "plt.figure(figsize=(4,4))\n",
    "plt.plot(df.step_size, df.e_rk3, marker='x')\n",
    "plt.xlabel('Step size (h)')\n",
    "plt.ylabel('Error')\n",
    "\n",
    "df[['n_steps', 'step_size', 'y_rk3', 'e_rk3', 'r_rk3']] # show the table"
   ]
  },
  {
   "cell_type": "code",
   "execution_count": 140,
   "metadata": {},
   "outputs": [
    {
     "data": {
      "text/plain": [
       "3.0453166068199478"
      ]
     },
     "execution_count": 140,
     "metadata": {},
     "output_type": "execute_result"
    }
   ],
   "source": [
    "# estimate p in error = O(h^p)\n",
    "# i.e. the order of accuracy, an integer\n",
    "p_rk3 = np.log2(df['r_rk3'].mean())\n",
    "p_rk3"
   ]
  },
  {
   "cell_type": "code",
   "execution_count": 141,
   "metadata": {},
   "outputs": [
    {
     "data": {
      "text/html": [
       "<div>\n",
       "<style scoped>\n",
       "    .dataframe tbody tr th:only-of-type {\n",
       "        vertical-align: middle;\n",
       "    }\n",
       "\n",
       "    .dataframe tbody tr th {\n",
       "        vertical-align: top;\n",
       "    }\n",
       "\n",
       "    .dataframe thead th {\n",
       "        text-align: right;\n",
       "    }\n",
       "</style>\n",
       "<table border=\"1\" class=\"dataframe\">\n",
       "  <thead>\n",
       "    <tr style=\"text-align: right;\">\n",
       "      <th></th>\n",
       "      <th>n_steps</th>\n",
       "      <th>step_size</th>\n",
       "      <th>e_rk2</th>\n",
       "      <th>e_rk3</th>\n",
       "    </tr>\n",
       "    <tr>\n",
       "      <th>k</th>\n",
       "      <th></th>\n",
       "      <th></th>\n",
       "      <th></th>\n",
       "      <th></th>\n",
       "    </tr>\n",
       "  </thead>\n",
       "  <tbody>\n",
       "    <tr>\n",
       "      <th>0</th>\n",
       "      <td>10</td>\n",
       "      <td>0.20000</td>\n",
       "      <td>0.004225</td>\n",
       "      <td>2.117936e-04</td>\n",
       "    </tr>\n",
       "    <tr>\n",
       "      <th>1</th>\n",
       "      <td>20</td>\n",
       "      <td>0.10000</td>\n",
       "      <td>0.000974</td>\n",
       "      <td>2.443669e-05</td>\n",
       "    </tr>\n",
       "    <tr>\n",
       "      <th>2</th>\n",
       "      <td>40</td>\n",
       "      <td>0.05000</td>\n",
       "      <td>0.000234</td>\n",
       "      <td>2.934632e-06</td>\n",
       "    </tr>\n",
       "    <tr>\n",
       "      <th>3</th>\n",
       "      <td>80</td>\n",
       "      <td>0.02500</td>\n",
       "      <td>0.000057</td>\n",
       "      <td>3.595581e-07</td>\n",
       "    </tr>\n",
       "    <tr>\n",
       "      <th>4</th>\n",
       "      <td>160</td>\n",
       "      <td>0.01250</td>\n",
       "      <td>0.000014</td>\n",
       "      <td>4.449730e-08</td>\n",
       "    </tr>\n",
       "    <tr>\n",
       "      <th>5</th>\n",
       "      <td>320</td>\n",
       "      <td>0.00625</td>\n",
       "      <td>0.000004</td>\n",
       "      <td>5.534404e-09</td>\n",
       "    </tr>\n",
       "  </tbody>\n",
       "</table>\n",
       "</div>"
      ],
      "text/plain": [
       "   n_steps  step_size     e_rk2         e_rk3\n",
       "k                                            \n",
       "0       10    0.20000  0.004225  2.117936e-04\n",
       "1       20    0.10000  0.000974  2.443669e-05\n",
       "2       40    0.05000  0.000234  2.934632e-06\n",
       "3       80    0.02500  0.000057  3.595581e-07\n",
       "4      160    0.01250  0.000014  4.449730e-08\n",
       "5      320    0.00625  0.000004  5.534404e-09"
      ]
     },
     "execution_count": 141,
     "metadata": {},
     "output_type": "execute_result"
    },
    {
     "data": {
      "image/png": "[encoded data removed]",
      "text/plain": [
       "<Figure size 288x288 with 1 Axes>"
      ]
     },
     "metadata": {
      "needs_background": "light"
     },
     "output_type": "display_data"
    }
   ],
   "source": [
    "plt.figure(figsize=(4,4))\n",
    "plt.plot(df.step_size, df.e_rk2, label='RK2', marker='x')\n",
    "plt.plot(df.step_size, df.e_rk3, label='RK3', marker='x')\n",
    "plt.xlabel('Step size')\n",
    "plt.ylabel('Error')\n",
    "plt.legend()\n",
    "df[['n_steps', 'step_size', 'e_rk2', 'e_rk3']]"
   ]
  },
  {
   "cell_type": "code",
   "execution_count": null,
   "metadata": {},
   "outputs": [],
   "source": [
    "# TODO more stuff"
   ]
  },
  {
   "cell_type": "markdown",
   "metadata": {},
   "source": [
    "# Exercise 4 - Systems of equations"
   ]
  },
  {
   "cell_type": "code",
   "execution_count": 142,
   "metadata": {},
   "outputs": [
    {
     "data": {
      "text/plain": [
       "array([-8., -9.])"
      ]
     },
     "execution_count": 142,
     "metadata": {},
     "output_type": "execute_result"
    }
   ],
   "source": [
    "x = 1.0\n",
    "y = np.array([5, 6])\n",
    "f_val = expm_ode(x, y)\n",
    "f_val"
   ]
  },
  {
   "cell_type": "code",
   "execution_count": 147,
   "metadata": {},
   "outputs": [
    {
     "data": {
      "text/plain": [
       "(2.000000000000001, array([-2.72933237, -2.59399855]))"
      ]
     },
     "execution_count": 147,
     "metadata": {},
     "output_type": "execute_result"
    }
   ],
   "source": [
    "# setup grid and initial conditions\n",
    "x_range = [0.0, 2.0]\n",
    "y_init = np.array([5, 6])\n",
    "\n",
    "# compute the numerical solution\n",
    "xs, ys = rk3(expm_ode, x_range, y_init, n_steps=40)\n",
    "ys[-1]"
   ]
  },
  {
   "cell_type": "code",
   "execution_count": 149,
   "metadata": {},
   "outputs": [
    {
     "data": {
      "text/plain": [
       "array([-2.72933237])"
      ]
     },
     "execution_count": 149,
     "metadata": {},
     "output_type": "execute_result"
    }
   ],
   "source": [
    "x0, y0 = rk3(expm_ode, x_range, y_init=5, n_steps=40)\n",
    "0y[-1]"
   ]
  },
  {
   "cell_type": "code",
   "execution_count": 150,
   "metadata": {},
   "outputs": [
    {
     "data": {
      "text/plain": [
       "array([-2.59399855])"
      ]
     },
     "execution_count": 150,
     "metadata": {},
     "output_type": "execute_result"
    }
   ],
   "source": [
    "x1, y1 = rk3(expm_ode, x_range, y_init=6, n_steps=40)\n",
    "y1[-1]"
   ]
  },
  {
   "cell_type": "markdown",
   "metadata": {},
   "source": [
    "# Exercise 5 - Pendulum ODE"
   ]
  },
  {
   "cell_type": "code",
   "execution_count": null,
   "metadata": {},
   "outputs": [],
   "source": []
  },
  {
   "cell_type": "markdown",
   "metadata": {},
   "source": [
    "# Exercise 6 - Comparisons?"
   ]
  },
  {
   "cell_type": "code",
   "execution_count": null,
   "metadata": {},
   "outputs": [],
   "source": []
  },
  {
   "cell_type": "markdown",
   "metadata": {},
   "source": [
    "# Exercise 7 - Adams-Bashforth methods"
   ]
  },
  {
   "cell_type": "code",
   "execution_count": null,
   "metadata": {},
   "outputs": [],
   "source": []
  },
  {
   "cell_type": "code",
   "execution_count": null,
   "metadata": {},
   "outputs": [],
   "source": []
  },
  {
   "cell_type": "code",
   "execution_count": null,
   "metadata": {},
   "outputs": [],
   "source": []
  },
  {
   "cell_type": "code",
   "execution_count": null,
   "metadata": {},
   "outputs": [],
   "source": []
  },
  {
   "cell_type": "code",
   "execution_count": null,
   "metadata": {},
   "outputs": [],
   "source": []
  }
 ],
 "metadata": {
  "kernelspec": {
   "display_name": "Python 3",
   "language": "python",
   "name": "python3"
  },
  "language_info": {
   "codemirror_mode": {
    "name": "ipython",
    "version": 3
   },
   "file_extension": ".py",
   "mimetype": "text/x-python",
   "name": "python",
   "nbconvert_exporter": "python",
   "pygments_lexer": "ipython3",
   "version": "3.7.0"
  }
 },
 "nbformat": 4,
 "nbformat_minor": 2
}
