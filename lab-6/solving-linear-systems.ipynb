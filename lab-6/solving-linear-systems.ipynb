{
 "cells": [
  {
   "cell_type": "markdown",
   "metadata": {},
   "source": [
    "# MATH 2071 Lab 6 - Solving linear systems\n",
    "\n",
    "Matthew Ragoza\n",
    "\n",
    "2022-02-09"
   ]
  },
  {
   "cell_type": "code",
   "execution_count": 1,
   "metadata": {},
   "outputs": [],
   "source": [
    "%matplotlib inline\n",
    "import sys\n",
    "from time import time\n",
    "import numpy as np\n",
    "from numpy.linalg import norm\n",
    "import scipy as sp\n",
    "from scipy import sparse\n",
    "import pandas as pd\n",
    "import matplotlib.pyplot as plt\n",
    "import seaborn as sns\n",
    "sns.set_context('notebook')\n",
    "\n",
    "sys.path.append('../lab-5/code')\n",
    "import gallery"
   ]
  },
  {
   "cell_type": "markdown",
   "metadata": {},
   "source": [
    "# Exercise 1 - Matrix inversion\n",
    "\n",
    "The purpose of this exercise is to measure the efficiency of solving a linear system $Ax=b$ by first computing the inverse matrix $A^{-1}$ and then multiplying it by the righthand side to get the solution $x = A^{-1}b$.\n",
    "\n",
    "To help benchmark this method and the other methods implemented in this lab, I created a timer function that can be used to time an arbitary function call."
   ]
  },
  {
   "cell_type": "code",
   "execution_count": 2,
   "metadata": {},
   "outputs": [],
   "source": [
    "def timer(f):\n",
    "    def wrapper(*args, **kwargs):\n",
    "        t0 = time()\n",
    "        ret = f(*args, **kwargs)\n",
    "        dt = time() - t0\n",
    "        return ret, dt\n",
    "    return wrapper"
   ]
  },
  {
   "cell_type": "markdown",
   "metadata": {},
   "source": [
    "I created a function called `exercise1` that creates a magic matrix of a given size and a simple righthand side vector of ones. It then computes the solution to the linear system by using the matrix inversion approach. The time taken to compute the solution is then returned from the function."
   ]
  },
  {
   "cell_type": "code",
   "execution_count": 3,
   "metadata": {},
   "outputs": [
    {
     "data": {
      "text/plain": [
       "0.006906986236572266"
      ]
     },
     "execution_count": 3,
     "metadata": {},
     "output_type": "execute_result"
    }
   ],
   "source": [
    "def inv_solve(A, b):\n",
    "    '''\n",
    "    Solve A x = b for x by\n",
    "    computing x = A^-1 b.\n",
    "    '''\n",
    "    A_inv = np.linalg.inv(A)\n",
    "    return A_inv @ b\n",
    "\n",
    "def exercise1(n):\n",
    "    A = gallery.magic_matrix(n)\n",
    "    b = np.ones((n, 1))\n",
    "    x, dt = timer(inv_solve)(A, b)\n",
    "    return dt\n",
    "\n",
    "exercise1(n=10)"
   ]
  },
  {
   "cell_type": "markdown",
   "metadata": {},
   "source": [
    "I tested this method by measuring the solution time for linear systems of 7 different sizes. I collected the runtimes into a data frame and I computed the runtimes normalized by the cubed system size $n^3$. I also computed the ratio between the runtimes for increasing system sizes. I displayed these results in a table below."
   ]
  },
  {
   "cell_type": "code",
   "execution_count": 7,
   "metadata": {},
   "outputs": [
    {
     "name": "stdout",
     "output_type": "stream",
     "text": [
      "161...321...641...1281...2561...5121...10241...done\n"
     ]
    },
    {
     "data": {
      "text/html": [
       "<div>\n",
       "<style scoped>\n",
       "    .dataframe tbody tr th:only-of-type {\n",
       "        vertical-align: middle;\n",
       "    }\n",
       "\n",
       "    .dataframe tbody tr th {\n",
       "        vertical-align: top;\n",
       "    }\n",
       "\n",
       "    .dataframe thead th {\n",
       "        text-align: right;\n",
       "    }\n",
       "</style>\n",
       "<table border=\"1\" class=\"dataframe\">\n",
       "  <thead>\n",
       "    <tr style=\"text-align: right;\">\n",
       "      <th></th>\n",
       "      <th>dt</th>\n",
       "      <th>dt_n3</th>\n",
       "      <th>dt_ratio</th>\n",
       "    </tr>\n",
       "    <tr>\n",
       "      <th>n</th>\n",
       "      <th></th>\n",
       "      <th></th>\n",
       "      <th></th>\n",
       "    </tr>\n",
       "  </thead>\n",
       "  <tbody>\n",
       "    <tr>\n",
       "      <th>161</th>\n",
       "      <td>0.000836</td>\n",
       "      <td>2.002970e-10</td>\n",
       "      <td>NaN</td>\n",
       "    </tr>\n",
       "    <tr>\n",
       "      <th>321</th>\n",
       "      <td>0.001821</td>\n",
       "      <td>5.504158e-11</td>\n",
       "      <td>2.177981</td>\n",
       "    </tr>\n",
       "    <tr>\n",
       "      <th>641</th>\n",
       "      <td>0.012919</td>\n",
       "      <td>4.905069e-11</td>\n",
       "      <td>7.095993</td>\n",
       "    </tr>\n",
       "    <tr>\n",
       "      <th>1281</th>\n",
       "      <td>0.089898</td>\n",
       "      <td>4.276633e-11</td>\n",
       "      <td>6.958734</td>\n",
       "    </tr>\n",
       "    <tr>\n",
       "      <th>2561</th>\n",
       "      <td>0.645592</td>\n",
       "      <td>3.843525e-11</td>\n",
       "      <td>7.181399</td>\n",
       "    </tr>\n",
       "    <tr>\n",
       "      <th>5121</th>\n",
       "      <td>3.394247</td>\n",
       "      <td>2.527430e-11</td>\n",
       "      <td>5.257569</td>\n",
       "    </tr>\n",
       "    <tr>\n",
       "      <th>10241</th>\n",
       "      <td>25.733005</td>\n",
       "      <td>2.395871e-11</td>\n",
       "      <td>7.581360</td>\n",
       "    </tr>\n",
       "  </tbody>\n",
       "</table>\n",
       "</div>"
      ],
      "text/plain": [
       "              dt         dt_n3  dt_ratio\n",
       "n                                       \n",
       "161     0.000836  2.002970e-10       NaN\n",
       "321     0.001821  5.504158e-11  2.177981\n",
       "641     0.012919  4.905069e-11  7.095993\n",
       "1281    0.089898  4.276633e-11  6.958734\n",
       "2561    0.645592  3.843525e-11  7.181399\n",
       "5121    3.394247  2.527430e-11  5.257569\n",
       "10241  25.733005  2.395871e-11  7.581360"
      ]
     },
     "execution_count": 7,
     "metadata": {},
     "output_type": "execute_result"
    }
   ],
   "source": [
    "data = []\n",
    "for n in [161, 321, 641, 1281, 2561, 5121, 10241]:\n",
    "    print(n, end='...')\n",
    "    dt = exercise1(n)\n",
    "    data.append((n, dt))\n",
    "\n",
    "print('done')\n",
    "\n",
    "df = pd.DataFrame(data, columns=['n', 'dt'])\n",
    "df['dt_n3'] = df['dt'] / df['n']**3\n",
    "df['dt_ratio'] = df['dt'] / df['dt'].shift(1)\n",
    "df.set_index('n')"
   ]
  },
  {
   "cell_type": "markdown",
   "metadata": {},
   "source": [
    "As the the system size increases, the runtime scales proportionate to the cube of the system size. This can be seen by the relatively constant value of $dt$ normalized by $n^3$ in the table above. In addition, when doubling the system size, the runtime increased by a factor of about 6, which indicates slightly less than cubic time complexity."
   ]
  },
  {
   "cell_type": "code",
   "execution_count": 8,
   "metadata": {},
   "outputs": [
    {
     "data": {
      "text/plain": [
       "6.04217237925359"
      ]
     },
     "execution_count": 8,
     "metadata": {},
     "output_type": "execute_result"
    }
   ],
   "source": [
    "df['dt_ratio'].mean()"
   ]
  },
  {
   "cell_type": "code",
   "execution_count": 10,
   "metadata": {},
   "outputs": [
    {
     "data": {
      "text/plain": [
       "<matplotlib.axes._subplots.AxesSubplot at 0x7f17641a4be0>"
      ]
     },
     "execution_count": 10,
     "metadata": {},
     "output_type": "execute_result"
    },
    {
     "data": {
      "image/png": "[encoded data removed]",
      "text/plain": [
       "<Figure size 432x288 with 1 Axes>"
      ]
     },
     "metadata": {
      "needs_background": "light"
     },
     "output_type": "display_data"
    }
   ],
   "source": [
    "df.plot(x='n')"
   ]
  },
  {
   "cell_type": "markdown",
   "metadata": {},
   "source": [
    "# Exercise 2 - Gaussian elimination\n",
    "\n",
    "The objective of this exercise is to compare the runtime of the matrix inversion method to the standard `np.linalg.solve` method of solving a linear system, which uses Gaussian elimination. By comparing their runtime on the same set of linear systems, we will determine which algorithm is faster.\n",
    "\n",
    "I implemented a function `exercise2` which is exactly the same as `exercise1`, except that it uses the standard Gaussian elimination-based solver instead of matrix inversion."
   ]
  },
  {
   "cell_type": "code",
   "execution_count": 11,
   "metadata": {},
   "outputs": [
    {
     "data": {
      "text/plain": [
       "0.0010800361633300781"
      ]
     },
     "execution_count": 11,
     "metadata": {},
     "output_type": "execute_result"
    }
   ],
   "source": [
    "def exercise2(n):\n",
    "    A = gallery.magic_matrix(n)\n",
    "    b = np.ones((n, 1))\n",
    "    x, dt = timer(np.linalg.solve)(A, b)\n",
    "    return dt\n",
    "\n",
    "exercise2(n=10)"
   ]
  },
  {
   "cell_type": "markdown",
   "metadata": {},
   "source": [
    "I ran the same experimented as before with the Gaussian elimination solver. I evaluated the method on a set of linear systems of different sizes with coefficients defined by a magic matrix. I collected the runtimes of each solution into a data frame and computed the normalized runtimes and growth ratios. Then I displayed this information in a table."
   ]
  },
  {
   "cell_type": "code",
   "execution_count": 15,
   "metadata": {},
   "outputs": [
    {
     "name": "stdout",
     "output_type": "stream",
     "text": [
      "161...321...641...1281...2561...5121...10241...done\n"
     ]
    },
    {
     "data": {
      "text/html": [
       "<div>\n",
       "<style scoped>\n",
       "    .dataframe tbody tr th:only-of-type {\n",
       "        vertical-align: middle;\n",
       "    }\n",
       "\n",
       "    .dataframe tbody tr th {\n",
       "        vertical-align: top;\n",
       "    }\n",
       "\n",
       "    .dataframe thead th {\n",
       "        text-align: right;\n",
       "    }\n",
       "</style>\n",
       "<table border=\"1\" class=\"dataframe\">\n",
       "  <thead>\n",
       "    <tr style=\"text-align: right;\">\n",
       "      <th></th>\n",
       "      <th>dt</th>\n",
       "      <th>dt_n3</th>\n",
       "      <th>dt_ratio</th>\n",
       "    </tr>\n",
       "    <tr>\n",
       "      <th>n</th>\n",
       "      <th></th>\n",
       "      <th></th>\n",
       "      <th></th>\n",
       "    </tr>\n",
       "  </thead>\n",
       "  <tbody>\n",
       "    <tr>\n",
       "      <th>161</th>\n",
       "      <td>0.000321</td>\n",
       "      <td>7.701093e-11</td>\n",
       "      <td>NaN</td>\n",
       "    </tr>\n",
       "    <tr>\n",
       "      <th>321</th>\n",
       "      <td>0.000633</td>\n",
       "      <td>1.914490e-11</td>\n",
       "      <td>1.970326</td>\n",
       "    </tr>\n",
       "    <tr>\n",
       "      <th>641</th>\n",
       "      <td>0.005227</td>\n",
       "      <td>1.984478e-11</td>\n",
       "      <td>8.253765</td>\n",
       "    </tr>\n",
       "    <tr>\n",
       "      <th>1281</th>\n",
       "      <td>0.026078</td>\n",
       "      <td>1.240574e-11</td>\n",
       "      <td>4.989417</td>\n",
       "    </tr>\n",
       "    <tr>\n",
       "      <th>2561</th>\n",
       "      <td>0.172781</td>\n",
       "      <td>1.028650e-11</td>\n",
       "      <td>6.625619</td>\n",
       "    </tr>\n",
       "    <tr>\n",
       "      <th>5121</th>\n",
       "      <td>1.014531</td>\n",
       "      <td>7.554415e-12</td>\n",
       "      <td>5.871764</td>\n",
       "    </tr>\n",
       "    <tr>\n",
       "      <th>10241</th>\n",
       "      <td>7.184830</td>\n",
       "      <td>6.689435e-12</td>\n",
       "      <td>7.081925</td>\n",
       "    </tr>\n",
       "  </tbody>\n",
       "</table>\n",
       "</div>"
      ],
      "text/plain": [
       "             dt         dt_n3  dt_ratio\n",
       "n                                      \n",
       "161    0.000321  7.701093e-11       NaN\n",
       "321    0.000633  1.914490e-11  1.970326\n",
       "641    0.005227  1.984478e-11  8.253765\n",
       "1281   0.026078  1.240574e-11  4.989417\n",
       "2561   0.172781  1.028650e-11  6.625619\n",
       "5121   1.014531  7.554415e-12  5.871764\n",
       "10241  7.184830  6.689435e-12  7.081925"
      ]
     },
     "execution_count": 15,
     "metadata": {},
     "output_type": "execute_result"
    }
   ],
   "source": [
    "data = []\n",
    "for n in [161, 321, 641, 1281, 2561, 5121, 10241]:\n",
    "    print(n, end='...')\n",
    "    dt = exercise2(n)\n",
    "    data.append((n, dt))\n",
    "\n",
    "print('done')\n",
    "\n",
    "df = pd.DataFrame(data, columns=['n', 'dt'])\n",
    "df['dt_n3'] = df['dt'] / df['n']**3\n",
    "df['dt_ratio'] = df['dt'] / df['dt'].shift(1)\n",
    "df.set_index('n')"
   ]
  },
  {
   "cell_type": "markdown",
   "metadata": {},
   "source": [
    "It is evident that the runtime of Gaussian elimination also scales with the cube of the system size. The mean growth ratio of 5.8 suggests slightly less than cubic time complexity. However, in absolute terms the times are about three times faster with this method than with matrix inversion. The largest system was solved in about 7 seconds compared to 25 seconds using the matrix inverse. These results are consistent with theory, which states that Gaussian elimination should be three times faster than matrix inversion for solving a linear system."
   ]
  },
  {
   "cell_type": "code",
   "execution_count": 17,
   "metadata": {},
   "outputs": [
    {
     "data": {
      "text/plain": [
       "5.7988028989945954"
      ]
     },
     "execution_count": 17,
     "metadata": {},
     "output_type": "execute_result"
    }
   ],
   "source": [
    "df['dt_ratio'].mean()"
   ]
  },
  {
   "cell_type": "code",
   "execution_count": 18,
   "metadata": {},
   "outputs": [
    {
     "data": {
      "text/plain": [
       "<matplotlib.axes._subplots.AxesSubplot at 0x7f1764105c18>"
      ]
     },
     "execution_count": 18,
     "metadata": {},
     "output_type": "execute_result"
    },
    {
     "data": {
      "image/png": "[encoded data removed]",
      "text/plain": [
       "<Figure size 432x288 with 1 Axes>"
      ]
     },
     "metadata": {
      "needs_background": "light"
     },
     "output_type": "display_data"
    }
   ],
   "source": [
    "df.plot(x='n')"
   ]
  },
  {
   "cell_type": "markdown",
   "metadata": {},
   "source": [
    "# Exercise 3 - Sparse matrices\n",
    "\n",
    "The goal of this exercise is to understand how sparse matrices can be leveraged to reduce the complexity of solving linear systems with sparse coefficients. When many matrix entries are zero, they don't need to be explicitly represented in memory or used in some computations. Efficient data structures and algorithms have been developed for working with sparse matrices.\n",
    "\n",
    "I implemented a function `exercise3` that solves a linear system defined by a sparse matrix using the sparse linear system solver `scipy.sparse.linalg.spsolve`. The runtime of the numerical solution is measured and returned."
   ]
  },
  {
   "cell_type": "code",
   "execution_count": 19,
   "metadata": {},
   "outputs": [
    {
     "data": {
      "text/plain": [
       "0.004476785659790039"
      ]
     },
     "execution_count": 19,
     "metadata": {},
     "output_type": "execute_result"
    }
   ],
   "source": [
    "def exercise3(n):\n",
    "    A = gallery.dif2_sparse(n)\n",
    "    b = np.ones((n, 1))\n",
    "    x, dt = timer(sparse.linalg.spsolve)(A, b)\n",
    "    return dt\n",
    "\n",
    "exercise3(n=10)"
   ]
  },
  {
   "cell_type": "markdown",
   "metadata": {},
   "source": [
    "I ran another experiment to assess the time complexity of the sparse linear system solver. However, I evaluated linear systems of much larger size, ranging from 10,000 to 10,000,000. I measured the runtime of each call, the normalized runtime, and growth ratio. I then displayed these values in a table below."
   ]
  },
  {
   "cell_type": "code",
   "execution_count": 38,
   "metadata": {},
   "outputs": [
    {
     "name": "stdout",
     "output_type": "stream",
     "text": [
      "10000...100000...1000000...10000000...done\n"
     ]
    },
    {
     "data": {
      "text/html": [
       "<div>\n",
       "<style scoped>\n",
       "    .dataframe tbody tr th:only-of-type {\n",
       "        vertical-align: middle;\n",
       "    }\n",
       "\n",
       "    .dataframe tbody tr th {\n",
       "        vertical-align: top;\n",
       "    }\n",
       "\n",
       "    .dataframe thead th {\n",
       "        text-align: right;\n",
       "    }\n",
       "</style>\n",
       "<table border=\"1\" class=\"dataframe\">\n",
       "  <thead>\n",
       "    <tr style=\"text-align: right;\">\n",
       "      <th></th>\n",
       "      <th>dt</th>\n",
       "      <th>dt_n3</th>\n",
       "      <th>dt_ratio</th>\n",
       "    </tr>\n",
       "    <tr>\n",
       "      <th>n</th>\n",
       "      <th></th>\n",
       "      <th></th>\n",
       "      <th></th>\n",
       "    </tr>\n",
       "  </thead>\n",
       "  <tbody>\n",
       "    <tr>\n",
       "      <th>10000</th>\n",
       "      <td>0.005496</td>\n",
       "      <td>5.496264e-15</td>\n",
       "      <td>NaN</td>\n",
       "    </tr>\n",
       "    <tr>\n",
       "      <th>100000</th>\n",
       "      <td>0.053558</td>\n",
       "      <td>5.355835e-17</td>\n",
       "      <td>9.744502</td>\n",
       "    </tr>\n",
       "    <tr>\n",
       "      <th>1000000</th>\n",
       "      <td>0.725942</td>\n",
       "      <td>7.259417e-19</td>\n",
       "      <td>13.554220</td>\n",
       "    </tr>\n",
       "    <tr>\n",
       "      <th>10000000</th>\n",
       "      <td>7.382852</td>\n",
       "      <td>1.904849e-18</td>\n",
       "      <td>10.170035</td>\n",
       "    </tr>\n",
       "  </tbody>\n",
       "</table>\n",
       "</div>"
      ],
      "text/plain": [
       "                dt         dt_n3   dt_ratio\n",
       "n                                          \n",
       "10000     0.005496  5.496264e-15        NaN\n",
       "100000    0.053558  5.355835e-17   9.744502\n",
       "1000000   0.725942  7.259417e-19  13.554220\n",
       "10000000  7.382852  1.904849e-18  10.170035"
      ]
     },
     "execution_count": 38,
     "metadata": {},
     "output_type": "execute_result"
    }
   ],
   "source": [
    "data = []\n",
    "for n in [10000, 100000, 1000000, 10000000]:\n",
    "    print(n, end='...')\n",
    "    dt = exercise3(n)\n",
    "    data.append((n, dt))\n",
    "\n",
    "print('done')\n",
    "\n",
    "df = pd.DataFrame(data, columns=['n', 'dt'])\n",
    "df['dt_n3'] = df['dt'] / df['n']**3\n",
    "df['dt_ratio'] = df['dt'] / df['dt'].shift(1)\n",
    "df.set_index('n')"
   ]
  },
  {
   "cell_type": "markdown",
   "metadata": {},
   "source": [
    "The solution times for the sparse systems are much, much smaller than for the previous two methods. The largest system was solved in about 7.5 seconds, which is how long it took to solve a dense matrix that was almost a thousand times smaller using standard Gaussian elimination. The mean runtime growth factor was about 11 when increasing the system size by a factor of 10, which implies that solving a sparse matrix has nearly linear time complexity."
   ]
  },
  {
   "cell_type": "code",
   "execution_count": 41,
   "metadata": {},
   "outputs": [
    {
     "data": {
      "text/plain": [
       "11.156252189174246"
      ]
     },
     "execution_count": 41,
     "metadata": {},
     "output_type": "execute_result"
    }
   ],
   "source": [
    "df['dt_ratio'].mean()"
   ]
  },
  {
   "cell_type": "code",
   "execution_count": 42,
   "metadata": {},
   "outputs": [
    {
     "data": {
      "text/plain": [
       "<matplotlib.axes._subplots.AxesSubplot at 0x7f1754a95e48>"
      ]
     },
     "execution_count": 42,
     "metadata": {},
     "output_type": "execute_result"
    },
    {
     "data": {
      "image/png": "[encoded data removed]",
      "text/plain": [
       "<Figure size 432x288 with 1 Axes>"
      ]
     },
     "metadata": {
      "needs_background": "light"
     },
     "output_type": "display_data"
    }
   ],
   "source": [
    "df.plot(x='n')"
   ]
  },
  {
   "cell_type": "markdown",
   "metadata": {},
   "source": [
    "I created a copy `exercise3` below that solves the same matrix using the linear solution method that does not leverage the sparsity. I called the function on a system of size 10,240 and found that the runtime was about 7 seconds. The sparse solver was able to solve a matrix of similar size in less than 6 ms, which is a three order of magnitude improvement."
   ]
  },
  {
   "cell_type": "code",
   "execution_count": 43,
   "metadata": {},
   "outputs": [
    {
     "data": {
      "text/plain": [
       "7.275636434555054"
      ]
     },
     "execution_count": 43,
     "metadata": {},
     "output_type": "execute_result"
    }
   ],
   "source": [
    "def exercise3b(n):\n",
    "    A = gallery.dif2_matrix(n)\n",
    "    b = np.ones((n, 1))\n",
    "    x, dt = timer(np.linalg.solve)(A, b)\n",
    "    return dt\n",
    "\n",
    "exercise3b(n=10240)"
   ]
  },
  {
   "cell_type": "markdown",
   "metadata": {},
   "source": [
    "# Exercise 4 - Determinant vs. condition number\n",
    "\n",
    "The purpose of this exercise is to demonstrate why the determinant of a matrix is not a good indicator for whether we can accurately solve a linear system defined by that matrix. We will see that the condition number is a far better measure of how reliable our approximate solutions are for a given matrix.\n",
    "\n",
    "I defined a function `exercise4` which creates a matrix of a certain type and size and computes both its determinant and its condition number. Then, it creates a true solution for a system defined by the matrix and computes the righthand side using matrix multiplication. Next, an approximate solution for the system is computed by `np.linalg.solve` as well as the relative error of the approximate solution. The error, determinant, and condition number are then returned from the function."
   ]
  },
  {
   "cell_type": "code",
   "execution_count": 44,
   "metadata": {},
   "outputs": [],
   "source": [
    "def exercise4(n, matrix):\n",
    "    A = matrix(n)\n",
    "    d = np.linalg.det(A)\n",
    "    c = np.linalg.cond(A)\n",
    "    x = np.ones(n)\n",
    "    b = A @ x\n",
    "    xhat = np.linalg.solve(A, b)\n",
    "    e = norm(x-xhat) / norm(x)\n",
    "    return e, d, c"
   ]
  },
  {
   "cell_type": "markdown",
   "metadata": {},
   "source": [
    "I called this function with four different types of matrices and four different sizes of each matrix. I collected the outputs into a data frame and then displayed them in a table."
   ]
  },
  {
   "cell_type": "code",
   "execution_count": 45,
   "metadata": {},
   "outputs": [
    {
     "data": {
      "text/html": [
       "<div>\n",
       "<style scoped>\n",
       "    .dataframe tbody tr th:only-of-type {\n",
       "        vertical-align: middle;\n",
       "    }\n",
       "\n",
       "    .dataframe tbody tr th {\n",
       "        vertical-align: top;\n",
       "    }\n",
       "\n",
       "    .dataframe thead th {\n",
       "        text-align: right;\n",
       "    }\n",
       "</style>\n",
       "<table border=\"1\" class=\"dataframe\">\n",
       "  <thead>\n",
       "    <tr style=\"text-align: right;\">\n",
       "      <th></th>\n",
       "      <th></th>\n",
       "      <th>error</th>\n",
       "      <th>det</th>\n",
       "      <th>cond</th>\n",
       "    </tr>\n",
       "    <tr>\n",
       "      <th>matrix</th>\n",
       "      <th>n</th>\n",
       "      <th></th>\n",
       "      <th></th>\n",
       "      <th></th>\n",
       "    </tr>\n",
       "  </thead>\n",
       "  <tbody>\n",
       "    <tr>\n",
       "      <th rowspan=\"4\" valign=\"top\">dif2</th>\n",
       "      <th>5</th>\n",
       "      <td>4.965068e-17</td>\n",
       "      <td>6.000000e+00</td>\n",
       "      <td>1.392820e+01</td>\n",
       "    </tr>\n",
       "    <tr>\n",
       "      <th>10</th>\n",
       "      <td>3.510833e-17</td>\n",
       "      <td>1.100000e+01</td>\n",
       "      <td>4.837415e+01</td>\n",
       "    </tr>\n",
       "    <tr>\n",
       "      <th>15</th>\n",
       "      <td>2.866584e-17</td>\n",
       "      <td>1.600000e+01</td>\n",
       "      <td>1.030869e+02</td>\n",
       "    </tr>\n",
       "    <tr>\n",
       "      <th>20</th>\n",
       "      <td>3.933074e-16</td>\n",
       "      <td>2.100000e+01</td>\n",
       "      <td>1.780643e+02</td>\n",
       "    </tr>\n",
       "    <tr>\n",
       "      <th rowspan=\"4\" valign=\"top\">frank</th>\n",
       "      <th>5</th>\n",
       "      <td>4.506193e-15</td>\n",
       "      <td>1.000000e+00</td>\n",
       "      <td>6.474683e+02</td>\n",
       "    </tr>\n",
       "    <tr>\n",
       "      <th>10</th>\n",
       "      <td>2.004663e-11</td>\n",
       "      <td>1.000000e+00</td>\n",
       "      <td>2.854322e+07</td>\n",
       "    </tr>\n",
       "    <tr>\n",
       "      <th>15</th>\n",
       "      <td>1.352896e-05</td>\n",
       "      <td>1.000000e+00</td>\n",
       "      <td>1.371012e+13</td>\n",
       "    </tr>\n",
       "    <tr>\n",
       "      <th>20</th>\n",
       "      <td>6.239376e+01</td>\n",
       "      <td>1.000000e+00</td>\n",
       "      <td>5.247996e+17</td>\n",
       "    </tr>\n",
       "    <tr>\n",
       "      <th rowspan=\"4\" valign=\"top\">hilbert</th>\n",
       "      <th>5</th>\n",
       "      <td>1.807766e-11</td>\n",
       "      <td>3.749295e-12</td>\n",
       "      <td>4.766073e+05</td>\n",
       "    </tr>\n",
       "    <tr>\n",
       "      <th>10</th>\n",
       "      <td>4.170709e-04</td>\n",
       "      <td>2.164453e-53</td>\n",
       "      <td>1.602503e+13</td>\n",
       "    </tr>\n",
       "    <tr>\n",
       "      <th>15</th>\n",
       "      <td>4.214064e+00</td>\n",
       "      <td>-1.232108e-120</td>\n",
       "      <td>2.495952e+17</td>\n",
       "    </tr>\n",
       "    <tr>\n",
       "      <th>20</th>\n",
       "      <td>3.062749e+01</td>\n",
       "      <td>7.453419e-196</td>\n",
       "      <td>2.106531e+18</td>\n",
       "    </tr>\n",
       "    <tr>\n",
       "      <th rowspan=\"4\" valign=\"top\">pascal</th>\n",
       "      <th>5</th>\n",
       "      <td>0.000000e+00</td>\n",
       "      <td>1.000000e+00</td>\n",
       "      <td>8.517524e+03</td>\n",
       "    </tr>\n",
       "    <tr>\n",
       "      <th>10</th>\n",
       "      <td>1.117939e-07</td>\n",
       "      <td>1.000000e+00</td>\n",
       "      <td>4.155206e+09</td>\n",
       "    </tr>\n",
       "    <tr>\n",
       "      <th>15</th>\n",
       "      <td>5.447335e-02</td>\n",
       "      <td>1.000538e+00</td>\n",
       "      <td>2.839712e+15</td>\n",
       "    </tr>\n",
       "    <tr>\n",
       "      <th>20</th>\n",
       "      <td>1.572035e+03</td>\n",
       "      <td>2.782629e+01</td>\n",
       "      <td>2.246502e+21</td>\n",
       "    </tr>\n",
       "  </tbody>\n",
       "</table>\n",
       "</div>"
      ],
      "text/plain": [
       "                   error            det          cond\n",
       "matrix  n                                            \n",
       "dif2    5   4.965068e-17   6.000000e+00  1.392820e+01\n",
       "        10  3.510833e-17   1.100000e+01  4.837415e+01\n",
       "        15  2.866584e-17   1.600000e+01  1.030869e+02\n",
       "        20  3.933074e-16   2.100000e+01  1.780643e+02\n",
       "frank   5   4.506193e-15   1.000000e+00  6.474683e+02\n",
       "        10  2.004663e-11   1.000000e+00  2.854322e+07\n",
       "        15  1.352896e-05   1.000000e+00  1.371012e+13\n",
       "        20  6.239376e+01   1.000000e+00  5.247996e+17\n",
       "hilbert 5   1.807766e-11   3.749295e-12  4.766073e+05\n",
       "        10  4.170709e-04   2.164453e-53  1.602503e+13\n",
       "        15  4.214064e+00 -1.232108e-120  2.495952e+17\n",
       "        20  3.062749e+01  7.453419e-196  2.106531e+18\n",
       "pascal  5   0.000000e+00   1.000000e+00  8.517524e+03\n",
       "        10  1.117939e-07   1.000000e+00  4.155206e+09\n",
       "        15  5.447335e-02   1.000538e+00  2.839712e+15\n",
       "        20  1.572035e+03   2.782629e+01  2.246502e+21"
      ]
     },
     "execution_count": 45,
     "metadata": {},
     "output_type": "execute_result"
    }
   ],
   "source": [
    "data = []\n",
    "for m in ['dif2', 'frank', 'hilbert', 'pascal']:\n",
    "    matrix = getattr(gallery, f'{m}_matrix')\n",
    "    for n in [5, 10, 15, 20]:\n",
    "        e, d, c = exercise4(n, matrix)\n",
    "        data.append((m, n, e, d, c))\n",
    "        \n",
    "df = pd.DataFrame(data, columns=['matrix', 'n', 'error', 'det', 'cond'])\n",
    "df.set_index(['matrix', 'n'])"
   ]
  },
  {
   "cell_type": "markdown",
   "metadata": {},
   "source": [
    "To better analyze the results of this experiment, I also plotted the data below."
   ]
  },
  {
   "cell_type": "code",
   "execution_count": 46,
   "metadata": {},
   "outputs": [
    {
     "name": "stderr",
     "output_type": "stream",
     "text": [
      "/home/mtr22/anaconda3/lib/python3.7/site-packages/ipykernel_launcher.py:1: RuntimeWarning: invalid value encountered in log10\n",
      "  \"\"\"Entry point for launching an IPython kernel.\n",
      "/home/mtr22/anaconda3/lib/python3.7/site-packages/ipykernel_launcher.py:3: RuntimeWarning: divide by zero encountered in log10\n",
      "  This is separate from the ipykernel package so we can avoid doing imports until\n"
     ]
    },
    {
     "data": {
      "image/png": "[encoded data removed]",
      "text/plain": [
       "<Figure size 576x288 with 2 Axes>"
      ]
     },
     "metadata": {
      "needs_background": "light"
     },
     "output_type": "display_data"
    }
   ],
   "source": [
    "df['log_det'] = np.log10(df['det'])\n",
    "df['log_cond'] = np.log10(df['cond'].abs())\n",
    "df['log_error'] = np.log10(df['error'].abs())\n",
    "fig, axes = plt.subplots(1, 2, figsize=(8, 4))\n",
    "sns.scatterplot(data=df, x='log_det', y='log_error', hue='matrix', size='n', ax=axes[0])\n",
    "sns.scatterplot(data=df, x='log_cond', y='log_error', hue='matrix', size='n', ax=axes[1])\n",
    "handles, labels = axes[0].get_legend_handles_labels()\n",
    "axes[0].get_legend().remove()\n",
    "axes[1].get_legend().remove()\n",
    "fig.legend(handles, labels, loc='upper left', bbox_to_anchor=(1,0.95))\n",
    "fig.tight_layout()"
   ]
  },
  {
   "cell_type": "markdown",
   "metadata": {},
   "source": [
    "These scatter plots show the log error compared to the log absolute value of the determinant or the log of the condition number. The relationship between the error and the determinant is unclear. The Hilbert matrices are nearly singular and have large error, but the relationship is nonlinear. Furthermore, the Frank and Pascal matrices all have determinant of exactly 1, but their error increases with the size of the matrix.\n",
    "\n",
    "In contrast, there is a strong positive correlation between the log of the condition number and the log of the error, regardless of matrix type or size. This is clear evidence that condition number is a more useful indication of numerical solution accuracy than the determinant."
   ]
  },
  {
   "cell_type": "markdown",
   "metadata": {},
   "source": [
    "# Exercise 5 - LU decomposition\n",
    "\n",
    "In this exercise, the goal is to understand the implementation details of the LU decomposition and its relation to Gaussian elimination.\n",
    "\n",
    "I implemented a function `lu_factor(A)` that takes a square matrix $A$ as input and returns a lower triangular matrix $L$ and an upper triangular matrix $U$ such that $LU = A$. The algorithm is nearly identical to the row reduction algorithm which is the first half of Gaussian elimination."
   ]
  },
  {
   "cell_type": "code",
   "execution_count": 56,
   "metadata": {},
   "outputs": [
    {
     "data": {
      "text/plain": [
       "array([[2., 4.],\n",
       "       [1., 9.]])"
      ]
     },
     "execution_count": 56,
     "metadata": {},
     "output_type": "execute_result"
    }
   ],
   "source": [
    "def lu_factor(A):\n",
    "    \n",
    "    n = A.shape[0]\n",
    "    assert A.shape == (n, n)\n",
    "    \n",
    "    L = np.eye(n)\n",
    "    U = A.copy()\n",
    "    \n",
    "    # iterate over pivot rows\n",
    "    for i in range(n-1):\n",
    "\n",
    "        # check if pivot is zero\n",
    "        assert not np.isclose(U[i,i], 0), f'pivot {i} is zero'\n",
    "        \n",
    "        # compute and store multipliers in L\n",
    "        L[i+1:,i] = U[i+1:,i] / U[i,i]\n",
    "            \n",
    "        # perform row reductions on U below pivot\n",
    "        U[i+1:,i:] = U[i+1:,i:] - L[i+1:,i:i+1] * U[i:i+1,i:]\n",
    "\n",
    "    return L, U\n",
    "\n",
    "A = np.array([\n",
    "    [2, 4],\n",
    "    [1, 9]\n",
    "])\n",
    "L, U = lu_factor(A)\n",
    "L @ U"
   ]
  },
  {
   "cell_type": "markdown",
   "metadata": {},
   "source": [
    "# Exercise 5 - Testing LU decomposition\n",
    "\n",
    "The purpose of this exercise is to verify that my implementation of LU factorization works correctly on a set of test matrices.\n",
    "\n",
    "I wrote a function `exercise5` that creates a Hilbert matrix of a given size, then applies LU factorization to the matrix. The function returns that error as the norm of the difference between the original matrix and the product of L and U factors.\n",
    "\n",
    "I then called the function using matrix size 5 and found that the error was very near to zero, indicating that my `lu_factor` method works as expected."
   ]
  },
  {
   "cell_type": "code",
   "execution_count": 57,
   "metadata": {},
   "outputs": [
    {
     "data": {
      "text/plain": [
       "5.003707553108401e-17"
      ]
     },
     "execution_count": 57,
     "metadata": {},
     "output_type": "execute_result"
    }
   ],
   "source": [
    "def exercise5(n):\n",
    "    A = gallery.hilbert_matrix(n)\n",
    "    L, U = lu_factor(A)\n",
    "    return norm(A - L @ U)\n",
    "\n",
    "exercise5(n=5)"
   ]
  },
  {
   "cell_type": "markdown",
   "metadata": {},
   "source": [
    "# Exercise 6 - Failure cases of LU decomposition\n",
    "\n",
    "The purpose of this exercise is to examine and understand cases where the simple LU decomposition above can fail.\n",
    "\n",
    "I implemented the function `exercise6` below which creates an LULU matrix from the gallery of a specific size, prints its condition number and determinant, then tries to factor it with my LU decomposition function. After that it uses `scipy.linalg.lu` to decompose the matrix instead and prints the resulting factors, as well as the norm of the error between the original matrix and the product of the factors."
   ]
  },
  {
   "cell_type": "code",
   "execution_count": 58,
   "metadata": {},
   "outputs": [
    {
     "name": "stdout",
     "output_type": "stream",
     "text": [
      "A =\n",
      "[[-2.  1.  0.  0.  0.]\n",
      " [ 1.  0.  1. -2.  0.]\n",
      " [ 0.  0.  0.  1. -2.]\n",
      " [ 1. -2.  1.  0.  0.]\n",
      " [ 0.  1. -2.  1.  0.]]\n",
      "cond(A) = 15.4003\n",
      "det(A)  = -8.0000\n",
      "lu_factor failed: pivot 2 is zero\n",
      "P =\n",
      "[[1. 0. 0. 0. 0.]\n",
      " [0. 0. 0. 1. 0.]\n",
      " [0. 0. 0. 0. 1.]\n",
      " [0. 1. 0. 0. 0.]\n",
      " [0. 0. 1. 0. 0.]]\n",
      "LU =\n",
      "[[-2.  1.  0.  0.  0.]\n",
      " [ 1. -2.  1.  0.  0.]\n",
      " [ 0.  1. -2.  1.  0.]\n",
      " [ 1. -0.  1. -2.  0.]\n",
      " [ 0.  0.  0.  1. -2.]]\n",
      "PLU =\n",
      "[[-2.  1.  0.  0.  0.]\n",
      " [ 1. -0.  1. -2.  0.]\n",
      " [ 0.  0.  0.  1. -2.]\n",
      " [ 1. -2.  1.  0.  0.]\n",
      " [ 0.  1. -2.  1.  0.]]\n",
      "error = 1.1443916996305594e-16\n"
     ]
    }
   ],
   "source": [
    "def print_mat(**kwargs):\n",
    "    for k, v in kwargs.items():\n",
    "        print(f'{k} =\\n{v}')\n",
    "\n",
    "def exercise6(n):\n",
    "    \n",
    "    A = gallery.lulu_matrix(n)\n",
    "    print_mat(A=A)\n",
    "    \n",
    "    c = np.linalg.cond(A)\n",
    "    print(f'cond(A) = {c:.4f}')\n",
    "    \n",
    "    d = np.linalg.det(A)\n",
    "    print(f'det(A)  = {d:.4f}')\n",
    "    \n",
    "    try:\n",
    "        L, U = lu_factor(A)\n",
    "    except AssertionError as e:\n",
    "        print(f'lu_factor failed: {e}')\n",
    "\n",
    "    P, L, U = sp.linalg.lu(A)\n",
    "    \n",
    "    print_mat(P=P)\n",
    "    \n",
    "    LU = L @ U\n",
    "    print_mat(LU=np.round(LU))\n",
    "    \n",
    "    PLU = P @ LU\n",
    "    print_mat(PLU=np.round(PLU))\n",
    "    \n",
    "    e = norm(A - PLU)\n",
    "    print(f'error = {e}')\n",
    "    \n",
    "exercise6(n=5)"
   ]
  },
  {
   "cell_type": "markdown",
   "metadata": {},
   "source": [
    "The matrix we were trying to factor was not ill-conditioned or singular, as seen by its condition number of 15.4 and determinant of -8. However, it can be seen from the printout above that the `lu_factor` method failed because there was a pivot entry of zero at $U_{2,2}$. I did not implement any pivoting strategies, so there was no way to proceed without dividing by zero in the row reduction steps. Therfore, an exception was raised.\n",
    "\n",
    "The `scipy.linalg.lu` successfully factorized the matrix by applying pivoting in the form of an additional factor: the permutation matrix, $P$. The effect of multiplying by $P$ is to reorder the rows and/or columns of the matrix to move more optimal values into the pivot positions. This can be seen in the difference between the product matrices $LU$ and $PLU$, which have the same rows in different order. The error between the original matrix $A$ and the factor product $PLU$ is very close to zero, so the factorization was accurate."
   ]
  },
  {
   "cell_type": "markdown",
   "metadata": {},
   "source": [
    "# Exercise 7 - Permutation matrices\n",
    "\n",
    "The goal of this exercise is to investigate how permutation matrices can be used to manipulate the row or column order of matrices.\n",
    "\n",
    "For this part, I began by creating a magic matrix $A$ and two permutation matrices $P_1$ and $P_2$."
   ]
  },
  {
   "cell_type": "code",
   "execution_count": 59,
   "metadata": {},
   "outputs": [
    {
     "name": "stdout",
     "output_type": "stream",
     "text": [
      "A =\n",
      "[[16.  2.  3. 13.]\n",
      " [ 5. 11. 10.  8.]\n",
      " [ 9.  7.  6. 12.]\n",
      " [ 4. 14. 15.  1.]]\n",
      "P1 =\n",
      "[[1. 0. 0. 0.]\n",
      " [0. 0. 1. 0.]\n",
      " [0. 1. 0. 0.]\n",
      " [0. 0. 0. 1.]]\n",
      "P2 =\n",
      "[[1. 0. 0. 0.]\n",
      " [0. 0. 0. 1.]\n",
      " [0. 0. 1. 0.]\n",
      " [0. 1. 0. 0.]]\n"
     ]
    }
   ],
   "source": [
    "A = gallery.magic_matrix(4)\n",
    "print_mat(A=A)\n",
    "\n",
    "P1 = gallery.perm_matrix([0, 2, 1, 3])\n",
    "print_mat(P1=P1)\n",
    "\n",
    "P2 = gallery.perm_matrix([0, 3, 2, 1])\n",
    "print_mat(P2=P2)"
   ]
  },
  {
   "cell_type": "markdown",
   "metadata": {},
   "source": [
    "The matrix multiplication $P_1 A$ produces a matrix identical to $A$ with rows 1 and 2 swapped (using zero-based indexing), while $P_2 A$ produces a version of $A$ with rows 1 and 3 swapped."
   ]
  },
  {
   "cell_type": "code",
   "execution_count": 60,
   "metadata": {},
   "outputs": [
    {
     "name": "stdout",
     "output_type": "stream",
     "text": [
      "P1A =\n",
      "[[16.  2.  3. 13.]\n",
      " [ 9.  7.  6. 12.]\n",
      " [ 5. 11. 10.  8.]\n",
      " [ 4. 14. 15.  1.]]\n",
      "P2A =\n",
      "[[16.  2.  3. 13.]\n",
      " [ 4. 14. 15.  1.]\n",
      " [ 9.  7.  6. 12.]\n",
      " [ 5. 11. 10.  8.]]\n"
     ]
    }
   ],
   "source": [
    "P1A = P1 @ A\n",
    "print_mat(P1A=P1A)\n",
    "\n",
    "P2A = P2 @ A\n",
    "print_mat(P2A=P2A)"
   ]
  },
  {
   "cell_type": "markdown",
   "metadata": {},
   "source": [
    "The product $P_1^\\top P_1 A$ is equal to the matrix $A$, because the product $P_1^\\top P_1$ is equal to $I$. From this fact, we know that $P_1^\\top = P_1^{-1}$, which is true for permutation matrices in general."
   ]
  },
  {
   "cell_type": "code",
   "execution_count": 61,
   "metadata": {},
   "outputs": [
    {
     "name": "stdout",
     "output_type": "stream",
     "text": [
      "P1TP1A =\n",
      "[[16.  2.  3. 13.]\n",
      " [ 5. 11. 10.  8.]\n",
      " [ 9.  7.  6. 12.]\n",
      " [ 4. 14. 15.  1.]]\n",
      "P1TP1 =\n",
      "[[1. 0. 0. 0.]\n",
      " [0. 1. 0. 0.]\n",
      " [0. 0. 1. 0.]\n",
      " [0. 0. 0. 1.]]\n"
     ]
    }
   ],
   "source": [
    "P1TP1A = P1.T @ P1A\n",
    "print_mat(P1TP1A=P1TP1A)\n",
    "\n",
    "P1TP1 = P1.T @ P1\n",
    "print_mat(P1TP1=P1TP1)"
   ]
  },
  {
   "cell_type": "markdown",
   "metadata": {},
   "source": [
    "The matrix multiply $A P_1$ is identical to $A$ but with columns 1 and 2 swapped. In general, left-multiplying by a permutation matrix swaps rows, while right-multiplying swaps columns."
   ]
  },
  {
   "cell_type": "code",
   "execution_count": 62,
   "metadata": {},
   "outputs": [
    {
     "name": "stdout",
     "output_type": "stream",
     "text": [
      "AP1 =\n",
      "[[16.  3.  2. 13.]\n",
      " [ 5. 10. 11.  8.]\n",
      " [ 9.  6.  7. 12.]\n",
      " [ 4. 15. 14.  1.]]\n"
     ]
    }
   ],
   "source": [
    "AP1 = A @ P1\n",
    "print_mat(AP1=AP1)"
   ]
  },
  {
   "cell_type": "markdown",
   "metadata": {},
   "source": [
    "Multiple permutation matrices can be composed to reorder multiple rows or columns of a matrix in various ways. The product $P_1 P_2$ combines two row swaps in one, so that $P_1 P_2 A$ is equal to $A$ with rows 1 and 2 swapped, followed by rows 1 and 3 swapped (or vice versa)."
   ]
  },
  {
   "cell_type": "code",
   "execution_count": 63,
   "metadata": {},
   "outputs": [
    {
     "name": "stdout",
     "output_type": "stream",
     "text": [
      "P1P2 =\n",
      "[[1. 0. 0. 0.]\n",
      " [0. 0. 1. 0.]\n",
      " [0. 0. 0. 1.]\n",
      " [0. 1. 0. 0.]]\n",
      "P1P2A =\n",
      "[[16.  2.  3. 13.]\n",
      " [ 9.  7.  6. 12.]\n",
      " [ 4. 14. 15.  1.]\n",
      " [ 5. 11. 10.  8.]]\n"
     ]
    }
   ],
   "source": [
    "P1P2 = P1 @ P2\n",
    "print_mat(P1P2=P1P2)\n",
    "\n",
    "P1P2A = P1P2 @ A\n",
    "print_mat(P1P2A=P1P2A)"
   ]
  },
  {
   "cell_type": "markdown",
   "metadata": {},
   "source": [
    "# Exercise 8 - PLU decomposition\n",
    "\n",
    "The goal of this exercise is to extend the previous implementation of LU decomposition to handle zero pivots by using permutation matrices. For a given square matrix $A$, PLU decomposition finds a permutation matrix $P$, a lower triangular matrix $L$, and an upper triangular matrix $U$ such that $A = PLU$.\n",
    "\n",
    "I copied the `lu_factor` function from earlier and replaced the check for zero pivots with the application of the partial pivoting. Each iteration of the outer loop begins by finding the largest pivot entry in the current column, at or below the current row. If there is a larger pivot entry below the current position, the rows are swapped in the $U$ and $L$ matrices and the columns are swapped in the $P$ matrix."
   ]
  },
  {
   "cell_type": "code",
   "execution_count": 64,
   "metadata": {},
   "outputs": [
    {
     "name": "stdout",
     "output_type": "stream",
     "text": [
      "A =\n",
      "[[1. 1. 1.]\n",
      " [1. 2. 3.]\n",
      " [1. 3. 6.]]\n",
      "P =\n",
      "[[1. 0. 0.]\n",
      " [0. 0. 1.]\n",
      " [0. 1. 0.]]\n",
      "L =\n",
      "[[1.  0.  0. ]\n",
      " [1.  1.  0. ]\n",
      " [1.  0.5 1. ]]\n",
      "U =\n",
      "[[ 1.   1.   1. ]\n",
      " [ 0.   2.   5. ]\n",
      " [ 0.   0.  -0.5]]\n",
      "PLU =\n",
      "[[1. 1. 1.]\n",
      " [1. 2. 3.]\n",
      " [1. 3. 6.]]\n"
     ]
    },
    {
     "data": {
      "text/plain": [
       "0.0"
      ]
     },
     "execution_count": 64,
     "metadata": {},
     "output_type": "execute_result"
    }
   ],
   "source": [
    "def plu_factor(A):\n",
    "    '''\n",
    "    Factorize the matrix A into a permutation\n",
    "    matrix, a lower triangular matrix, and an\n",
    "    upper triangular matrix.\n",
    "\n",
    "    Args:\n",
    "        A: N x N matrix.\n",
    "    Returns\n",
    "        P: N x N permutation matrix.\n",
    "        L: N x N lower triangular matrix.\n",
    "        U: N x N upper triangular matrix.\n",
    "    '''\n",
    "    # check input shape\n",
    "    n = A.shape[0]\n",
    "    assert A.shape == (n, n)\n",
    "    \n",
    "    P = np.eye(n)\n",
    "    L = np.eye(n)\n",
    "    U = A.copy()\n",
    "    \n",
    "    # iterate over pivot rows/columns\n",
    "    for i in range(n-1):\n",
    "\n",
    "        # find largest entry below pivot\n",
    "        p = i + np.argmax(np.abs(U[i:,i]))\n",
    "        \n",
    "        if p > i: # swap rows i and p\n",
    "            U[[i,p],:]  = U[[p,i],:]\n",
    "            L[[i,p],:i] = L[[p,i],:i]\n",
    "            P[:,[i,p]]  = P[:,[p,i]]\n",
    "\n",
    "        # compute and store multipliers in L\n",
    "        L[i+1:,i] = U[i+1:,i] / U[i,i]\n",
    "            \n",
    "        # perform row reductions on U below pivot\n",
    "        U[i+1:,i:] = U[i+1:,i:] - L[i+1:,i:i+1] * U[i:i+1,i:]\n",
    "\n",
    "    return P, L, U\n",
    "\n",
    "A = gallery.pascal_matrix(3)\n",
    "P, L, U = plu_factor(A)\n",
    "PLU = P@L@U\n",
    "print_mat(A=A, P=P, L=L, U=U, PLU=PLU)\n",
    "norm(A - PLU)"
   ]
  },
  {
   "cell_type": "markdown",
   "metadata": {},
   "source": [
    "Next, I defined the function `exercise8(n, matrix)` which create a matrix of the given size and type, then performs PLU factorization. It computes the error between the product of the factors and the original matrix and returns the norm of the error."
   ]
  },
  {
   "cell_type": "code",
   "execution_count": 65,
   "metadata": {},
   "outputs": [],
   "source": [
    "def exercise8(n, matrix):\n",
    "    A = matrix(n)\n",
    "    P, L, U = plu_factor(A)\n",
    "    PLU = P@L@U\n",
    "    e = norm(A - PLU)\n",
    "    return e"
   ]
  },
  {
   "cell_type": "markdown",
   "metadata": {},
   "source": [
    "I performed a numerical evaluation using these methods on five different matrix types with sizes 5, 10 and 20. I recorded the error of each factorization and displayed them in a table."
   ]
  },
  {
   "cell_type": "code",
   "execution_count": 66,
   "metadata": {},
   "outputs": [
    {
     "data": {
      "text/html": [
       "<div>\n",
       "<style scoped>\n",
       "    .dataframe tbody tr th:only-of-type {\n",
       "        vertical-align: middle;\n",
       "    }\n",
       "\n",
       "    .dataframe tbody tr th {\n",
       "        vertical-align: top;\n",
       "    }\n",
       "\n",
       "    .dataframe thead th {\n",
       "        text-align: right;\n",
       "    }\n",
       "</style>\n",
       "<table border=\"1\" class=\"dataframe\">\n",
       "  <thead>\n",
       "    <tr style=\"text-align: right;\">\n",
       "      <th></th>\n",
       "      <th></th>\n",
       "      <th>error</th>\n",
       "    </tr>\n",
       "    <tr>\n",
       "      <th>matrix</th>\n",
       "      <th>n</th>\n",
       "      <th></th>\n",
       "    </tr>\n",
       "  </thead>\n",
       "  <tbody>\n",
       "    <tr>\n",
       "      <th rowspan=\"3\" valign=\"top\">dif2</th>\n",
       "      <th>5</th>\n",
       "      <td>0.000000e+00</td>\n",
       "    </tr>\n",
       "    <tr>\n",
       "      <th>10</th>\n",
       "      <td>0.000000e+00</td>\n",
       "    </tr>\n",
       "    <tr>\n",
       "      <th>20</th>\n",
       "      <td>0.000000e+00</td>\n",
       "    </tr>\n",
       "    <tr>\n",
       "      <th rowspan=\"3\" valign=\"top\">pascal</th>\n",
       "      <th>5</th>\n",
       "      <td>0.000000e+00</td>\n",
       "    </tr>\n",
       "    <tr>\n",
       "      <th>10</th>\n",
       "      <td>1.021636e-11</td>\n",
       "    </tr>\n",
       "    <tr>\n",
       "      <th>20</th>\n",
       "      <td>1.333713e-05</td>\n",
       "    </tr>\n",
       "    <tr>\n",
       "      <th rowspan=\"3\" valign=\"top\">lulu</th>\n",
       "      <th>5</th>\n",
       "      <td>2.775558e-17</td>\n",
       "    </tr>\n",
       "    <tr>\n",
       "      <th>10</th>\n",
       "      <td>2.775558e-17</td>\n",
       "    </tr>\n",
       "    <tr>\n",
       "      <th>20</th>\n",
       "      <td>2.775558e-17</td>\n",
       "    </tr>\n",
       "  </tbody>\n",
       "</table>\n",
       "</div>"
      ],
      "text/plain": [
       "                  error\n",
       "matrix n               \n",
       "dif2   5   0.000000e+00\n",
       "       10  0.000000e+00\n",
       "       20  0.000000e+00\n",
       "pascal 5   0.000000e+00\n",
       "       10  1.021636e-11\n",
       "       20  1.333713e-05\n",
       "lulu   5   2.775558e-17\n",
       "       10  2.775558e-17\n",
       "       20  2.775558e-17"
      ]
     },
     "execution_count": 66,
     "metadata": {},
     "output_type": "execute_result"
    }
   ],
   "source": [
    "data = []\n",
    "for m in ['dif2', 'pascal', 'lulu']:\n",
    "    matrix = getattr(gallery, f'{m}_matrix')\n",
    "    for n in [5, 10, 20]:\n",
    "        e = exercise8(n, matrix)\n",
    "        data.append((m, n, e))\n",
    "    \n",
    "df = pd.DataFrame(data, columns=['matrix', 'n', 'error'])\n",
    "df.set_index(['matrix', 'n'])"
   ]
  },
  {
   "cell_type": "markdown",
   "metadata": {},
   "source": [
    "The error was very low for every matrix. The one outlier was the Pascal matrix of size 20, which had an error fo 1.3e-5. The other matrices had an error close to the machine epsilon, so the PLU decomposition method is quite accurate."
   ]
  },
  {
   "cell_type": "code",
   "execution_count": 67,
   "metadata": {},
   "outputs": [
    {
     "data": {
      "text/plain": [
       "2.7755575615628914e-17"
      ]
     },
     "execution_count": 67,
     "metadata": {},
     "output_type": "execute_result"
    }
   ],
   "source": [
    "df['error'].median()"
   ]
  },
  {
   "cell_type": "markdown",
   "metadata": {},
   "source": [
    "# Exercise 9 - PLU solution\n",
    "\n",
    "The objective of this exercise is to use PLU decomposition to solve linear systems by breaking them down into simpler systems. Given a linear system and PLU decomposition:\n",
    "\n",
    "$$\n",
    "\\begin{align}\n",
    "    Ax &= b \\\\\n",
    "    A &= PLU \\\\\n",
    "    PLUx &= b\n",
    "\\end{align}\n",
    "$$\n",
    "\n",
    "We can break the problem down into the solution of three simpler linear systems:\n",
    "\n",
    "$$\n",
    "\\begin{align}\n",
    "    Pz &= b \\\\\n",
    "    Ly &= z \\\\\n",
    "    Ux &= y\n",
    "\\end{align}\n",
    "$$\n",
    "\n",
    "And we can solve these simpler systems very easily using the properties of the matrices. For example, $z = P^\\top b$ because $P^\\top = P^{-1}$ is a property of permutation matrices. The other two matrices can be solved in $O(n^2)$ time with forward- or back-substitution because they are triangular, so there is no need for row reduction.\n",
    "\n",
    "We will implement this method of solving linear systems by considering the following example system, along with its PLU factorization and intermediate PLU solution vectors, as a test case."
   ]
  },
  {
   "cell_type": "code",
   "execution_count": 68,
   "metadata": {},
   "outputs": [],
   "source": [
    "# example linear system\n",
    "\n",
    "A = np.array([\n",
    "    [2, 6, 12],\n",
    "    [1, 3,  8],\n",
    "    [4, 4,  8]\n",
    "])\n",
    "b = np.array([28, 18, 16])\n",
    "\n",
    "# PLU factorization\n",
    "\n",
    "P = np.array([\n",
    "    [0, 1, 0],\n",
    "    [0, 0, 1],\n",
    "    [1, 0, 0]\n",
    "])\n",
    "L = np.array([\n",
    "    [1.00, 0.0, 0.],\n",
    "    [0.50, 1.0, 0.],\n",
    "    [0.25, 0.5, 1.]\n",
    "])\n",
    "U = np.array([\n",
    "    [4, 4, 8],\n",
    "    [0, 4, 8],\n",
    "    [0, 0, 2]\n",
    "])\n",
    "\n",
    "# solution vectors\n",
    "\n",
    "z = np.array([16, 28, 18])\n",
    "y = np.array([16, 20,  4])\n",
    "x = np.array([-1,  1,  2])"
   ]
  },
  {
   "cell_type": "markdown",
   "metadata": {},
   "source": [
    "First, I defined a function `p_solve(P, b)` which solves the linear system $Pz = b$ given a permutation matrix $P$ and righthand side $b$. The solution is simply $P^\\top b$. I verified this using the example system, in which there is zero error in the generated solution."
   ]
  },
  {
   "cell_type": "code",
   "execution_count": 69,
   "metadata": {},
   "outputs": [
    {
     "data": {
      "text/plain": [
       "0.0"
      ]
     },
     "execution_count": 69,
     "metadata": {},
     "output_type": "execute_result"
    }
   ],
   "source": [
    "def p_solve(P, b):\n",
    "    '''\n",
    "    Solve Pz = b, where P is\n",
    "    a permutation matrix.\n",
    "    '''\n",
    "    # check input shapes\n",
    "    n = P.shape[0]\n",
    "    assert P.shape == (n, n)\n",
    "    assert b.shape == (n,)\n",
    "    \n",
    "    return P.T @ b\n",
    "\n",
    "norm(z - p_solve(P, b))"
   ]
  },
  {
   "cell_type": "markdown",
   "metadata": {},
   "source": [
    "Next, I defined a function `l_solve(L, z)` that solves the linear system $Ly = z$ given a lower triangular matrix $L$ and a righthand side $z$. It uses a forward substitution approach. I verified that the error of the computed solution is very low on the example problem."
   ]
  },
  {
   "cell_type": "code",
   "execution_count": 70,
   "metadata": {},
   "outputs": [
    {
     "data": {
      "text/plain": [
       "0.0"
      ]
     },
     "execution_count": 70,
     "metadata": {},
     "output_type": "execute_result"
    }
   ],
   "source": [
    "def l_solve(L, z):\n",
    "    '''\n",
    "    Solve Ly = z, where L is\n",
    "    a lower triangular matrix.\n",
    "    '''\n",
    "    # check input shapes\n",
    "    n = L.shape[0]\n",
    "    assert L.shape == (n, n)\n",
    "    assert z.shape == (n,)\n",
    "\n",
    "    y = z.copy()\n",
    "    for i in range(n):\n",
    "        y[i] -= L[i,:i] @ y[:i]\n",
    "\n",
    "    return y\n",
    "\n",
    "norm(y - l_solve(L, z))"
   ]
  },
  {
   "cell_type": "markdown",
   "metadata": {},
   "source": [
    "Thirdly, I defined a function `u_solve(U, y)` that solves the linear system $Ux = y$ given an upper triangular matrix $U$ and righthand side $y$. This is similar to the previous method, but uses back-substitution. Again, I verified that the error is neglibile on the example problem."
   ]
  },
  {
   "cell_type": "code",
   "execution_count": 71,
   "metadata": {},
   "outputs": [
    {
     "data": {
      "text/plain": [
       "0.0"
      ]
     },
     "execution_count": 71,
     "metadata": {},
     "output_type": "execute_result"
    }
   ],
   "source": [
    "def u_solve(U, y):\n",
    "    '''\n",
    "    Solve Ux = y, where U is\n",
    "    an upper triangular matrix.\n",
    "    '''\n",
    "    # check input shapes\n",
    "    n = U.shape[0]\n",
    "    assert U.shape == (n, n)\n",
    "    assert y.shape == (n,)\n",
    "\n",
    "    x = y.copy()\n",
    "    for i in reversed(range(n)):\n",
    "        x[i] -= U[i,i+1:] @ x[i+1:]\n",
    "        x[i] /= U[i,i]\n",
    "\n",
    "    return x\n",
    "\n",
    "norm(x - u_solve(U, y))"
   ]
  },
  {
   "cell_type": "markdown",
   "metadata": {},
   "source": [
    "Finally, I put all these solution methods together into a single function `plu_solve(A, b)`. The function first uses `plu_factor(A)` to obtain a $PLU$ decomposition of the matrix $A$. Then it uses `p_solve(P, b)` to solve the equation $Pz=b$ for $z$. Next it uses `l_solve(L, z)` to solve the equation $Ly=z$ for $y$. Thirdly it uses `u_solve(U, y)` to solve the equation $Ux = y$ for $x$, which is the solution to the original problem $Ax=b$. I verified that this method works by using it to solve the example problem, where it produced an error norm around zero."
   ]
  },
  {
   "cell_type": "code",
   "execution_count": 72,
   "metadata": {},
   "outputs": [
    {
     "data": {
      "text/plain": [
       "0.0"
      ]
     },
     "execution_count": 72,
     "metadata": {},
     "output_type": "execute_result"
    }
   ],
   "source": [
    "def plu_solve(A, b):\n",
    "    '''\n",
    "    Solve Ax = b using\n",
    "    PLU decomposition.\n",
    "    '''\n",
    "    P, L, U = plu_factor(A)\n",
    "    z = p_solve(P, b)\n",
    "    y = l_solve(L, z)\n",
    "    x = u_solve(U, y)\n",
    "    return x\n",
    "\n",
    "norm(x - plu_solve(A, b))"
   ]
  },
  {
   "cell_type": "markdown",
   "metadata": {},
   "source": [
    "# Exercise 10 - Testing PLU solution\n",
    "\n",
    "The goal of this exercise is to evaluate the `plu_solve` function on a variety of matrix types to verify its correctness.\n",
    "\n",
    "I wrote a function `exercise10(n, matrix)` that uses the PLU solution method to solve a linear system of the given size and type. It then computes the relative residual and error and returns them from the function."
   ]
  },
  {
   "cell_type": "code",
   "execution_count": 80,
   "metadata": {},
   "outputs": [],
   "source": [
    "def exercise10(n, matrix):\n",
    "    A = matrix(n)\n",
    "    x = np.arange(n)\n",
    "    b = A @ x\n",
    "    xhat = plu_solve(A, b)\n",
    "    r = norm(b - A @ xhat) / norm(b)\n",
    "    e = norm(x - xhat) / norm(x)\n",
    "    return r, e"
   ]
  },
  {
   "cell_type": "markdown",
   "metadata": {},
   "source": [
    "I experimented with solving four differenty types of matrices of size 5 using the PLU factorization method. For each system, I collected the parameters, residuals, and errors into a data frame, which I then printed as a table."
   ]
  },
  {
   "cell_type": "code",
   "execution_count": 81,
   "metadata": {},
   "outputs": [
    {
     "data": {
      "text/html": [
       "<div>\n",
       "<style scoped>\n",
       "    .dataframe tbody tr th:only-of-type {\n",
       "        vertical-align: middle;\n",
       "    }\n",
       "\n",
       "    .dataframe tbody tr th {\n",
       "        vertical-align: top;\n",
       "    }\n",
       "\n",
       "    .dataframe thead th {\n",
       "        text-align: right;\n",
       "    }\n",
       "</style>\n",
       "<table border=\"1\" class=\"dataframe\">\n",
       "  <thead>\n",
       "    <tr style=\"text-align: right;\">\n",
       "      <th></th>\n",
       "      <th></th>\n",
       "      <th>residual</th>\n",
       "      <th>error</th>\n",
       "    </tr>\n",
       "    <tr>\n",
       "      <th>matrix</th>\n",
       "      <th>n</th>\n",
       "      <th></th>\n",
       "      <th></th>\n",
       "    </tr>\n",
       "  </thead>\n",
       "  <tbody>\n",
       "    <tr>\n",
       "      <th>dif2</th>\n",
       "      <th>5</th>\n",
       "      <td>6.531979e-17</td>\n",
       "      <td>4.644396e-17</td>\n",
       "    </tr>\n",
       "    <tr>\n",
       "      <th>frank</th>\n",
       "      <th>5</th>\n",
       "      <td>0.000000e+00</td>\n",
       "      <td>7.338817e-15</td>\n",
       "    </tr>\n",
       "    <tr>\n",
       "      <th>hilbert</th>\n",
       "      <th>5</th>\n",
       "      <td>1.032255e-16</td>\n",
       "      <td>1.055664e-11</td>\n",
       "    </tr>\n",
       "    <tr>\n",
       "      <th>pascal</th>\n",
       "      <th>5</th>\n",
       "      <td>0.000000e+00</td>\n",
       "      <td>0.000000e+00</td>\n",
       "    </tr>\n",
       "  </tbody>\n",
       "</table>\n",
       "</div>"
      ],
      "text/plain": [
       "               residual         error\n",
       "matrix  n                            \n",
       "dif2    5  6.531979e-17  4.644396e-17\n",
       "frank   5  0.000000e+00  7.338817e-15\n",
       "hilbert 5  1.032255e-16  1.055664e-11\n",
       "pascal  5  0.000000e+00  0.000000e+00"
      ]
     },
     "execution_count": 81,
     "metadata": {},
     "output_type": "execute_result"
    }
   ],
   "source": [
    "data = []\n",
    "for m in ['dif2', 'frank', 'hilbert', 'pascal']:\n",
    "    matrix = getattr(gallery, f'{m}_matrix')\n",
    "    for n in [5]:\n",
    "        r, e = exercise10(n, matrix)\n",
    "        data.append((m, n, r, e))\n",
    "        \n",
    "df = pd.DataFrame(data, columns=['matrix', 'n', 'residual', 'error'])\n",
    "df.set_index(['matrix', 'n'])"
   ]
  },
  {
   "cell_type": "markdown",
   "metadata": {},
   "source": [
    "My PLU solution method achieved a very low relative residual and error on all four of the matrix types that I evaluated. This further supports that my implementation is correct and that the PLU decomposition is a versatile tool for numerical linear algebra."
   ]
  }
 ],
 "metadata": {
  "kernelspec": {
   "display_name": "Python 3",
   "language": "python",
   "name": "python3"
  },
  "language_info": {
   "codemirror_mode": {
    "name": "ipython",
    "version": 3
   },
   "file_extension": ".py",
   "mimetype": "text/x-python",
   "name": "python",
   "nbconvert_exporter": "python",
   "pygments_lexer": "ipython3",
   "version": "3.7.0"
  }
 },
 "nbformat": 4,
 "nbformat_minor": 2
}
